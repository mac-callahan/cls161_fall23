{
 "cells": [
  {
   "cell_type": "markdown",
   "id": "9ca07b59",
   "metadata": {},
   "source": [
    "# Chapter 3 Python Exercises"
   ]
  },
  {
   "cell_type": "markdown",
   "id": "4184ca9b",
   "metadata": {},
   "source": [
    "## 3.1"
   ]
  },
  {
   "cell_type": "code",
   "execution_count": 1,
   "id": "a41cf7fe",
   "metadata": {},
   "outputs": [],
   "source": [
    "names = ['Lena', 'Sanjana', 'Tyler', 'Greg', 'John']"
   ]
  },
  {
   "cell_type": "code",
   "execution_count": 2,
   "id": "c476b35c",
   "metadata": {},
   "outputs": [
    {
     "name": "stdout",
     "output_type": "stream",
     "text": [
      "Lena\n",
      "Sanjana\n",
      "Tyler\n",
      "Greg\n",
      "John\n"
     ]
    }
   ],
   "source": [
    "print(names[0])\n",
    "print(names[1])\n",
    "print(names[2])\n",
    "print(names[3])\n",
    "print(names[4])"
   ]
  },
  {
   "cell_type": "markdown",
   "id": "ab2c9d63",
   "metadata": {},
   "source": [
    "## 3.2"
   ]
  },
  {
   "cell_type": "code",
   "execution_count": 3,
   "id": "b76b3dd9",
   "metadata": {},
   "outputs": [],
   "source": [
    "message = \", what did you eat for breakfast today?\""
   ]
  },
  {
   "cell_type": "code",
   "execution_count": 4,
   "id": "64f0324a",
   "metadata": {},
   "outputs": [
    {
     "name": "stdout",
     "output_type": "stream",
     "text": [
      "Lena, what did you eat for breakfast today?\n",
      "Sanjana, what did you eat for breakfast today?\n",
      "Tyler, what did you eat for breakfast today?\n",
      "Greg, what did you eat for breakfast today?\n",
      "John, what did you eat for breakfast today?\n"
     ]
    }
   ],
   "source": [
    "print(names[0] + message)\n",
    "print(names[1] + message)\n",
    "print(names[2] + message)\n",
    "print(names[3] + message)\n",
    "print(names[4] + message)"
   ]
  },
  {
   "cell_type": "markdown",
   "id": "e299e28f",
   "metadata": {},
   "source": [
    "## 3.3"
   ]
  },
  {
   "cell_type": "code",
   "execution_count": 5,
   "id": "d52304c6",
   "metadata": {},
   "outputs": [],
   "source": [
    "cars = [\"Toyota\", \"Chrysler\", \"Ford\", \"Hyundai\"]"
   ]
  },
  {
   "cell_type": "code",
   "execution_count": 6,
   "id": "f059d9e9",
   "metadata": {},
   "outputs": [
    {
     "name": "stdout",
     "output_type": "stream",
     "text": [
      "I would like to own a Toyota car.\n",
      "I would like to own a Chrysler car.\n",
      "I would like to own a Ford car.\n",
      "I would like to own a Hyundai car.\n"
     ]
    }
   ],
   "source": [
    "print(\"I would like to own a \" + cars[0] + \" car.\")\n",
    "print(\"I would like to own a \" + cars[1] + \" car.\")\n",
    "print(\"I would like to own a \" + cars[2] + \" car.\")\n",
    "print(\"I would like to own a \" + cars[3] + \" car.\")"
   ]
  },
  {
   "cell_type": "markdown",
   "id": "42352bfa",
   "metadata": {},
   "source": [
    "## 3.4"
   ]
  },
  {
   "cell_type": "code",
   "execution_count": 1,
   "id": "6cde411c",
   "metadata": {},
   "outputs": [],
   "source": [
    "people = [\"FDR\", \"Greta Thunberg\", \"Donatella Versace\"]"
   ]
  },
  {
   "cell_type": "code",
   "execution_count": 2,
   "id": "a31c95b3",
   "metadata": {},
   "outputs": [
    {
     "name": "stdout",
     "output_type": "stream",
     "text": [
      "Dear FDR, you are cordially invited to my dinner party!\n"
     ]
    }
   ],
   "source": [
    "print(\"Dear \" + people[0] + \", you are cordially invited to my dinner party!\")"
   ]
  },
  {
   "cell_type": "code",
   "execution_count": 3,
   "id": "52b5fc80",
   "metadata": {},
   "outputs": [
    {
     "name": "stdout",
     "output_type": "stream",
     "text": [
      "Dear Greta Thunberg, you are cordially invited to my dinner party!\n"
     ]
    }
   ],
   "source": [
    "print(\"Dear \" + people[1] + \", you are cordially invited to my dinner party!\")"
   ]
  },
  {
   "cell_type": "code",
   "execution_count": 4,
   "id": "641dc8c7",
   "metadata": {},
   "outputs": [
    {
     "name": "stdout",
     "output_type": "stream",
     "text": [
      "Dear Donatella Versace, you are cordially invited to my dinner party!\n"
     ]
    }
   ],
   "source": [
    "print(\"Dear \" + people[2] + \", you are cordially invited to my dinner party!\")"
   ]
  },
  {
   "cell_type": "code",
   "execution_count": 5,
   "id": "299eb5ff",
   "metadata": {},
   "outputs": [
    {
     "name": "stdout",
     "output_type": "stream",
     "text": [
      "Sorry to hear you can't come, FDR\n"
     ]
    }
   ],
   "source": [
    "print(\"Sorry to hear you can't come, \" + people[0])"
   ]
  },
  {
   "cell_type": "markdown",
   "id": "6f5d2998",
   "metadata": {},
   "source": [
    "## 3.5"
   ]
  },
  {
   "cell_type": "code",
   "execution_count": 6,
   "id": "d6b983a9",
   "metadata": {},
   "outputs": [],
   "source": [
    "people.remove(\"FDR\")"
   ]
  },
  {
   "cell_type": "code",
   "execution_count": 7,
   "id": "9f8466af",
   "metadata": {},
   "outputs": [],
   "source": [
    "people.insert(0, \"Beyonce\")"
   ]
  },
  {
   "cell_type": "code",
   "execution_count": 8,
   "id": "32c0bade",
   "metadata": {},
   "outputs": [
    {
     "name": "stdout",
     "output_type": "stream",
     "text": [
      "Dear Beyonce, you are cordially invited to my dinner party!\n",
      "Dear Greta Thunberg, you are cordially invited to my dinner party!\n",
      "Dear Donatella Versace, you are cordially invited to my dinner party!\n"
     ]
    }
   ],
   "source": [
    "print(\"Dear \" + people[0] + \", you are cordially invited to my dinner party!\")\n",
    "print(\"Dear \" + people[1] + \", you are cordially invited to my dinner party!\")\n",
    "print(\"Dear \" + people[2] + \", you are cordially invited to my dinner party!\")"
   ]
  },
  {
   "cell_type": "code",
   "execution_count": 9,
   "id": "763d6389",
   "metadata": {},
   "outputs": [
    {
     "name": "stdout",
     "output_type": "stream",
     "text": [
      "Hey Beyonce, Greta Thunberg, and Donatella Versace, I found us a bigger dinner table!\n"
     ]
    }
   ],
   "source": [
    "print(\"Hey \" + people[0] + \", \" + people[1] + \", and \" + people[2] + \", I found us a bigger dinner table!\")"
   ]
  },
  {
   "cell_type": "markdown",
   "id": "b762d88a",
   "metadata": {},
   "source": [
    "## 3.6"
   ]
  },
  {
   "cell_type": "code",
   "execution_count": 10,
   "id": "8350fa8b",
   "metadata": {},
   "outputs": [],
   "source": [
    "people.insert(0, \"Nick Jonas\")\n",
    "people.insert(2, \"Jane Goodall\")\n",
    "people.append(\"Ansel Adams\")"
   ]
  },
  {
   "cell_type": "code",
   "execution_count": 11,
   "id": "33642d03",
   "metadata": {},
   "outputs": [
    {
     "name": "stdout",
     "output_type": "stream",
     "text": [
      "Dear Nick Jonas, you are cordially invited to my dinner party!\n",
      "Dear Beyonce, you are cordially invited to my dinner party!\n",
      "Dear Jane Goodall, you are cordially invited to my dinner party!\n",
      "Dear Greta Thunberg, you are cordially invited to my dinner party!\n",
      "Dear Donatella Versace, you are cordially invited to my dinner party!\n",
      "Dear Ansel Adams, you are cordially invited to my dinner party!\n"
     ]
    }
   ],
   "source": [
    "print(\"Dear \" + people[0] + \", you are cordially invited to my dinner party!\")\n",
    "print(\"Dear \" + people[1] + \", you are cordially invited to my dinner party!\")\n",
    "print(\"Dear \" + people[2] + \", you are cordially invited to my dinner party!\")\n",
    "print(\"Dear \" + people[3] + \", you are cordially invited to my dinner party!\")\n",
    "print(\"Dear \" + people[4] + \", you are cordially invited to my dinner party!\")\n",
    "print(\"Dear \" + people[5] + \", you are cordially invited to my dinner party!\")"
   ]
  },
  {
   "cell_type": "code",
   "execution_count": 12,
   "id": "2c5b3a3b",
   "metadata": {},
   "outputs": [
    {
     "name": "stdout",
     "output_type": "stream",
     "text": [
      "Sorry I can only invite two people for dinner now!\n"
     ]
    }
   ],
   "source": [
    "print(\"Sorry I can only invite two people for dinner now!\")"
   ]
  },
  {
   "cell_type": "markdown",
   "id": "ef07a1f2",
   "metadata": {},
   "source": [
    "## 3.7"
   ]
  },
  {
   "cell_type": "code",
   "execution_count": 13,
   "id": "8301ec37",
   "metadata": {},
   "outputs": [
    {
     "name": "stdout",
     "output_type": "stream",
     "text": [
      "Sorry, Ansel Adams you didn't make the cut for my dinner party this week.\n",
      "Sorry, Donatella Versace you didn't make the cut for my dinner party this week.\n",
      "Sorry, Greta Thunberg you didn't make the cut for my dinner party this week.\n",
      "Sorry, Jane Goodall you didn't make the cut for my dinner party this week.\n"
     ]
    }
   ],
   "source": [
    "uninvited = people.pop()\n",
    "print(\"Sorry, \" + uninvited + \" you didn't make the cut for my dinner party this week.\")\n",
    "uninvited = people.pop()\n",
    "print(\"Sorry, \" + uninvited + \" you didn't make the cut for my dinner party this week.\")\n",
    "uninvited = people.pop()\n",
    "print(\"Sorry, \" + uninvited + \" you didn't make the cut for my dinner party this week.\")\n",
    "uninvited = people.pop()\n",
    "print(\"Sorry, \" + uninvited + \" you didn't make the cut for my dinner party this week.\")"
   ]
  },
  {
   "cell_type": "code",
   "execution_count": 14,
   "id": "f00c9da5",
   "metadata": {},
   "outputs": [
    {
     "name": "stdout",
     "output_type": "stream",
     "text": [
      "Nick Jonas: you are still invited to my dinner party.\n",
      "Beyonce: you are still invited to my dinner party.\n",
      "[]\n"
     ]
    }
   ],
   "source": [
    "print(people[0] + \": you are still invited to my dinner party.\")\n",
    "print(people[1] + \": you are still invited to my dinner party.\")\n",
    "del people[1]\n",
    "del people[0]\n",
    "print(people)"
   ]
  },
  {
   "cell_type": "markdown",
   "id": "2a539464",
   "metadata": {},
   "source": [
    "## 3.8"
   ]
  },
  {
   "cell_type": "code",
   "execution_count": 22,
   "id": "a7498462",
   "metadata": {},
   "outputs": [],
   "source": [
    "places = [\"Tokyo\", \"Lima\", \"Paris\", \"Athens\", \"Cape Town\"]"
   ]
  },
  {
   "cell_type": "code",
   "execution_count": 23,
   "id": "7570f28b",
   "metadata": {},
   "outputs": [
    {
     "name": "stdout",
     "output_type": "stream",
     "text": [
      "['Tokyo', 'Lima', 'Paris', 'Athens', 'Cape Town']\n"
     ]
    }
   ],
   "source": [
    "print(places)"
   ]
  },
  {
   "cell_type": "code",
   "execution_count": 25,
   "id": "9909be4f",
   "metadata": {},
   "outputs": [
    {
     "name": "stdout",
     "output_type": "stream",
     "text": [
      "['Athens', 'Cape Town', 'Lima', 'Paris', 'Tokyo']\n"
     ]
    }
   ],
   "source": [
    "print(sorted(places))"
   ]
  },
  {
   "cell_type": "code",
   "execution_count": 26,
   "id": "c3980511",
   "metadata": {},
   "outputs": [
    {
     "name": "stdout",
     "output_type": "stream",
     "text": [
      "['Tokyo', 'Lima', 'Paris', 'Athens', 'Cape Town']\n"
     ]
    }
   ],
   "source": [
    "print(places)"
   ]
  },
  {
   "cell_type": "code",
   "execution_count": 29,
   "id": "94231738",
   "metadata": {},
   "outputs": [],
   "source": [
    "places.reverse()"
   ]
  },
  {
   "cell_type": "code",
   "execution_count": 30,
   "id": "f1b860af",
   "metadata": {},
   "outputs": [
    {
     "name": "stdout",
     "output_type": "stream",
     "text": [
      "['Cape Town', 'Athens', 'Paris', 'Lima', 'Tokyo']\n"
     ]
    }
   ],
   "source": [
    "print(places)"
   ]
  },
  {
   "cell_type": "code",
   "execution_count": 34,
   "id": "1672827d",
   "metadata": {},
   "outputs": [],
   "source": [
    "places.reverse()"
   ]
  },
  {
   "cell_type": "code",
   "execution_count": 35,
   "id": "466a1b25",
   "metadata": {},
   "outputs": [
    {
     "name": "stdout",
     "output_type": "stream",
     "text": [
      "['Tokyo', 'Paris', 'Lima', 'Cape Town', 'Athens']\n"
     ]
    }
   ],
   "source": [
    "print(places)"
   ]
  },
  {
   "cell_type": "code",
   "execution_count": 36,
   "id": "51bef847",
   "metadata": {},
   "outputs": [],
   "source": [
    "places.sort()"
   ]
  },
  {
   "cell_type": "code",
   "execution_count": 37,
   "id": "3c412fb2",
   "metadata": {},
   "outputs": [
    {
     "name": "stdout",
     "output_type": "stream",
     "text": [
      "['Athens', 'Cape Town', 'Lima', 'Paris', 'Tokyo']\n"
     ]
    }
   ],
   "source": [
    "print(places)"
   ]
  },
  {
   "cell_type": "code",
   "execution_count": 38,
   "id": "db25a3b5",
   "metadata": {},
   "outputs": [],
   "source": [
    "places.sort(reverse=True)"
   ]
  },
  {
   "cell_type": "code",
   "execution_count": 39,
   "id": "9d1a070f",
   "metadata": {},
   "outputs": [
    {
     "name": "stdout",
     "output_type": "stream",
     "text": [
      "['Tokyo', 'Paris', 'Lima', 'Cape Town', 'Athens']\n"
     ]
    }
   ],
   "source": [
    "print(places)"
   ]
  },
  {
   "cell_type": "code",
   "execution_count": null,
   "id": "a2a839ee",
   "metadata": {},
   "outputs": [],
   "source": []
  }
 ],
 "metadata": {
  "kernelspec": {
   "display_name": "Python 3 (ipykernel)",
   "language": "python",
   "name": "python3"
  },
  "language_info": {
   "codemirror_mode": {
    "name": "ipython",
    "version": 3
   },
   "file_extension": ".py",
   "mimetype": "text/x-python",
   "name": "python",
   "nbconvert_exporter": "python",
   "pygments_lexer": "ipython3",
   "version": "3.11.4"
  }
 },
 "nbformat": 4,
 "nbformat_minor": 5
}
