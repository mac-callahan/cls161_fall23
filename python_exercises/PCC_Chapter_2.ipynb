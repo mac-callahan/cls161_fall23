{
 "cells": [
  {
   "cell_type": "markdown",
   "id": "436db6a2",
   "metadata": {},
   "source": [
    "# Chapter 2 Python Exercises"
   ]
  },
  {
   "cell_type": "markdown",
   "id": "29f6ace9",
   "metadata": {},
   "source": [
    "## 2.1"
   ]
  },
  {
   "cell_type": "code",
   "execution_count": 1,
   "id": "933464f1",
   "metadata": {},
   "outputs": [],
   "source": [
    "message = \"We did this in class!\""
   ]
  },
  {
   "cell_type": "code",
   "execution_count": 2,
   "id": "8ddbeb02",
   "metadata": {},
   "outputs": [
    {
     "name": "stdout",
     "output_type": "stream",
     "text": [
      "We did this in class!\n"
     ]
    }
   ],
   "source": [
    "print(message)"
   ]
  },
  {
   "cell_type": "markdown",
   "id": "eaa9616a",
   "metadata": {},
   "source": [
    "## 2.2"
   ]
  },
  {
   "cell_type": "code",
   "execution_count": 1,
   "id": "ba413e47",
   "metadata": {},
   "outputs": [],
   "source": [
    "message = \"Original message\""
   ]
  },
  {
   "cell_type": "code",
   "execution_count": 2,
   "id": "e8c9ae82",
   "metadata": {},
   "outputs": [
    {
     "name": "stdout",
     "output_type": "stream",
     "text": [
      "Original message\n"
     ]
    }
   ],
   "source": [
    "print(message)"
   ]
  },
  {
   "cell_type": "code",
   "execution_count": 3,
   "id": "44160147",
   "metadata": {},
   "outputs": [],
   "source": [
    "message = \"New message\""
   ]
  },
  {
   "cell_type": "code",
   "execution_count": 4,
   "id": "8e3134ab",
   "metadata": {},
   "outputs": [
    {
     "name": "stdout",
     "output_type": "stream",
     "text": [
      "New message\n"
     ]
    }
   ],
   "source": [
    "print(message)"
   ]
  },
  {
   "cell_type": "markdown",
   "id": "5c542fba",
   "metadata": {},
   "source": [
    "## 2.3"
   ]
  },
  {
   "cell_type": "code",
   "execution_count": 5,
   "id": "af8c13e8",
   "metadata": {},
   "outputs": [],
   "source": [
    "name = \"Charles\""
   ]
  },
  {
   "cell_type": "code",
   "execution_count": 6,
   "id": "d3bf3db6",
   "metadata": {},
   "outputs": [
    {
     "name": "stdout",
     "output_type": "stream",
     "text": [
      "Hey Charles, how are you?\n"
     ]
    }
   ],
   "source": [
    "print(\"Hey \" + name + \", how are you?\")"
   ]
  },
  {
   "cell_type": "markdown",
   "id": "e647331a",
   "metadata": {},
   "source": [
    "## 2.4"
   ]
  },
  {
   "cell_type": "code",
   "execution_count": 7,
   "id": "03425ae9",
   "metadata": {},
   "outputs": [],
   "source": [
    "name = \"Charles\""
   ]
  },
  {
   "cell_type": "code",
   "execution_count": 8,
   "id": "8e72807e",
   "metadata": {},
   "outputs": [
    {
     "name": "stdout",
     "output_type": "stream",
     "text": [
      "charles\n",
      "CHARLES\n",
      "Charles\n"
     ]
    }
   ],
   "source": [
    "print(name.lower())\n",
    "print(name.upper())\n",
    "print(name.title())"
   ]
  },
  {
   "cell_type": "markdown",
   "id": "795577fe",
   "metadata": {},
   "source": [
    "## 2.5"
   ]
  },
  {
   "cell_type": "code",
   "execution_count": 9,
   "id": "0cb33700",
   "metadata": {},
   "outputs": [],
   "source": [
    "name = \"Greta Thunberg\""
   ]
  },
  {
   "cell_type": "code",
   "execution_count": 10,
   "id": "cc886b13",
   "metadata": {},
   "outputs": [],
   "source": [
    "quote = '\"Once we start to act, hope is everywhere. So instead of looking for hope, look for action. Then, and only then, hope will come.\"'"
   ]
  },
  {
   "cell_type": "code",
   "execution_count": 11,
   "id": "d4935d7a",
   "metadata": {},
   "outputs": [
    {
     "name": "stdout",
     "output_type": "stream",
     "text": [
      "Greta Thunberg once said, \"Once we start to act, hope is everywhere. So instead of looking for hope, look for action. Then, and only then, hope will come.\"\n"
     ]
    }
   ],
   "source": [
    "print(name + \" once said, \" + quote)"
   ]
  },
  {
   "cell_type": "markdown",
   "id": "2bb99fef",
   "metadata": {},
   "source": [
    "## 2.6"
   ]
  },
  {
   "cell_type": "code",
   "execution_count": 18,
   "id": "4bd4e3f7",
   "metadata": {},
   "outputs": [],
   "source": [
    "# print a quote from a famous person\n",
    "famous_person = \"Greta Thunberg\""
   ]
  },
  {
   "cell_type": "code",
   "execution_count": 15,
   "id": "3db05f39",
   "metadata": {},
   "outputs": [],
   "source": [
    "message = ' once said, \"Once we start to act, hope is everywhere. So instead of looking for hope, look for action. Then, and only then, hope will come.\"'"
   ]
  },
  {
   "cell_type": "code",
   "execution_count": 16,
   "id": "3d63b916",
   "metadata": {},
   "outputs": [
    {
     "name": "stdout",
     "output_type": "stream",
     "text": [
      "Greta Thunberg once said, \"Once we start to act, hope is everywhere. So instead of looking for hope, look for action. Then, and only then, hope will come.\"\n"
     ]
    }
   ],
   "source": [
    "print(famous_person + message)"
   ]
  },
  {
   "cell_type": "markdown",
   "id": "5e383471",
   "metadata": {},
   "source": [
    "## 2.7"
   ]
  },
  {
   "cell_type": "code",
   "execution_count": 17,
   "id": "edb12a0e",
   "metadata": {},
   "outputs": [
    {
     "name": "stdout",
     "output_type": "stream",
     "text": [
      "\tCharles\n",
      "\n",
      "Charles\n",
      "\n",
      "\tCharles\n",
      "Charles\n"
     ]
    }
   ],
   "source": [
    "# remove white space(s) from a name\n",
    "name = \"\\tCharles\\n\"\n",
    "print(name)\n",
    "print(name.lstrip())\n",
    "print(name.rstrip())\n",
    "print(name.strip())"
   ]
  },
  {
   "cell_type": "markdown",
   "id": "44e2635b",
   "metadata": {},
   "source": [
    "## 2.10 -- see 2.7 and 2.6"
   ]
  },
  {
   "cell_type": "code",
   "execution_count": null,
   "id": "82c4804f",
   "metadata": {},
   "outputs": [],
   "source": []
  }
 ],
 "metadata": {
  "kernelspec": {
   "display_name": "Python 3 (ipykernel)",
   "language": "python",
   "name": "python3"
  },
  "language_info": {
   "codemirror_mode": {
    "name": "ipython",
    "version": 3
   },
   "file_extension": ".py",
   "mimetype": "text/x-python",
   "name": "python",
   "nbconvert_exporter": "python",
   "pygments_lexer": "ipython3",
   "version": "3.11.4"
  }
 },
 "nbformat": 4,
 "nbformat_minor": 5
}
