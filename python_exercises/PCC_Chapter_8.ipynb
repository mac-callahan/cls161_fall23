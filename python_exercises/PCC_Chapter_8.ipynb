{
 "cells": [
  {
   "cell_type": "markdown",
   "id": "84fe0e33",
   "metadata": {},
   "source": [
    "## 8.1"
   ]
  },
  {
   "cell_type": "code",
   "execution_count": 1,
   "id": "eb23913a",
   "metadata": {},
   "outputs": [],
   "source": [
    "def display_message():\n",
    "    print(\"I am learning how to build and use functions in Python.\")"
   ]
  },
  {
   "cell_type": "code",
   "execution_count": 2,
   "id": "657e2a70",
   "metadata": {},
   "outputs": [
    {
     "name": "stdout",
     "output_type": "stream",
     "text": [
      "I am learning how to build and use functions in Python.\n"
     ]
    }
   ],
   "source": [
    "display_message()"
   ]
  },
  {
   "cell_type": "markdown",
   "id": "a2cf0789",
   "metadata": {},
   "source": [
    "## 8.2"
   ]
  },
  {
   "cell_type": "code",
   "execution_count": 3,
   "id": "1b2684cc",
   "metadata": {},
   "outputs": [],
   "source": [
    "def favorite_book(title):\n",
    "    print(\"One of my favorite books is \" + title.title() + \".\")"
   ]
  },
  {
   "cell_type": "code",
   "execution_count": 6,
   "id": "224f5fd7",
   "metadata": {},
   "outputs": [
    {
     "name": "stdout",
     "output_type": "stream",
     "text": [
      "One of my favorite books is The Secret History.\n"
     ]
    }
   ],
   "source": [
    "favorite_book(\"the secret history\")"
   ]
  },
  {
   "cell_type": "markdown",
   "id": "ba53d776",
   "metadata": {},
   "source": [
    "## 8.3"
   ]
  },
  {
   "cell_type": "code",
   "execution_count": 9,
   "id": "d622691d",
   "metadata": {},
   "outputs": [],
   "source": [
    "def make_shirt(size, text):\n",
    "    print(\"Your shirt is a size \" + size + \" shirt with the message: \" + text + \".\")"
   ]
  },
  {
   "cell_type": "code",
   "execution_count": 10,
   "id": "1a3c4f97",
   "metadata": {},
   "outputs": [
    {
     "name": "stdout",
     "output_type": "stream",
     "text": [
      "Your shirt is a size medium shirt with the message: Well-behaved citizen.\n",
      "Your shirt is a size large shirt with the message: Eat your vegetables.\n"
     ]
    }
   ],
   "source": [
    "make_shirt('medium', 'Well-behaved citizen')\n",
    "make_shirt(size='large', text='Eat your vegetables')"
   ]
  },
  {
   "cell_type": "markdown",
   "id": "cda6bbab",
   "metadata": {},
   "source": [
    "## 8.5"
   ]
  },
  {
   "cell_type": "code",
   "execution_count": 12,
   "id": "200e02b0",
   "metadata": {},
   "outputs": [
    {
     "name": "stdout",
     "output_type": "stream",
     "text": [
      "Rome is in Italy.\n",
      "Florence is in Italy.\n",
      "Accra is in Ghana.\n"
     ]
    }
   ],
   "source": [
    "def describe_city(city, country='italy'):\n",
    "    print(f\"{city.title()} is in {country.title()}.\")\n",
    "describe_city('rome')\n",
    "describe_city('florence')\n",
    "describe_city('accra', country='ghana')"
   ]
  },
  {
   "cell_type": "markdown",
   "id": "fe6b140f",
   "metadata": {},
   "source": [
    "## 8.6"
   ]
  },
  {
   "cell_type": "code",
   "execution_count": 2,
   "id": "73ad546c",
   "metadata": {},
   "outputs": [
    {
     "name": "stdout",
     "output_type": "stream",
     "text": [
      "Santiago, Chile\n",
      "Boston, United States\n",
      "Tokyo, Japan\n"
     ]
    }
   ],
   "source": [
    "def city_country(city, country):\n",
    "    return f\"{city.title()}, {country.title()}\"\n",
    "\n",
    "pair_1 = city_country('santiago', 'chile')\n",
    "pair_2 = city_country('boston', 'united states')\n",
    "pair_3 = city_country('tokyo', 'japan')\n",
    "\n",
    "print(pair_1)\n",
    "print(pair_2)\n",
    "print(pair_3)"
   ]
  },
  {
   "cell_type": "markdown",
   "id": "5aaf8945",
   "metadata": {},
   "source": [
    "## 8.7"
   ]
  },
  {
   "cell_type": "code",
   "execution_count": 3,
   "id": "3152a0c5",
   "metadata": {},
   "outputs": [],
   "source": [
    "def make_album(artist_name, album_title):\n",
    "    album = {'artist_name': artist_name.title(), 'album_title': album_title.title()}\n",
    "    return album\n",
    "\n",
    "folklore = make_album('taylor swift', 'folklore')\n",
    "blonde = make_album('frank ocean', 'blonde')\n",
    "melodrama = make_album('lorde', 'melodrama')"
   ]
  },
  {
   "cell_type": "code",
   "execution_count": 4,
   "id": "9325683a",
   "metadata": {},
   "outputs": [
    {
     "name": "stdout",
     "output_type": "stream",
     "text": [
      "{'artist_name': 'Taylor Swift', 'album_title': 'Folklore'}\n",
      "{'artist_name': 'Frank Ocean', 'album_title': 'Blonde'}\n",
      "{'artist_name': 'Lorde', 'album_title': 'Melodrama'}\n"
     ]
    }
   ],
   "source": [
    "print(folklore)\n",
    "print(blonde)\n",
    "print(melodrama)"
   ]
  },
  {
   "cell_type": "code",
   "execution_count": 5,
   "id": "9e115f32",
   "metadata": {},
   "outputs": [],
   "source": [
    "def make_album(artist_name, album_title, num_tracks):\n",
    "    album = {'artist_name': artist_name.title(), 'album_title': album_title.title(), 'num_tracks': num_tracks}\n",
    "    return album"
   ]
  },
  {
   "cell_type": "code",
   "execution_count": 6,
   "id": "5c97538f",
   "metadata": {},
   "outputs": [],
   "source": [
    "melodrama = make_album('lorde', 'melodrama', 11)"
   ]
  },
  {
   "cell_type": "code",
   "execution_count": 8,
   "id": "706b8d5f",
   "metadata": {},
   "outputs": [
    {
     "name": "stdout",
     "output_type": "stream",
     "text": [
      "{'artist_name': 'Lorde', 'album_title': 'Melodrama', 'num_tracks': 11}\n",
      "{'artist_name': 'Taylor Swift', 'album_title': 'Folklore'}\n",
      "{'artist_name': 'Frank Ocean', 'album_title': 'Blonde'}\n"
     ]
    }
   ],
   "source": [
    "print(melodrama)\n",
    "print(folklore)\n",
    "print(blonde)"
   ]
  },
  {
   "cell_type": "code",
   "execution_count": null,
   "id": "a0cd26ed",
   "metadata": {},
   "outputs": [],
   "source": []
  }
 ],
 "metadata": {
  "kernelspec": {
   "display_name": "Python 3 (ipykernel)",
   "language": "python",
   "name": "python3"
  },
  "language_info": {
   "codemirror_mode": {
    "name": "ipython",
    "version": 3
   },
   "file_extension": ".py",
   "mimetype": "text/x-python",
   "name": "python",
   "nbconvert_exporter": "python",
   "pygments_lexer": "ipython3",
   "version": "3.11.4"
  }
 },
 "nbformat": 4,
 "nbformat_minor": 5
}
