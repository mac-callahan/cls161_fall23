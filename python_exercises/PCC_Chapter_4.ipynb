{
 "cells": [
  {
   "cell_type": "markdown",
   "id": "72cf13ce",
   "metadata": {},
   "source": [
    "# Chapter 4 Python Exercises"
   ]
  },
  {
   "cell_type": "markdown",
   "id": "b85c49d0",
   "metadata": {},
   "source": [
    "## 4.1"
   ]
  },
  {
   "cell_type": "code",
   "execution_count": 38,
   "id": "2e6e7162",
   "metadata": {},
   "outputs": [],
   "source": [
    "pizzas = ['Margherita', 'Meat Lovers', 'Veggie']"
   ]
  },
  {
   "cell_type": "code",
   "execution_count": 39,
   "id": "4ef28159",
   "metadata": {},
   "outputs": [
    {
     "name": "stdout",
     "output_type": "stream",
     "text": [
      "Margherita\n",
      "Meat Lovers\n",
      "Veggie\n"
     ]
    }
   ],
   "source": [
    "for pizza in pizzas:\n",
    "    print(pizza)"
   ]
  },
  {
   "cell_type": "code",
   "execution_count": 40,
   "id": "93908e27",
   "metadata": {},
   "outputs": [
    {
     "name": "stdout",
     "output_type": "stream",
     "text": [
      "I like Margherita pizza.\n",
      "I like Meat Lovers pizza.\n",
      "I like Veggie pizza.\n"
     ]
    }
   ],
   "source": [
    "for pizza in pizzas:\n",
    "    print(\"I like \" + pizza + \" pizza.\")"
   ]
  },
  {
   "cell_type": "code",
   "execution_count": 41,
   "id": "21f8109d",
   "metadata": {},
   "outputs": [
    {
     "name": "stdout",
     "output_type": "stream",
     "text": [
      "I like Margherita pizza.\n",
      "I like Meat Lovers pizza.\n",
      "I like Veggie pizza.\n",
      "I really like pizza!\n"
     ]
    }
   ],
   "source": [
    "for pizza in pizzas:\n",
    "    print(\"I like \" + pizza + \" pizza.\")\n",
    "print(\"I really like pizza!\")"
   ]
  },
  {
   "cell_type": "markdown",
   "id": "180c9713",
   "metadata": {},
   "source": [
    "## 4.2"
   ]
  },
  {
   "cell_type": "code",
   "execution_count": 42,
   "id": "bdb22b5a",
   "metadata": {},
   "outputs": [
    {
     "name": "stdout",
     "output_type": "stream",
     "text": [
      "frog\n",
      "toad\n",
      "salamander\n"
     ]
    }
   ],
   "source": [
    "animals = ['frog', 'toad', 'salamander']\n",
    "for animal in animals:\n",
    "    print(animal)"
   ]
  },
  {
   "cell_type": "code",
   "execution_count": 45,
   "id": "fbece80c",
   "metadata": {},
   "outputs": [
    {
     "name": "stdout",
     "output_type": "stream",
     "text": [
      "A frog would make a great pet.\n",
      "A toad would make a great pet.\n",
      "A salamander would make a great pet.\n"
     ]
    }
   ],
   "source": [
    "animals = ['frog', 'toad', 'salamander']\n",
    "for animal in animals:\n",
    "    print(\"A \" + animal + \" would make a great pet.\")"
   ]
  },
  {
   "cell_type": "code",
   "execution_count": 46,
   "id": "7edc58f4",
   "metadata": {},
   "outputs": [
    {
     "name": "stdout",
     "output_type": "stream",
     "text": [
      "A frog would make a great pet.\n",
      "A toad would make a great pet.\n",
      "A salamander would make a great pet.\n",
      "These animals are all amphibians!\n"
     ]
    }
   ],
   "source": [
    "animals = ['frog', 'toad', 'salamander']\n",
    "for animal in animals:\n",
    "    print(\"A \" + animal + \" would make a great pet.\")\n",
    "print(\"These animals are all amphibians!\")"
   ]
  },
  {
   "cell_type": "markdown",
   "id": "eec1c030",
   "metadata": {},
   "source": [
    "## 4.3"
   ]
  },
  {
   "cell_type": "code",
   "execution_count": 47,
   "id": "5681146b",
   "metadata": {},
   "outputs": [
    {
     "name": "stdout",
     "output_type": "stream",
     "text": [
      "1\n",
      "2\n",
      "3\n",
      "4\n",
      "5\n",
      "6\n",
      "7\n",
      "8\n",
      "9\n",
      "10\n",
      "11\n",
      "12\n",
      "13\n",
      "14\n",
      "15\n",
      "16\n",
      "17\n",
      "18\n",
      "19\n",
      "20\n"
     ]
    }
   ],
   "source": [
    "for value in range (1,21):\n",
    "    print(value)"
   ]
  },
  {
   "cell_type": "markdown",
   "id": "f3e953c9",
   "metadata": {},
   "source": [
    "## 4.6"
   ]
  },
  {
   "cell_type": "code",
   "execution_count": 48,
   "id": "f1053002",
   "metadata": {},
   "outputs": [
    {
     "name": "stdout",
     "output_type": "stream",
     "text": [
      "1\n",
      "3\n",
      "5\n",
      "7\n",
      "9\n",
      "11\n",
      "13\n",
      "15\n",
      "17\n",
      "19\n"
     ]
    }
   ],
   "source": [
    "for value in range(1, 21, 2):\n",
    "    print(value)"
   ]
  },
  {
   "cell_type": "markdown",
   "id": "79f9c84f",
   "metadata": {},
   "source": [
    "## 4.10"
   ]
  },
  {
   "cell_type": "code",
   "execution_count": 49,
   "id": "f50dd42c",
   "metadata": {},
   "outputs": [],
   "source": [
    "pizzas.append(\"Hawaiian\")\n",
    "pizzas.append(\"Mushroom\")\n",
    "pizzas.append(\"Pepperoni\")"
   ]
  },
  {
   "cell_type": "code",
   "execution_count": 50,
   "id": "457398c1",
   "metadata": {},
   "outputs": [
    {
     "name": "stdout",
     "output_type": "stream",
     "text": [
      "The first three items in the list are: \n",
      "Margherita\n",
      "Meat Lovers\n",
      "Veggie\n"
     ]
    }
   ],
   "source": [
    "print(\"The first three items in the list are: \")\n",
    "for pizza in pizzas[:3]:\n",
    "    print(pizza)"
   ]
  },
  {
   "cell_type": "code",
   "execution_count": 51,
   "id": "9f75f713",
   "metadata": {},
   "outputs": [
    {
     "name": "stdout",
     "output_type": "stream",
     "text": [
      "Three items from the middle of the list are: \n",
      "Veggie\n",
      "Hawaiian\n",
      "Mushroom\n"
     ]
    }
   ],
   "source": [
    "print(\"Three items from the middle of the list are: \")\n",
    "for pizza in pizzas[2:5]:\n",
    "    print(pizza)"
   ]
  },
  {
   "cell_type": "code",
   "execution_count": 53,
   "id": "e8e5a946",
   "metadata": {},
   "outputs": [
    {
     "name": "stdout",
     "output_type": "stream",
     "text": [
      "The last three items in the list are: \n",
      "Hawaiian\n",
      "Mushroom\n",
      "Pepperoni\n"
     ]
    }
   ],
   "source": [
    "print(\"The last three items in the list are: \")\n",
    "for pizza in pizzas[3:]:\n",
    "    print(pizza)"
   ]
  },
  {
   "cell_type": "markdown",
   "id": "60df763e",
   "metadata": {},
   "source": [
    "## 4.11"
   ]
  },
  {
   "cell_type": "code",
   "execution_count": 54,
   "id": "9219d351",
   "metadata": {},
   "outputs": [],
   "source": [
    "friend_pizzas = pizzas[:]\n",
    "pizzas.append(\"Buffalo Chicken\")\n",
    "friend_pizzas.append(\"BBQ Chicken\")"
   ]
  },
  {
   "cell_type": "code",
   "execution_count": 56,
   "id": "97ec5b26",
   "metadata": {},
   "outputs": [
    {
     "name": "stdout",
     "output_type": "stream",
     "text": [
      "My favorite pizzas are:\n",
      "Margherita\n",
      "Meat Lovers\n",
      "Veggie\n",
      "Hawaiian\n",
      "Mushroom\n",
      "Pepperoni\n",
      "Buffalo Chicken\n",
      "\n",
      "My friend's favorite pizzas are:\n",
      "Margherita\n",
      "Meat Lovers\n",
      "Veggie\n",
      "Hawaiian\n",
      "Mushroom\n",
      "Pepperoni\n",
      "BBQ Chicken\n"
     ]
    }
   ],
   "source": [
    "print(\"My favorite pizzas are:\")\n",
    "for pizza in pizzas:\n",
    "    print(pizza)\n",
    "    \n",
    "print(\"\\nMy friend's favorite pizzas are:\")\n",
    "for pizza in friend_pizzas:\n",
    "    print(pizza)"
   ]
  },
  {
   "cell_type": "code",
   "execution_count": null,
   "id": "07f1b233",
   "metadata": {},
   "outputs": [],
   "source": []
  }
 ],
 "metadata": {
  "kernelspec": {
   "display_name": "Python 3 (ipykernel)",
   "language": "python",
   "name": "python3"
  },
  "language_info": {
   "codemirror_mode": {
    "name": "ipython",
    "version": 3
   },
   "file_extension": ".py",
   "mimetype": "text/x-python",
   "name": "python",
   "nbconvert_exporter": "python",
   "pygments_lexer": "ipython3",
   "version": "3.11.4"
  }
 },
 "nbformat": 4,
 "nbformat_minor": 5
}
