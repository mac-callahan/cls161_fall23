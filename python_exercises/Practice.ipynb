{
 "cells": [
  {
   "cell_type": "markdown",
   "id": "7dc646cf",
   "metadata": {},
   "source": [
    "This is my first Jupyter Notebook."
   ]
  },
  {
   "cell_type": "markdown",
   "id": "b1e59bfd",
   "metadata": {},
   "source": [
    "# Heading 1"
   ]
  },
  {
   "cell_type": "code",
   "execution_count": 1,
   "id": "602d1754",
   "metadata": {},
   "outputs": [
    {
     "name": "stdout",
     "output_type": "stream",
     "text": [
      "Hello, World!\n"
     ]
    }
   ],
   "source": [
    "print(\"Hello, World!\")"
   ]
  },
  {
   "cell_type": "markdown",
   "id": "92d2876f",
   "metadata": {},
   "source": [
    "## Variables"
   ]
  },
  {
   "cell_type": "code",
   "execution_count": 2,
   "id": "84249c45",
   "metadata": {},
   "outputs": [],
   "source": [
    "greeting = \"Hello, World!\""
   ]
  },
  {
   "cell_type": "code",
   "execution_count": 3,
   "id": "ca109501",
   "metadata": {},
   "outputs": [
    {
     "name": "stdout",
     "output_type": "stream",
     "text": [
      "Hello, World!\n"
     ]
    }
   ],
   "source": [
    "print(greeting)"
   ]
  },
  {
   "cell_type": "code",
   "execution_count": 4,
   "id": "e5902c31",
   "metadata": {},
   "outputs": [
    {
     "ename": "NameError",
     "evalue": "name 'greating' is not defined",
     "output_type": "error",
     "traceback": [
      "\u001b[0;31m---------------------------------------------------------------------------\u001b[0m",
      "\u001b[0;31mNameError\u001b[0m                                 Traceback (most recent call last)",
      "Cell \u001b[0;32mIn[4], line 1\u001b[0m\n\u001b[0;32m----> 1\u001b[0m \u001b[38;5;28mprint\u001b[39m(greating)\n",
      "\u001b[0;31mNameError\u001b[0m: name 'greating' is not defined"
     ]
    }
   ],
   "source": [
    "print(greating)"
   ]
  },
  {
   "cell_type": "code",
   "execution_count": 5,
   "id": "87824a5e",
   "metadata": {},
   "outputs": [],
   "source": [
    "greeting = \"Goodbye, World!\""
   ]
  },
  {
   "cell_type": "code",
   "execution_count": 6,
   "id": "5e100cc3",
   "metadata": {},
   "outputs": [
    {
     "name": "stdout",
     "output_type": "stream",
     "text": [
      "Goodbye, World!\n"
     ]
    }
   ],
   "source": [
    "print(greeting)"
   ]
  },
  {
   "cell_type": "markdown",
   "id": "c35a3c52",
   "metadata": {},
   "source": [
    "## Strings"
   ]
  },
  {
   "cell_type": "code",
   "execution_count": 7,
   "id": "4999a73d",
   "metadata": {},
   "outputs": [
    {
     "name": "stdout",
     "output_type": "stream",
     "text": [
      "This is a string\n"
     ]
    }
   ],
   "source": [
    "example_1 = \"This is a string\"\n",
    "print(example_1)"
   ]
  },
  {
   "cell_type": "code",
   "execution_count": 8,
   "id": "17e4c1f7",
   "metadata": {},
   "outputs": [
    {
     "name": "stdout",
     "output_type": "stream",
     "text": [
      "This is also a string\n"
     ]
    }
   ],
   "source": [
    "example_2 = 'This is also a string'\n",
    "print(example_2)"
   ]
  },
  {
   "cell_type": "code",
   "execution_count": 9,
   "id": "976be584",
   "metadata": {},
   "outputs": [
    {
     "name": "stdout",
     "output_type": "stream",
     "text": [
      "I asked the question, \"When should I use double quotes?\"\n"
     ]
    }
   ],
   "source": [
    "example_3 = 'I asked the question, \"When should I use double quotes?\"'\n",
    "print(example_3)"
   ]
  },
  {
   "cell_type": "code",
   "execution_count": 10,
   "id": "dc40d883",
   "metadata": {},
   "outputs": [
    {
     "name": "stdout",
     "output_type": "stream",
     "text": [
      "Edward Gibbon\n"
     ]
    }
   ],
   "source": [
    "historian = \"edward gibbon\"\n",
    "print(historian.title())"
   ]
  },
  {
   "cell_type": "code",
   "execution_count": 11,
   "id": "310cb730",
   "metadata": {},
   "outputs": [
    {
     "name": "stdout",
     "output_type": "stream",
     "text": [
      "Becky Chambers\n"
     ]
    },
    {
     "ename": "NameError",
     "evalue": "name 'novelsit' is not defined",
     "output_type": "error",
     "traceback": [
      "\u001b[0;31m---------------------------------------------------------------------------\u001b[0m",
      "\u001b[0;31mNameError\u001b[0m                                 Traceback (most recent call last)",
      "Cell \u001b[0;32mIn[11], line 3\u001b[0m\n\u001b[1;32m      1\u001b[0m novelist \u001b[38;5;241m=\u001b[39m \u001b[38;5;124m\"\u001b[39m\u001b[38;5;124mBecky Chambers\u001b[39m\u001b[38;5;124m\"\u001b[39m\n\u001b[1;32m      2\u001b[0m \u001b[38;5;28mprint\u001b[39m(novelist)\n\u001b[0;32m----> 3\u001b[0m \u001b[38;5;28mprint\u001b[39m(novelsit\u001b[38;5;241m.\u001b[39mupper())\n\u001b[1;32m      4\u001b[0m \u001b[38;5;28mprint\u001b[39m(novelist\u001b[38;5;241m.\u001b[39mlower())\n",
      "\u001b[0;31mNameError\u001b[0m: name 'novelsit' is not defined"
     ]
    }
   ],
   "source": [
    "novelist = \"Becky Chambers\"\n",
    "print(novelist)\n",
    "print(novelsit.upper())\n",
    "print(novelist.lower())"
   ]
  },
  {
   "cell_type": "code",
   "execution_count": 12,
   "id": "472e2070",
   "metadata": {},
   "outputs": [
    {
     "name": "stdout",
     "output_type": "stream",
     "text": [
      "Becky Chambers\n",
      "BECKY CHAMBERS\n",
      "becky chambers\n"
     ]
    }
   ],
   "source": [
    "novelist = \"Becky Chambers\"\n",
    "print(novelist)\n",
    "print(novelist.upper())\n",
    "print(novelist.lower())"
   ]
  },
  {
   "cell_type": "code",
   "execution_count": null,
   "id": "055d39fc",
   "metadata": {},
   "outputs": [],
   "source": []
  }
 ],
 "metadata": {
  "kernelspec": {
   "display_name": "Python 3 (ipykernel)",
   "language": "python",
   "name": "python3"
  },
  "language_info": {
   "codemirror_mode": {
    "name": "ipython",
    "version": 3
   },
   "file_extension": ".py",
   "mimetype": "text/x-python",
   "name": "python",
   "nbconvert_exporter": "python",
   "pygments_lexer": "ipython3",
   "version": "3.11.4"
  }
 },
 "nbformat": 4,
 "nbformat_minor": 5
}
