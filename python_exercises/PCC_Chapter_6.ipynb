{
 "cells": [
  {
   "cell_type": "markdown",
   "id": "2ccceedb",
   "metadata": {},
   "source": [
    "## 6.1"
   ]
  },
  {
   "cell_type": "code",
   "execution_count": 8,
   "id": "15e18a83",
   "metadata": {},
   "outputs": [
    {
     "name": "stdout",
     "output_type": "stream",
     "text": [
      "Anna\n",
      "Callahan\n",
      "24\n",
      "New York\n"
     ]
    }
   ],
   "source": [
    "person = {'first_name': 'Anna', 'last_name': 'Callahan', 'age': 24, 'city': 'New York'}\n",
    "print(person['first_name'])\n",
    "print(person['last_name'])\n",
    "print(person['age'])\n",
    "print(person['city'])"
   ]
  },
  {
   "cell_type": "markdown",
   "id": "cdd2937c",
   "metadata": {},
   "source": [
    "## 6.2"
   ]
  },
  {
   "cell_type": "code",
   "execution_count": 9,
   "id": "65ade037",
   "metadata": {},
   "outputs": [],
   "source": [
    "fav_numbers = {'jeff': 8, 'kevin': 12, 'bridget': 34, 'ivan': 23, 'clair': 1}"
   ]
  },
  {
   "cell_type": "code",
   "execution_count": 11,
   "id": "f9f20c48",
   "metadata": {},
   "outputs": [
    {
     "name": "stdout",
     "output_type": "stream",
     "text": [
      "Jeff's favorite number is 8\n",
      "Kevin's favorite number is 12\n",
      "Bridget's favorite number is 34\n",
      "Ivan's favorite number is 23\n",
      "Clair's favorite number is 1\n"
     ]
    }
   ],
   "source": [
    "for key, value in fav_numbers.items():\n",
    "    print(key.title() + \"'s favorite number is \" + str(value))"
   ]
  },
  {
   "cell_type": "markdown",
   "id": "96244da9",
   "metadata": {},
   "source": [
    "## 6.3"
   ]
  },
  {
   "cell_type": "code",
   "execution_count": 12,
   "id": "b5030baf",
   "metadata": {},
   "outputs": [],
   "source": [
    "glossary = {'String': 'A collection of characters', 'Float': 'Decimal values or fractional numbers', 'Concatenate': 'Adjoining two or more strings to create a new string', 'List': 'An ordered and changeable collection of data objects', 'Conditional': 'Execution of a statement or group of statements based on the value of an expression'}"
   ]
  },
  {
   "cell_type": "code",
   "execution_count": 13,
   "id": "c6749b8c",
   "metadata": {},
   "outputs": [
    {
     "name": "stdout",
     "output_type": "stream",
     "text": [
      "String: A collection of characters\n",
      "Float: Decimal values or fractional numbers\n",
      "Concatenate: Adjoining two or more strings to create a new string\n",
      "List: An ordered and changeable collection of data objects\n",
      "Conditional Statement: Execution of a statement or group of statements based on the value of an expression\n"
     ]
    }
   ],
   "source": [
    "for key, value in glossary.items():\n",
    "    print(key + \": \" + str(value))"
   ]
  },
  {
   "cell_type": "markdown",
   "id": "9097be1d",
   "metadata": {},
   "source": [
    "## 6.4"
   ]
  },
  {
   "cell_type": "code",
   "execution_count": 14,
   "id": "07ba63ed",
   "metadata": {},
   "outputs": [],
   "source": [
    "glossary['Loop'] = 'Repeating something over and over until a particular condition is satisfied'"
   ]
  },
  {
   "cell_type": "code",
   "execution_count": 15,
   "id": "a84be7e0",
   "metadata": {},
   "outputs": [],
   "source": [
    "glossary['Dictionary'] = \"Data structures that allow you to store key-value pairs\""
   ]
  },
  {
   "cell_type": "code",
   "execution_count": 16,
   "id": "f394c7a0",
   "metadata": {},
   "outputs": [],
   "source": [
    "glossary['Elif'] = \"Meaning 'else if', and is used when the first if statement isn't true, but you want to check for another condition\""
   ]
  },
  {
   "cell_type": "code",
   "execution_count": 17,
   "id": "74b1ae06",
   "metadata": {},
   "outputs": [],
   "source": [
    "glossary['Boolean'] = 'A data type representing either True or False'"
   ]
  },
  {
   "cell_type": "code",
   "execution_count": 18,
   "id": "d7d60f0d",
   "metadata": {},
   "outputs": [],
   "source": [
    "glossary['Key-value pair'] = 'A data type that includes two pieces of data that have a set of associated values and a group of key identifiers'"
   ]
  },
  {
   "cell_type": "code",
   "execution_count": 20,
   "id": "9050f931",
   "metadata": {},
   "outputs": [
    {
     "name": "stdout",
     "output_type": "stream",
     "text": [
      "String: A collection of characters\n",
      "\n",
      "Float: Decimal values or fractional numbers\n",
      "\n",
      "Concatenate: Adjoining two or more strings to create a new string\n",
      "\n",
      "List: An ordered and changeable collection of data objects\n",
      "\n",
      "Conditional Statement: Execution of a statement or group of statements based on the value of an expression\n",
      "\n",
      "Loop: Repeating something over and over until a particular condition is satisfied\n",
      "\n",
      "Dictionary: Data structures that allow you to store key-value pairs\n",
      "\n",
      "Elif: Meaning 'else if', and is used when the first if statement isn't true, but you want to check for another condition.\n",
      "\n",
      "Boolean: A data type representing either True or False\n",
      "\n",
      "Key-value pair: A data type that includes two pieces of data that have a set of associated values and a group of key identifiers\n",
      "\n"
     ]
    }
   ],
   "source": [
    "## My original 6.3 solution used a for loop \n",
    "for key, value in glossary.items():\n",
    "    print(key + \": \" + str(value) + \"\\n\")"
   ]
  },
  {
   "cell_type": "markdown",
   "id": "aa1c6d8b",
   "metadata": {},
   "source": [
    "## 6.5"
   ]
  },
  {
   "cell_type": "code",
   "execution_count": 27,
   "id": "283cc591",
   "metadata": {},
   "outputs": [],
   "source": [
    "rivers = {\"Tiber\": \"Italy\", \"Amazon\": \"Brazil\", \"Mackenzie\": \"Canada\"}"
   ]
  },
  {
   "cell_type": "code",
   "execution_count": 28,
   "id": "76ec6810",
   "metadata": {},
   "outputs": [
    {
     "name": "stdout",
     "output_type": "stream",
     "text": [
      "The Tiber River is located in Italy.\n",
      "The Amazon River is located in Brazil.\n",
      "The Mackenzie River is located in Canada.\n"
     ]
    }
   ],
   "source": [
    "for key, value in rivers.items():\n",
    "    print(\"The \" + key + \" River is located in \" + value + \".\")"
   ]
  },
  {
   "cell_type": "code",
   "execution_count": 29,
   "id": "bebeede7",
   "metadata": {},
   "outputs": [
    {
     "name": "stdout",
     "output_type": "stream",
     "text": [
      "Tiber\n",
      "Amazon\n",
      "Mackenzie\n"
     ]
    }
   ],
   "source": [
    "for key in rivers.keys():\n",
    "    print(key)"
   ]
  },
  {
   "cell_type": "code",
   "execution_count": 30,
   "id": "9b9fe759",
   "metadata": {},
   "outputs": [
    {
     "name": "stdout",
     "output_type": "stream",
     "text": [
      "Italy\n",
      "Brazil\n",
      "Canada\n"
     ]
    }
   ],
   "source": [
    "for value in rivers.values():\n",
    "    print(value)"
   ]
  },
  {
   "cell_type": "markdown",
   "id": "19868b16",
   "metadata": {},
   "source": [
    "## 6.6"
   ]
  },
  {
   "cell_type": "code",
   "execution_count": 33,
   "id": "1919d101",
   "metadata": {},
   "outputs": [
    {
     "name": "stdout",
     "output_type": "stream",
     "text": [
      "Edward, thank you for responding to the poll.\n",
      "Sasha, please take the poll.\n",
      "Jen, thank you for responding to the poll.\n",
      "Ella, please take the poll.\n",
      "Dave, please take the poll.\n"
     ]
    }
   ],
   "source": [
    "favorite_languages = {'jen': 'python', 'sarah': 'c', 'edward': 'ruby', 'phil': 'python'}\n",
    "take_poll = {'jen', 'sasha', 'ella', 'dave', 'edward'}\n",
    "\n",
    "for name in take_poll:\n",
    "    \n",
    "    if name in favorite_languages.keys():\n",
    "        print(name.title() + \", thank you for responding to the poll.\")\n",
    "    else:\n",
    "        print(name.title() + \", please take the poll.\")"
   ]
  },
  {
   "cell_type": "markdown",
   "id": "3285adf3",
   "metadata": {},
   "source": [
    "## 6.7"
   ]
  },
  {
   "cell_type": "code",
   "execution_count": 34,
   "id": "cb3a6eff",
   "metadata": {},
   "outputs": [],
   "source": [
    "person_1 = {'first_name': 'Anna', 'last_name': 'Callahan', 'age': 24, 'city': 'New York'}\n",
    "person_2 = {'first_name': 'Eleanor', 'last_name': 'Frost', 'age': 23, 'city': 'Washington DC'}\n",
    "person_3 = {'first_name': 'Riley', 'last_name': 'Green', 'age': 21, 'city': 'Los Angeles'}"
   ]
  },
  {
   "cell_type": "code",
   "execution_count": 35,
   "id": "97bc7017",
   "metadata": {},
   "outputs": [],
   "source": [
    "people = [person_1, person_2, person_3]"
   ]
  },
  {
   "cell_type": "code",
   "execution_count": 38,
   "id": "3a3c6ba7",
   "metadata": {},
   "outputs": [
    {
     "name": "stdout",
     "output_type": "stream",
     "text": [
      "First name: Anna\n",
      "Last name: Callahan\n",
      "Age: 24\n",
      "City: New York\n",
      "\n",
      "First name: Eleanor\n",
      "Last name: Frost\n",
      "Age: 23\n",
      "City: Washington DC\n",
      "\n",
      "First name: Riley\n",
      "Last name: Green\n",
      "Age: 21\n",
      "City: Los Angeles\n",
      "\n"
     ]
    }
   ],
   "source": [
    "for persons in people:\n",
    "    print(\"First name: \" + persons['first_name'])\n",
    "    print(\"Last name: \" + persons['last_name'])\n",
    "    print(\"Age: \" + str(persons['age']))\n",
    "    print(\"City: \" + persons['city'] + \"\\n\")"
   ]
  },
  {
   "cell_type": "markdown",
   "id": "38d899cc",
   "metadata": {},
   "source": [
    "## 6.8"
   ]
  },
  {
   "cell_type": "code",
   "execution_count": 39,
   "id": "dd1b833c",
   "metadata": {},
   "outputs": [],
   "source": [
    "charlie = {'kind': 'dog', 'owner': 'paul'}"
   ]
  },
  {
   "cell_type": "code",
   "execution_count": 40,
   "id": "a57b769a",
   "metadata": {},
   "outputs": [],
   "source": [
    "polly = {'kind': 'bird', 'owner': 'sal'}"
   ]
  },
  {
   "cell_type": "code",
   "execution_count": 41,
   "id": "9ed62a6c",
   "metadata": {},
   "outputs": [],
   "source": [
    "greg = {'kind': 'chameleon', 'owner': 'fred'}"
   ]
  },
  {
   "cell_type": "code",
   "execution_count": 42,
   "id": "1516f5f9",
   "metadata": {},
   "outputs": [],
   "source": [
    "nigel = {'kind': 'fish', 'owner': 'sasha'}"
   ]
  },
  {
   "cell_type": "code",
   "execution_count": 43,
   "id": "417c658d",
   "metadata": {},
   "outputs": [],
   "source": [
    "pets = [charlie, polly, greg, nigel]"
   ]
  },
  {
   "cell_type": "code",
   "execution_count": 48,
   "id": "446211e6",
   "metadata": {},
   "outputs": [
    {
     "name": "stdout",
     "output_type": "stream",
     "text": [
      "Kind: Dog\n",
      "Owner: Paul\n",
      "\n",
      "Kind: Bird\n",
      "Owner: Sal\n",
      "\n",
      "Kind: Chameleon\n",
      "Owner: Fred\n",
      "\n",
      "Kind: Fish\n",
      "Owner: Sasha\n",
      "\n"
     ]
    }
   ],
   "source": [
    "for pet in pets:\n",
    "    print(\"Kind: \" + pet['kind'].title())\n",
    "    print(\"Owner: \" + pet['owner'].title() + \"\\n\")"
   ]
  },
  {
   "cell_type": "markdown",
   "id": "e4ded6f9",
   "metadata": {},
   "source": [
    "## 6.9"
   ]
  },
  {
   "cell_type": "code",
   "execution_count": 50,
   "id": "dd094d7c",
   "metadata": {},
   "outputs": [],
   "source": [
    "favorite_places = {'jack': ['mexico city', 'havana', 'montreal'], 'silvia': ['rome', 'lisbon', 'marrakech'], 'zeke': ['chicago', 'new york', 'tampa']}"
   ]
  },
  {
   "cell_type": "code",
   "execution_count": 51,
   "id": "3d3a2eec",
   "metadata": {},
   "outputs": [
    {
     "name": "stdout",
     "output_type": "stream",
     "text": [
      "Jack's favorite places are: Mexico City, Havana, and Montreal.\n",
      "Silvia's favorite places are: Rome, Lisbon, and Marrakech.\n",
      "Zeke's favorite places are: Chicago, New York, and Tampa.\n"
     ]
    }
   ],
   "source": [
    "for key, value in favorite_places.items():\n",
    "    print(key.title() + \"'s favorite places are: \" + value[0].title() + \", \" + value[1].title() + \", and \" + value[2].title() + \".\")"
   ]
  },
  {
   "cell_type": "markdown",
   "id": "ec99b9f1",
   "metadata": {},
   "source": [
    "## 6.11"
   ]
  },
  {
   "cell_type": "code",
   "execution_count": 52,
   "id": "3aafd9d0",
   "metadata": {},
   "outputs": [],
   "source": [
    "cities = {'rome': {'country': 'italy', 'population': 2860009, 'fun_fact': 'Rome was the host city of the 1960 Summer Olympics.'}, 'jakarta': {'country': 'indonesia', 'population': 10679951, 'fun_fact': 'Jakarta is sinking up to 6.7 inches annually, making it one of the fastest-sinking capitals in the world.'}, 'santiago': {'country': 'chile', 'population': 6269384, 'fun_fact': 'Santiago is within an hour drive of both the Andes Mountains and the Pacific Ocean.'}}"
   ]
  },
  {
   "cell_type": "code",
   "execution_count": 54,
   "id": "8cf87875",
   "metadata": {},
   "outputs": [
    {
     "name": "stdout",
     "output_type": "stream",
     "text": [
      "Rome\n",
      "Country: Italy\n",
      "Approximate population: 2860009\n",
      "Fun fact: Rome was the host city of the 1960 Summer Olympics.\n",
      "\n",
      "Jakarta\n",
      "Country: Indonesia\n",
      "Approximate population: 10679951\n",
      "Fun fact: Jakarta is sinking up to 6.7 inches annually, making it one of the fastest-sinking capitals in the world.\n",
      "\n",
      "Santiago\n",
      "Country: Chile\n",
      "Approximate population: 6269384\n",
      "Fun fact: Santiago is within an hour drive of both the Andes Mountains and the Pacific Ocean.\n",
      "\n"
     ]
    }
   ],
   "source": [
    "for key, value in cities.items():\n",
    "    print(key.title())\n",
    "    print(\"Country: \" + value['country'].title())\n",
    "    print('Approximate population: ' + str(value['population']))\n",
    "    print('Fun fact: ' + value['fun_fact'] + \"\\n\")"
   ]
  },
  {
   "cell_type": "code",
   "execution_count": null,
   "id": "ab3398a9",
   "metadata": {},
   "outputs": [],
   "source": []
  }
 ],
 "metadata": {
  "kernelspec": {
   "display_name": "Python 3 (ipykernel)",
   "language": "python",
   "name": "python3"
  },
  "language_info": {
   "codemirror_mode": {
    "name": "ipython",
    "version": 3
   },
   "file_extension": ".py",
   "mimetype": "text/x-python",
   "name": "python",
   "nbconvert_exporter": "python",
   "pygments_lexer": "ipython3",
   "version": "3.11.4"
  }
 },
 "nbformat": 4,
 "nbformat_minor": 5
}
