{
 "cells": [
  {
   "cell_type": "markdown",
   "id": "75c4966c",
   "metadata": {},
   "source": [
    "# Chapter 5"
   ]
  },
  {
   "cell_type": "markdown",
   "id": "1b9c4d55",
   "metadata": {},
   "source": [
    "## 5.1 / 5.2"
   ]
  },
  {
   "cell_type": "code",
   "execution_count": 2,
   "id": "4ef3e0b2",
   "metadata": {},
   "outputs": [],
   "source": [
    "subjects = [\"Math\", \"History\", \"English\",\"Science\"]\n",
    "numbers = [1, 2, 3, 4, 5]"
   ]
  },
  {
   "cell_type": "code",
   "execution_count": 3,
   "id": "391a3a52",
   "metadata": {},
   "outputs": [
    {
     "name": "stdout",
     "output_type": "stream",
     "text": [
      "Is len(lists)==4? I predict True.\n",
      "True\n"
     ]
    }
   ],
   "source": [
    "print(\"Is len(lists)==4? I predict True.\")\n",
    "print(len(subjects)==4)"
   ]
  },
  {
   "cell_type": "code",
   "execution_count": 4,
   "id": "774ba702",
   "metadata": {},
   "outputs": [
    {
     "name": "stdout",
     "output_type": "stream",
     "text": [
      "Is subjects[0]==\"Math\"? I predict True.\n",
      "True\n"
     ]
    }
   ],
   "source": [
    "print('Is subjects[0]==\"Math\"? I predict True.')\n",
    "print(subjects[0]==\"Math\")"
   ]
  },
  {
   "cell_type": "code",
   "execution_count": 5,
   "id": "5b2da094",
   "metadata": {},
   "outputs": [
    {
     "name": "stdout",
     "output_type": "stream",
     "text": [
      "Is subjects[3]==\"science\"? I predict False.\n",
      "False\n"
     ]
    }
   ],
   "source": [
    "print('Is subjects[3]==\"science\"? I predict False.')\n",
    "print(subjects[3]==\"science\")"
   ]
  },
  {
   "cell_type": "code",
   "execution_count": 6,
   "id": "a915f5cf",
   "metadata": {},
   "outputs": [
    {
     "name": "stdout",
     "output_type": "stream",
     "text": [
      "Is subjects[3].lower()==\"science\"? I predict True.\n",
      "True\n"
     ]
    }
   ],
   "source": [
    "print('Is subjects[3].lower()==\"science\"? I predict True.')\n",
    "print(subjects[3].lower()==\"science\")"
   ]
  },
  {
   "cell_type": "code",
   "execution_count": 7,
   "id": "97e651e2",
   "metadata": {},
   "outputs": [
    {
     "name": "stdout",
     "output_type": "stream",
     "text": [
      "Is len(subjects)>=len(numbers)? I predict False.\n",
      "False\n"
     ]
    }
   ],
   "source": [
    "print('Is len(subjects)>=len(numbers)? I predict False.')\n",
    "print(len(subjects)>=len(numbers))"
   ]
  },
  {
   "cell_type": "code",
   "execution_count": 8,
   "id": "2e381749",
   "metadata": {},
   "outputs": [
    {
     "name": "stdout",
     "output_type": "stream",
     "text": [
      "Is numbers[1]<=numbers[2]? I predict True.\n",
      "True\n"
     ]
    }
   ],
   "source": [
    "print('Is numbers[1]<=numbers[2]? I predict True.')\n",
    "print(numbers[1]<=numbers[2])"
   ]
  },
  {
   "cell_type": "code",
   "execution_count": 9,
   "id": "e7bd8e72",
   "metadata": {},
   "outputs": [
    {
     "name": "stdout",
     "output_type": "stream",
     "text": [
      "Is len(numbers[:1])>len(numbers[:3])? I predict False.\n",
      "False\n"
     ]
    }
   ],
   "source": [
    "print('Is len(numbers[:1])>len(numbers[:3])? I predict False.')\n",
    "print(len(numbers[:1])>len(numbers[:3]))"
   ]
  },
  {
   "cell_type": "code",
   "execution_count": 10,
   "id": "801f0f62",
   "metadata": {},
   "outputs": [
    {
     "name": "stdout",
     "output_type": "stream",
     "text": [
      "Is numbers[3]<len(subjects[3])? I predict True.\n",
      "True\n"
     ]
    }
   ],
   "source": [
    "print('Is numbers[3]<len(subjects[3])? I predict True.')\n",
    "print(numbers[3]<len(subjects[3]))"
   ]
  },
  {
   "cell_type": "code",
   "execution_count": 13,
   "id": "7e25da63",
   "metadata": {},
   "outputs": [
    {
     "name": "stdout",
     "output_type": "stream",
     "text": [
      "Is \"History\" in subjects? I predict False.\n",
      "False\n"
     ]
    }
   ],
   "source": [
    "print('Is \"History\" in subjects? I predict False.')\n",
    "print(\"History\" not in subjects)"
   ]
  },
  {
   "cell_type": "code",
   "execution_count": 12,
   "id": "dd7cb5c9",
   "metadata": {},
   "outputs": [
    {
     "name": "stdout",
     "output_type": "stream",
     "text": [
      "Is \"science\" in subjects? I predict False.\n",
      "False\n"
     ]
    }
   ],
   "source": [
    "print('Is \"science\" in subjects? I predict False.')\n",
    "print(\"science\" in subjects)"
   ]
  },
  {
   "cell_type": "code",
   "execution_count": 14,
   "id": "0b51fbc5",
   "metadata": {},
   "outputs": [
    {
     "name": "stdout",
     "output_type": "stream",
     "text": [
      "Is numbers[0] < 100 and numbers[1] > 100? I predict False.\n",
      "False\n"
     ]
    }
   ],
   "source": [
    "print('Is numbers[0] < 100 and numbers[1] > 100? I predict False.')\n",
    "print(numbers[0] < 100 and numbers[1] > 100)"
   ]
  },
  {
   "cell_type": "code",
   "execution_count": 15,
   "id": "0b62d779",
   "metadata": {},
   "outputs": [
    {
     "name": "stdout",
     "output_type": "stream",
     "text": [
      "Is numbers[0] < 100 or numbers[1] > 100? I predict True.\n",
      "True\n"
     ]
    }
   ],
   "source": [
    "print('Is numbers[0] < 100 or numbers[1] > 100? I predict True.')\n",
    "print(numbers[0] < 100 or numbers[1] > 100)"
   ]
  },
  {
   "cell_type": "markdown",
   "id": "e7485070",
   "metadata": {},
   "source": [
    "## 5.6"
   ]
  },
  {
   "cell_type": "code",
   "execution_count": 26,
   "id": "cf8fe788",
   "metadata": {},
   "outputs": [
    {
     "name": "stdout",
     "output_type": "stream",
     "text": [
      "This person is a kid.\n"
     ]
    }
   ],
   "source": [
    "age = 8\n",
    "if age < 2:\n",
    "    print(\"This person is a baby.\")\n",
    "elif age >= 2 and age < 4:\n",
    "    print(\"This person is a toddler.\")\n",
    "elif age >= 4 and age < 13:\n",
    "    print(\"This person is a kid.\")\n",
    "elif age >=13 and age < 20:\n",
    "    print(\"This person is a teenager.\")\n",
    "elif age >= 30 and age < 65:\n",
    "    print(\"This person is an adult.\")\n",
    "else:\n",
    "    print(\"This person is an elder.\")"
   ]
  },
  {
   "cell_type": "markdown",
   "id": "33e6282a",
   "metadata": {},
   "source": [
    "## 5.7"
   ]
  },
  {
   "cell_type": "code",
   "execution_count": 28,
   "id": "ad796135",
   "metadata": {},
   "outputs": [
    {
     "name": "stdout",
     "output_type": "stream",
     "text": [
      "You really like apples!\n",
      "You really like mangoes!\n",
      "You really like bananas!\n"
     ]
    }
   ],
   "source": [
    "favorite_fruits = [\"Apple\", \"Mango\", \"Banana\"]\n",
    "if \"Apple\" in favorite_fruits:\n",
    "    print(\"You really like apples!\")\n",
    "    \n",
    "if \"Mango\" in favorite_fruits:\n",
    "    print(\"You really like mangoes!\")\n",
    "    \n",
    "if \"Banana\" in favorite_fruits:\n",
    "    print(\"You really like bananas!\")\n",
    "    \n",
    "if \"Strawberry\" in favorite_fruits:\n",
    "    print(\"You really like strawberries!\")\n",
    "    \n",
    "if \"Blueberry\" in favorite_fruits:\n",
    "    print(\"You really like blueberries!\")"
   ]
  },
  {
   "cell_type": "markdown",
   "id": "ed14eac3",
   "metadata": {},
   "source": [
    "## 5.8"
   ]
  },
  {
   "cell_type": "code",
   "execution_count": 31,
   "id": "e2cbaf4e",
   "metadata": {},
   "outputs": [
    {
     "name": "stdout",
     "output_type": "stream",
     "text": [
      "Hello admin, would you like to see a status report?\n",
      "Hello student, thank you for logging in again.\n",
      "Hello staff, thank you for logging in again.\n",
      "Hello faculty, thank you for logging in again.\n",
      "Hello assistant, thank you for logging in again.\n"
     ]
    }
   ],
   "source": [
    "usernames = ['admin', 'student', 'staff', 'faculty', 'assistant']\n",
    "\n",
    "for user in usernames:\n",
    "    if user == 'admin':\n",
    "        print(\"Hello \" + user + \", would you like to see a status report?\")\n",
    "    else:\n",
    "        print(\"Hello \" + user + \", thank you for logging in again.\")"
   ]
  },
  {
   "cell_type": "markdown",
   "id": "ffd1cab8",
   "metadata": {},
   "source": [
    "## 5.9"
   ]
  },
  {
   "cell_type": "code",
   "execution_count": 35,
   "id": "2a6183e6",
   "metadata": {},
   "outputs": [
    {
     "name": "stdout",
     "output_type": "stream",
     "text": [
      "We need to find some users!\n"
     ]
    }
   ],
   "source": [
    "usernames = []\n",
    "\n",
    "if len(usernames)==0:\n",
    "    print(\"We need to find some users!\")\n",
    "else:\n",
    "    for user in usernames:\n",
    "        if user == 'admin':\n",
    "            print(\"Hello \" + user + \", would you like to see a status report?\")\n",
    "        else:\n",
    "            print(\"Hello \" + user + \", thank you for logging in again.\")"
   ]
  },
  {
   "cell_type": "markdown",
   "id": "0255a586",
   "metadata": {},
   "source": [
    "## 5.10"
   ]
  },
  {
   "cell_type": "code",
   "execution_count": 36,
   "id": "8494a26d",
   "metadata": {},
   "outputs": [],
   "source": [
    "current_users = [\"user1\", \"user2\", \"user3\", \"user4\", \"user5\"]"
   ]
  },
  {
   "cell_type": "code",
   "execution_count": 37,
   "id": "cbbd86f3",
   "metadata": {},
   "outputs": [],
   "source": [
    "new_users = [\"new1\", \"new2\", \"new3\", \"user1\", \"user2\"]"
   ]
  },
  {
   "cell_type": "code",
   "execution_count": 44,
   "id": "5b442da3",
   "metadata": {},
   "outputs": [
    {
     "name": "stdout",
     "output_type": "stream",
     "text": [
      "Username new1 is available.\n",
      "Username new2 is available.\n",
      "Username new3 is available.\n",
      "Sorry, the username user1 is already taken. Please enter a new username.\n",
      "Sorry, the username user2 is already taken. Please enter a new username.\n"
     ]
    }
   ],
   "source": [
    "for user in new_users:\n",
    "    if user in current_users:\n",
    "        print(\"Sorry, the username \" + user + \" is already taken. Please enter a new username.\")\n",
    "    else:\n",
    "        print(\"Username \" + user + \" is available.\")"
   ]
  },
  {
   "cell_type": "markdown",
   "id": "59e76abc",
   "metadata": {},
   "source": []
  }
 ],
 "metadata": {
  "kernelspec": {
   "display_name": "Python 3 (ipykernel)",
   "language": "python",
   "name": "python3"
  },
  "language_info": {
   "codemirror_mode": {
    "name": "ipython",
    "version": 3
   },
   "file_extension": ".py",
   "mimetype": "text/x-python",
   "name": "python",
   "nbconvert_exporter": "python",
   "pygments_lexer": "ipython3",
   "version": "3.11.4"
  }
 },
 "nbformat": 4,
 "nbformat_minor": 5
}
