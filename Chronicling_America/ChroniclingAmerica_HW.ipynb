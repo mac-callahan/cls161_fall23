{
 "cells": [
  {
   "cell_type": "code",
   "execution_count": 1,
   "id": "fd231dad",
   "metadata": {},
   "outputs": [],
   "source": [
    "# imports\n",
    "import requests\n",
    "import json\n",
    "import math\n",
    "import pandas as pd\n",
    "import spacy"
   ]
  },
  {
   "cell_type": "code",
   "execution_count": 7,
   "id": "4cc82528",
   "metadata": {},
   "outputs": [],
   "source": [
    "# initial search\n",
    "url = 'https://chroniclingamerica.loc.gov/search/pages/results/?state=Maine&date1=1918&date2=1920&proxtext=epidemic&x=20&y=8&dateFilterType=yearRange&rows=20&searchType=basic&format=json'\n",
    "response = requests.get(url)\n",
    "raw = response.text\n",
    "results = json.loads(raw)"
   ]
  },
  {
   "cell_type": "code",
   "execution_count": 8,
   "id": "d4e3cb43",
   "metadata": {},
   "outputs": [
    {
     "data": {
      "text/plain": [
       "dict_keys(['totalItems', 'endIndex', 'startIndex', 'itemsPerPage', 'items'])"
      ]
     },
     "execution_count": 8,
     "metadata": {},
     "output_type": "execute_result"
    }
   ],
   "source": [
    "results.keys()"
   ]
  },
  {
   "cell_type": "code",
   "execution_count": 9,
   "id": "91545fe3",
   "metadata": {},
   "outputs": [
    {
     "name": "stdout",
     "output_type": "stream",
     "text": [
      "totalItems: 1339\n",
      "endIndex: 20\n",
      "startIndex: 1\n",
      "itemsPerPage: 20\n",
      "Length and type of items: 20 <class 'list'>\n"
     ]
    }
   ],
   "source": [
    "print('totalItems:', results['totalItems'])\n",
    "print('endIndex:', results['endIndex'])\n",
    "print('startIndex:', results['startIndex'])\n",
    "print('itemsPerPage:', results['itemsPerPage'])\n",
    "print('Length and type of items:', len(results['items']), type(results['items']))"
   ]
  },
  {
   "cell_type": "code",
   "execution_count": 10,
   "id": "19d14a94",
   "metadata": {},
   "outputs": [
    {
     "name": "stdout",
     "output_type": "stream",
     "text": [
      "67\n"
     ]
    }
   ],
   "source": [
    "# find total amount of pages\n",
    "total_pages = math.ceil(results['totalItems'] / results['itemsPerPage'])\n",
    "print(total_pages)"
   ]
  },
  {
   "cell_type": "code",
   "execution_count": 11,
   "id": "42d17dec",
   "metadata": {},
   "outputs": [],
   "source": [
    "# create empty list for data\n",
    "data = []"
   ]
  },
  {
   "cell_type": "code",
   "execution_count": 12,
   "id": "32743c33",
   "metadata": {},
   "outputs": [],
   "source": [
    "# set search parameters\n",
    "start_date = '1918'\n",
    "end_date = '1920'\n",
    "search_term = 'epidemic'\n",
    "state = 'Maine'"
   ]
  },
  {
   "cell_type": "code",
   "execution_count": 13,
   "id": "d4c979a4",
   "metadata": {},
   "outputs": [
    {
     "name": "stdout",
     "output_type": "stream",
     "text": [
      "page 1 status code: 200\n",
      "page 2 status code: 200\n",
      "page 3 status code: 200\n",
      "page 4 status code: 200\n",
      "page 5 status code: 200\n",
      "page 6 status code: 200\n",
      "page 7 status code: 200\n",
      "page 8 status code: 200\n",
      "page 9 status code: 200\n",
      "page 10 status code: 200\n",
      "page 11 status code: 200\n",
      "page 12 status code: 200\n",
      "page 13 status code: 200\n",
      "page 14 status code: 200\n",
      "page 15 status code: 200\n",
      "page 16 status code: 200\n",
      "page 17 status code: 200\n",
      "page 18 status code: 200\n",
      "page 19 status code: 200\n",
      "page 20 status code: 200\n",
      "page 21 status code: 200\n",
      "page 22 status code: 200\n",
      "page 23 status code: 200\n",
      "page 24 status code: 200\n",
      "page 25 status code: 200\n",
      "page 26 status code: 200\n",
      "page 27 status code: 200\n",
      "page 28 status code: 200\n",
      "page 29 status code: 200\n",
      "page 30 status code: 200\n",
      "page 31 status code: 200\n",
      "page 32 status code: 200\n",
      "page 33 status code: 200\n",
      "page 34 status code: 200\n",
      "page 35 status code: 200\n",
      "page 36 status code: 200\n",
      "page 37 status code: 200\n",
      "page 38 status code: 200\n",
      "page 39 status code: 200\n",
      "page 40 status code: 200\n",
      "page 41 status code: 200\n",
      "page 42 status code: 200\n",
      "page 43 status code: 200\n",
      "page 44 status code: 200\n",
      "page 45 status code: 200\n",
      "page 46 status code: 200\n",
      "page 47 status code: 200\n",
      "page 48 status code: 200\n",
      "page 49 status code: 200\n",
      "page 50 status code: 200\n",
      "page 51 status code: 200\n",
      "page 52 status code: 200\n",
      "page 53 status code: 200\n",
      "page 54 status code: 200\n",
      "page 55 status code: 200\n",
      "page 56 status code: 200\n",
      "page 57 status code: 200\n",
      "page 58 status code: 200\n",
      "page 59 status code: 200\n",
      "page 60 status code: 200\n",
      "page 61 status code: 200\n",
      "page 62 status code: 200\n",
      "page 63 status code: 200\n",
      "page 64 status code: 200\n",
      "page 65 status code: 200\n",
      "page 66 status code: 200\n",
      "page 67 status code: 200\n"
     ]
    }
   ],
   "source": [
    "# loop through search results and collect data\n",
    "for i in range(1, total_pages + 1):  # for sake of time I'm doing only 10, you will want to put total_pages+1\n",
    "    url = (f'https://chroniclingamerica.loc.gov/search/pages/results/?state={state}&date1={start_date}'\n",
    "           f'&date2={end_date}&proxtext={search_term}&x=16&y=8&dateFilterType=yearRange&rows=20'\n",
    "           f'&searchType=basic&format=json&page={i}')  # f-string\n",
    "    response = requests.get(url)\n",
    "    raw = response.text\n",
    "    print(f'page {i} status code:', response.status_code)  # checking for errors\n",
    "    results = json.loads(raw)\n",
    "    items_ = results['items']\n",
    "    for item_ in items_:\n",
    "        row_data = {}\n",
    "        try:\n",
    "          row_data['title'] = item_['title_normal']\n",
    "        except:\n",
    "          row_data['city'] = \"none\"\n",
    "        try:\n",
    "          row_data['city'] = item_['city']\n",
    "        except:\n",
    "          row_data['city'] = \"none\"\n",
    "        try:\n",
    "          row_data['date'] = item_['date']\n",
    "        except:\n",
    "          row_data['date'] = \"none\"\n",
    "        try:\n",
    "          row_data['raw_text'] = item_['ocr_eng']\n",
    "        except:\n",
    "          row_data['raw_text'] = 'none'\n",
    "    data.append(row_data)"
   ]
  },
  {
   "cell_type": "code",
   "execution_count": 14,
   "id": "cb30cc5c",
   "metadata": {},
   "outputs": [],
   "source": [
    "# put data into DataFrame\n",
    "df = pd.DataFrame.from_dict(data)\n",
    "# convert date column from string to date-time object\n",
    "df['date'] = pd.to_datetime(df['date'])\n",
    "# sort by date\n",
    "df = df.sort_values(by='date')"
   ]
  },
  {
   "cell_type": "code",
   "execution_count": 15,
   "id": "b5d26dda",
   "metadata": {},
   "outputs": [
    {
     "data": {
      "text/html": [
       "<div>\n",
       "<style scoped>\n",
       "    .dataframe tbody tr th:only-of-type {\n",
       "        vertical-align: middle;\n",
       "    }\n",
       "\n",
       "    .dataframe tbody tr th {\n",
       "        vertical-align: top;\n",
       "    }\n",
       "\n",
       "    .dataframe thead th {\n",
       "        text-align: right;\n",
       "    }\n",
       "</style>\n",
       "<table border=\"1\" class=\"dataframe\">\n",
       "  <thead>\n",
       "    <tr style=\"text-align: right;\">\n",
       "      <th></th>\n",
       "      <th>title</th>\n",
       "      <th>city</th>\n",
       "      <th>date</th>\n",
       "      <th>raw_text</th>\n",
       "    </tr>\n",
       "  </thead>\n",
       "  <tbody>\n",
       "    <tr>\n",
       "      <th>63</th>\n",
       "      <td>daily kennebec journal.</td>\n",
       "      <td>[Augusta]</td>\n",
       "      <td>1918-01-01</td>\n",
       "      <td>FIRST DIVISION\\nabs of Major Leagues\\nWill Sha...</td>\n",
       "    </tr>\n",
       "    <tr>\n",
       "      <th>54</th>\n",
       "      <td>daily kennebec journal.</td>\n",
       "      <td>[Augusta]</td>\n",
       "      <td>1918-01-07</td>\n",
       "      <td>Daily KENNEBEC JOURNAL\\nTelephone 135\\n»'ds of...</td>\n",
       "    </tr>\n",
       "    <tr>\n",
       "      <th>42</th>\n",
       "      <td>republican journal.</td>\n",
       "      <td>[Belfast]</td>\n",
       "      <td>1918-02-21</td>\n",
       "      <td>The Republican Journal^\\nBELFAST, THURSDAY, FF...</td>\n",
       "    </tr>\n",
       "    <tr>\n",
       "      <th>24</th>\n",
       "      <td>daily kennebec journal.</td>\n",
       "      <td>[Augusta]</td>\n",
       "      <td>1918-03-09</td>\n",
       "      <td>Classified\\n\\d Rates\\n—v...\\n' *ord for 6 time...</td>\n",
       "    </tr>\n",
       "    <tr>\n",
       "      <th>44</th>\n",
       "      <td>independent-reporter.</td>\n",
       "      <td>[Skowhegan]</td>\n",
       "      <td>1918-04-04</td>\n",
       "      <td>lical Estate Transfers\\nThe records of the fol...</td>\n",
       "    </tr>\n",
       "  </tbody>\n",
       "</table>\n",
       "</div>"
      ],
      "text/plain": [
       "                      title         city       date  \\\n",
       "63  daily kennebec journal.    [Augusta] 1918-01-01   \n",
       "54  daily kennebec journal.    [Augusta] 1918-01-07   \n",
       "42      republican journal.    [Belfast] 1918-02-21   \n",
       "24  daily kennebec journal.    [Augusta] 1918-03-09   \n",
       "44    independent-reporter.  [Skowhegan] 1918-04-04   \n",
       "\n",
       "                                             raw_text  \n",
       "63  FIRST DIVISION\\nabs of Major Leagues\\nWill Sha...  \n",
       "54  Daily KENNEBEC JOURNAL\\nTelephone 135\\n»'ds of...  \n",
       "42  The Republican Journal^\\nBELFAST, THURSDAY, FF...  \n",
       "24  Classified\\n\\d Rates\\n—v...\\n' *ord for 6 time...  \n",
       "44  lical Estate Transfers\\nThe records of the fol...  "
      ]
     },
     "execution_count": 15,
     "metadata": {},
     "output_type": "execute_result"
    }
   ],
   "source": [
    "df.head()"
   ]
  },
  {
   "cell_type": "code",
   "execution_count": 16,
   "id": "0640729a",
   "metadata": {},
   "outputs": [],
   "source": [
    "# fuction to process text\n",
    "# load nlp model\n",
    "nlp = spacy.load(\"en_core_web_sm\")\n",
    "nlp.disable_pipes('ner', 'parser')  # these are unnecessary for the task at hand\n",
    "\n",
    "def process_text(text):\n",
    "    \"\"\"Remove new line characters and stop words and lemmatize text. Returns string of lemmas\"\"\"\n",
    "    text = text.replace('\\n', ' ')\n",
    "    doc = nlp(text)\n",
    "    tokens = [token for token in doc]\n",
    "    no_stops = [token for token in tokens if not token.is_stop]\n",
    "    no_punct = [token for token in no_stops if token.is_alpha]\n",
    "    lemmas = [token.lemma_ for token in no_punct]\n",
    "    lemmas_lower = [lemma.lower() for lemma in lemmas]\n",
    "    lemmas_string = ' '.join(lemmas_lower)\n",
    "    return lemmas_string"
   ]
  },
  {
   "cell_type": "code",
   "execution_count": 17,
   "id": "fc4d7c60",
   "metadata": {},
   "outputs": [],
   "source": [
    "# apply process_text function\n",
    "df['lemmas'] = df['raw_text'].apply(process_text)"
   ]
  },
  {
   "cell_type": "code",
   "execution_count": 18,
   "id": "de0a92d5",
   "metadata": {},
   "outputs": [
    {
     "data": {
      "text/html": [
       "<div>\n",
       "<style scoped>\n",
       "    .dataframe tbody tr th:only-of-type {\n",
       "        vertical-align: middle;\n",
       "    }\n",
       "\n",
       "    .dataframe tbody tr th {\n",
       "        vertical-align: top;\n",
       "    }\n",
       "\n",
       "    .dataframe thead th {\n",
       "        text-align: right;\n",
       "    }\n",
       "</style>\n",
       "<table border=\"1\" class=\"dataframe\">\n",
       "  <thead>\n",
       "    <tr style=\"text-align: right;\">\n",
       "      <th></th>\n",
       "      <th>title</th>\n",
       "      <th>city</th>\n",
       "      <th>date</th>\n",
       "      <th>raw_text</th>\n",
       "      <th>lemmas</th>\n",
       "    </tr>\n",
       "  </thead>\n",
       "  <tbody>\n",
       "    <tr>\n",
       "      <th>63</th>\n",
       "      <td>daily kennebec journal.</td>\n",
       "      <td>[Augusta]</td>\n",
       "      <td>1918-01-01</td>\n",
       "      <td>FIRST DIVISION\\nabs of Major Leagues\\nWill Sha...</td>\n",
       "      <td>division ab major leagues share world series p...</td>\n",
       "    </tr>\n",
       "    <tr>\n",
       "      <th>54</th>\n",
       "      <td>daily kennebec journal.</td>\n",
       "      <td>[Augusta]</td>\n",
       "      <td>1918-01-07</td>\n",
       "      <td>Daily KENNEBEC JOURNAL\\nTelephone 135\\n»'ds of...</td>\n",
       "      <td>daily kennebec journal telephone ds thank obit...</td>\n",
       "    </tr>\n",
       "    <tr>\n",
       "      <th>42</th>\n",
       "      <td>republican journal.</td>\n",
       "      <td>[Belfast]</td>\n",
       "      <td>1918-02-21</td>\n",
       "      <td>The Republican Journal^\\nBELFAST, THURSDAY, FF...</td>\n",
       "      <td>republican belfast thursday ffb published thur...</td>\n",
       "    </tr>\n",
       "    <tr>\n",
       "      <th>24</th>\n",
       "      <td>daily kennebec journal.</td>\n",
       "      <td>[Augusta]</td>\n",
       "      <td>1918-03-09</td>\n",
       "      <td>Classified\\n\\d Rates\\n—v...\\n' *ord for 6 time...</td>\n",
       "      <td>classified rate v ord time conaacutiv insertio...</td>\n",
       "    </tr>\n",
       "    <tr>\n",
       "      <th>44</th>\n",
       "      <td>independent-reporter.</td>\n",
       "      <td>[Skowhegan]</td>\n",
       "      <td>1918-04-04</td>\n",
       "      <td>lical Estate Transfers\\nThe records of the fol...</td>\n",
       "      <td>lical estate transfers record follow real tran...</td>\n",
       "    </tr>\n",
       "  </tbody>\n",
       "</table>\n",
       "</div>"
      ],
      "text/plain": [
       "                      title         city       date  \\\n",
       "63  daily kennebec journal.    [Augusta] 1918-01-01   \n",
       "54  daily kennebec journal.    [Augusta] 1918-01-07   \n",
       "42      republican journal.    [Belfast] 1918-02-21   \n",
       "24  daily kennebec journal.    [Augusta] 1918-03-09   \n",
       "44    independent-reporter.  [Skowhegan] 1918-04-04   \n",
       "\n",
       "                                             raw_text  \\\n",
       "63  FIRST DIVISION\\nabs of Major Leagues\\nWill Sha...   \n",
       "54  Daily KENNEBEC JOURNAL\\nTelephone 135\\n»'ds of...   \n",
       "42  The Republican Journal^\\nBELFAST, THURSDAY, FF...   \n",
       "24  Classified\\n\\d Rates\\n—v...\\n' *ord for 6 time...   \n",
       "44  lical Estate Transfers\\nThe records of the fol...   \n",
       "\n",
       "                                               lemmas  \n",
       "63  division ab major leagues share world series p...  \n",
       "54  daily kennebec journal telephone ds thank obit...  \n",
       "42  republican belfast thursday ffb published thur...  \n",
       "24  classified rate v ord time conaacutiv insertio...  \n",
       "44  lical estate transfers record follow real tran...  "
      ]
     },
     "execution_count": 18,
     "metadata": {},
     "output_type": "execute_result"
    }
   ],
   "source": [
    "df.head()"
   ]
  },
  {
   "cell_type": "code",
   "execution_count": 20,
   "id": "bae299a0",
   "metadata": {},
   "outputs": [],
   "source": [
    "# save to csv\n",
    "df.to_csv(f'{search_term}{start_date}-{end_date}.csv', index=False)"
   ]
  },
  {
   "cell_type": "code",
   "execution_count": null,
   "id": "3fb67af2",
   "metadata": {},
   "outputs": [],
   "source": []
  }
 ],
 "metadata": {
  "kernelspec": {
   "display_name": "Python 3 (ipykernel)",
   "language": "python",
   "name": "python3"
  },
  "language_info": {
   "codemirror_mode": {
    "name": "ipython",
    "version": 3
   },
   "file_extension": ".py",
   "mimetype": "text/x-python",
   "name": "python",
   "nbconvert_exporter": "python",
   "pygments_lexer": "ipython3",
   "version": "3.11.4"
  }
 },
 "nbformat": 4,
 "nbformat_minor": 5
}
