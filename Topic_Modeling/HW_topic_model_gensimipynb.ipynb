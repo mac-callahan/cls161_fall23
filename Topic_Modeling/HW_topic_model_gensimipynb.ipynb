{
 "cells": [
  {
   "cell_type": "markdown",
   "metadata": {
    "id": "36uPeEC46t-G"
   },
   "source": [
    "# HW: Topic Modeling with Gensim\n",
    "Topic modeling a corpus of poems from Dorothy Parker's _Enough Rope_, found here: https://www.gutenberg.org/cache/epub/68353/pg68353.txt"
   ]
  },
  {
   "cell_type": "markdown",
   "metadata": {
    "id": "Fyz1mFAg9OKl"
   },
   "source": [
    "## Set up"
   ]
  },
  {
   "cell_type": "code",
   "execution_count": 379,
   "metadata": {
    "id": "USMtp3eZwP2_"
   },
   "outputs": [
    {
     "name": "stdout",
     "output_type": "stream",
     "text": [
      "Requirement already satisfied: funcy in /Users/maccallahan/miniconda3/lib/python3.11/site-packages (2.0)\r\n"
     ]
    }
   ],
   "source": [
    "! pip install funcy"
   ]
  },
  {
   "cell_type": "code",
   "execution_count": 380,
   "metadata": {
    "id": "W9t9851RwbBf"
   },
   "outputs": [
    {
     "name": "stdout",
     "output_type": "stream",
     "text": [
      "Requirement already satisfied: tzdata in /Users/maccallahan/miniconda3/lib/python3.11/site-packages (2023.3)\r\n"
     ]
    }
   ],
   "source": [
    "! pip install tzdata"
   ]
  },
  {
   "cell_type": "code",
   "execution_count": 381,
   "metadata": {
    "id": "3ioG-DxNtFrm"
   },
   "outputs": [
    {
     "name": "stdout",
     "output_type": "stream",
     "text": [
      "Requirement already satisfied: pyLDAvis in /Users/maccallahan/miniconda3/lib/python3.11/site-packages (3.4.1)\r\n"
     ]
    }
   ],
   "source": [
    "! pip install --no-dependencies pyLDAvis"
   ]
  },
  {
   "cell_type": "code",
   "execution_count": 382,
   "metadata": {
    "id": "koKBBWZDvQfu"
   },
   "outputs": [
    {
     "name": "stdout",
     "output_type": "stream",
     "text": [
      "Requirement already satisfied: wget in /Users/maccallahan/miniconda3/lib/python3.11/site-packages (3.2)\r\n"
     ]
    }
   ],
   "source": [
    "! pip install wget"
   ]
  },
  {
   "cell_type": "code",
   "execution_count": 383,
   "metadata": {
    "id": "R3pSFNjPoIDG"
   },
   "outputs": [
    {
     "data": {
      "text/plain": [
       "['ner', 'parser']"
      ]
     },
     "execution_count": 383,
     "metadata": {},
     "output_type": "execute_result"
    }
   ],
   "source": [
    "from collections import defaultdict\n",
    "import wget\n",
    "from gensim import corpora, models\n",
    "import pandas as pd\n",
    "import pyLDAvis.gensim\n",
    "import warnings\n",
    "warnings.filterwarnings(\"ignore\", category=DeprecationWarning)\n",
    "import requests\n",
    "import spacy\n",
    "\n",
    "# set up nlp pipline\n",
    "nlp = spacy.load(\"en_core_web_sm\")\n",
    "nlp.disable_pipes('ner', 'parser')"
   ]
  },
  {
   "cell_type": "markdown",
   "metadata": {
    "id": "-8L8vc5ovd5B"
   },
   "source": [
    "## Upload data"
   ]
  },
  {
   "cell_type": "code",
   "execution_count": 384,
   "metadata": {},
   "outputs": [],
   "source": [
    "# use requests library to load text\n",
    "url = 'https://www.gutenberg.org/cache/epub/68353/pg68353.txt'\n",
    "response = requests.get(url)\n",
    "text = response.text"
   ]
  },
  {
   "cell_type": "code",
   "execution_count": 385,
   "metadata": {},
   "outputs": [],
   "source": [
    "start = text.find('_Threnody_')\n",
    "end = text.find('*** END OF THE PROJECT GUTENBERG EBOOK ENOUGH ROPE: POEMS ***') - 1"
   ]
  },
  {
   "cell_type": "code",
   "execution_count": 386,
   "metadata": {},
   "outputs": [],
   "source": [
    "tale = text[start:end]"
   ]
  },
  {
   "cell_type": "code",
   "execution_count": 387,
   "metadata": {},
   "outputs": [],
   "source": [
    "tale_poems = tale.split('_')"
   ]
  },
  {
   "cell_type": "code",
   "execution_count": 388,
   "metadata": {},
   "outputs": [],
   "source": [
    "for i in range (0, len(tale_poems)):\n",
    "    tale_poems[i] = tale_poems[i].replace('\\n', '')\n",
    "    tale_poems[i] = tale_poems[i].replace('\\r', '')\n",
    "    tale_poems[i] = tale_poems[i].strip()"
   ]
  },
  {
   "cell_type": "code",
   "execution_count": 389,
   "metadata": {},
   "outputs": [],
   "source": [
    "# creating empty lists for author and title will be handy for building our dataframe\n",
    "author = []\n",
    "title = []\n",
    "text = []\n",
    "\n",
    "for poem in tale_poems:\n",
    "    author.append('Dorothy Parker')\n",
    "    if len(poem) < 50 and len(poem) > 2 and poem[0].isupper():\n",
    "        title.append(poem)\n",
    "    elif len(poem) > 50:\n",
    "        text.append(poem)\n",
    "    else:\n",
    "        pass"
   ]
  },
  {
   "cell_type": "code",
   "execution_count": 390,
   "metadata": {
    "scrolled": false
   },
   "outputs": [
    {
     "data": {
      "text/html": [
       "<div>\n",
       "<style scoped>\n",
       "    .dataframe tbody tr th:only-of-type {\n",
       "        vertical-align: middle;\n",
       "    }\n",
       "\n",
       "    .dataframe tbody tr th {\n",
       "        vertical-align: top;\n",
       "    }\n",
       "\n",
       "    .dataframe thead th {\n",
       "        text-align: right;\n",
       "    }\n",
       "</style>\n",
       "<table border=\"1\" class=\"dataframe\">\n",
       "  <thead>\n",
       "    <tr style=\"text-align: right;\">\n",
       "      <th></th>\n",
       "      <th>author</th>\n",
       "      <th>title</th>\n",
       "      <th>text</th>\n",
       "    </tr>\n",
       "  </thead>\n",
       "  <tbody>\n",
       "    <tr>\n",
       "      <th>0</th>\n",
       "      <td>Dorothy Parker</td>\n",
       "      <td>Threnody</td>\n",
       "      <td>Lilacs blossom just as sweet    Now my heart i...</td>\n",
       "    </tr>\n",
       "    <tr>\n",
       "      <th>1</th>\n",
       "      <td>Dorothy Parker</td>\n",
       "      <td>The Small Hours</td>\n",
       "      <td>No more my little song comes back;      And no...</td>\n",
       "    </tr>\n",
       "    <tr>\n",
       "      <th>2</th>\n",
       "      <td>Dorothy Parker</td>\n",
       "      <td>The False Friends</td>\n",
       "      <td>They laid their hands upon my head,    They st...</td>\n",
       "    </tr>\n",
       "    <tr>\n",
       "      <th>3</th>\n",
       "      <td>Dorothy Parker</td>\n",
       "      <td>The Trifler</td>\n",
       "      <td>Death's the lover that I'd be taking;      Wil...</td>\n",
       "    </tr>\n",
       "    <tr>\n",
       "      <th>4</th>\n",
       "      <td>Dorothy Parker</td>\n",
       "      <td>A Very Short Song</td>\n",
       "      <td>Once when I was young and true,      Someone l...</td>\n",
       "    </tr>\n",
       "  </tbody>\n",
       "</table>\n",
       "</div>"
      ],
      "text/plain": [
       "           author              title  \\\n",
       "0  Dorothy Parker           Threnody   \n",
       "1  Dorothy Parker    The Small Hours   \n",
       "2  Dorothy Parker  The False Friends   \n",
       "3  Dorothy Parker        The Trifler   \n",
       "4  Dorothy Parker  A Very Short Song   \n",
       "\n",
       "                                                text  \n",
       "0  Lilacs blossom just as sweet    Now my heart i...  \n",
       "1  No more my little song comes back;      And no...  \n",
       "2  They laid their hands upon my head,    They st...  \n",
       "3  Death's the lover that I'd be taking;      Wil...  \n",
       "4  Once when I was young and true,      Someone l...  "
      ]
     },
     "execution_count": 390,
     "metadata": {},
     "output_type": "execute_result"
    }
   ],
   "source": [
    "# create dataframe\n",
    "df = pd.DataFrame(list(zip(author, title, text)), columns=['author', 'title', 'text'])\n",
    "df.head()"
   ]
  },
  {
   "cell_type": "code",
   "execution_count": 391,
   "metadata": {},
   "outputs": [],
   "source": [
    "# extract lemmas\n",
    "def process_text(text):\n",
    "    \"\"\"Remove new line characters and lemmatize text. Returns string of lemmas\"\"\"\n",
    "    text = text.replace('\\n', ' ')\n",
    "    doc = nlp(text)\n",
    "    tokens = [token for token in doc]\n",
    "    no_stops = [token for token in tokens if not token.is_stop]\n",
    "    no_punct = [token for token in no_stops if token.is_alpha]\n",
    "    lemmas = [token.lemma_ for token in no_punct]\n",
    "    lemmas_lower = [lemma.lower() for lemma in lemmas]\n",
    "    lemmas_string = ' '.join(lemmas_lower)\n",
    "    return lemmas_string"
   ]
  },
  {
   "cell_type": "code",
   "execution_count": 392,
   "metadata": {},
   "outputs": [],
   "source": [
    "# apply process_text to text column\n",
    "df['lemmas'] = df['text'].apply(process_text)"
   ]
  },
  {
   "cell_type": "code",
   "execution_count": 393,
   "metadata": {
    "scrolled": false
   },
   "outputs": [
    {
     "data": {
      "text/html": [
       "<div>\n",
       "<style scoped>\n",
       "    .dataframe tbody tr th:only-of-type {\n",
       "        vertical-align: middle;\n",
       "    }\n",
       "\n",
       "    .dataframe tbody tr th {\n",
       "        vertical-align: top;\n",
       "    }\n",
       "\n",
       "    .dataframe thead th {\n",
       "        text-align: right;\n",
       "    }\n",
       "</style>\n",
       "<table border=\"1\" class=\"dataframe\">\n",
       "  <thead>\n",
       "    <tr style=\"text-align: right;\">\n",
       "      <th></th>\n",
       "      <th>author</th>\n",
       "      <th>title</th>\n",
       "      <th>text</th>\n",
       "      <th>lemmas</th>\n",
       "    </tr>\n",
       "  </thead>\n",
       "  <tbody>\n",
       "    <tr>\n",
       "      <th>0</th>\n",
       "      <td>Dorothy Parker</td>\n",
       "      <td>Threnody</td>\n",
       "      <td>Lilacs blossom just as sweet    Now my heart i...</td>\n",
       "      <td>lilacs blossom sweet heart shatter bowl street...</td>\n",
       "    </tr>\n",
       "    <tr>\n",
       "      <th>1</th>\n",
       "      <td>Dorothy Parker</td>\n",
       "      <td>The Small Hours</td>\n",
       "      <td>No more my little song comes back;      And no...</td>\n",
       "      <td>little song come night lie head watch black wa...</td>\n",
       "    </tr>\n",
       "    <tr>\n",
       "      <th>2</th>\n",
       "      <td>Dorothy Parker</td>\n",
       "      <td>The False Friends</td>\n",
       "      <td>They laid their hands upon my head,    They st...</td>\n",
       "      <td>lay hand head stroke cheek brow time heal hurt...</td>\n",
       "    </tr>\n",
       "    <tr>\n",
       "      <th>3</th>\n",
       "      <td>Dorothy Parker</td>\n",
       "      <td>The Trifler</td>\n",
       "      <td>Death's the lover that I'd be taking;      Wil...</td>\n",
       "      <td>death lover take wild fickle fierce small care...</td>\n",
       "    </tr>\n",
       "    <tr>\n",
       "      <th>4</th>\n",
       "      <td>Dorothy Parker</td>\n",
       "      <td>A Very Short Song</td>\n",
       "      <td>Once when I was young and true,      Someone l...</td>\n",
       "      <td>young true leave break brittle heart bad love ...</td>\n",
       "    </tr>\n",
       "  </tbody>\n",
       "</table>\n",
       "</div>"
      ],
      "text/plain": [
       "           author              title  \\\n",
       "0  Dorothy Parker           Threnody   \n",
       "1  Dorothy Parker    The Small Hours   \n",
       "2  Dorothy Parker  The False Friends   \n",
       "3  Dorothy Parker        The Trifler   \n",
       "4  Dorothy Parker  A Very Short Song   \n",
       "\n",
       "                                                text  \\\n",
       "0  Lilacs blossom just as sweet    Now my heart i...   \n",
       "1  No more my little song comes back;      And no...   \n",
       "2  They laid their hands upon my head,    They st...   \n",
       "3  Death's the lover that I'd be taking;      Wil...   \n",
       "4  Once when I was young and true,      Someone l...   \n",
       "\n",
       "                                              lemmas  \n",
       "0  lilacs blossom sweet heart shatter bowl street...  \n",
       "1  little song come night lie head watch black wa...  \n",
       "2  lay hand head stroke cheek brow time heal hurt...  \n",
       "3  death lover take wild fickle fierce small care...  \n",
       "4  young true leave break brittle heart bad love ...  "
      ]
     },
     "execution_count": 393,
     "metadata": {},
     "output_type": "execute_result"
    }
   ],
   "source": [
    "# sanity check\n",
    "df.head()"
   ]
  },
  {
   "cell_type": "markdown",
   "metadata": {
    "id": "0YRAGS1-xPv_"
   },
   "source": [
    "## Prepare data for topic model\n"
   ]
  },
  {
   "cell_type": "code",
   "execution_count": 394,
   "metadata": {
    "id": "6ktGhQ_Hp30T"
   },
   "outputs": [
    {
     "data": {
      "text/html": [
       "<div>\n",
       "<style scoped>\n",
       "    .dataframe tbody tr th:only-of-type {\n",
       "        vertical-align: middle;\n",
       "    }\n",
       "\n",
       "    .dataframe tbody tr th {\n",
       "        vertical-align: top;\n",
       "    }\n",
       "\n",
       "    .dataframe thead th {\n",
       "        text-align: right;\n",
       "    }\n",
       "</style>\n",
       "<table border=\"1\" class=\"dataframe\">\n",
       "  <thead>\n",
       "    <tr style=\"text-align: right;\">\n",
       "      <th></th>\n",
       "      <th>author</th>\n",
       "      <th>title</th>\n",
       "      <th>text</th>\n",
       "      <th>lemmas</th>\n",
       "    </tr>\n",
       "  </thead>\n",
       "  <tbody>\n",
       "    <tr>\n",
       "      <th>0</th>\n",
       "      <td>Dorothy Parker</td>\n",
       "      <td>Threnody</td>\n",
       "      <td>Lilacs blossom just as sweet    Now my heart i...</td>\n",
       "      <td>lilacs blossom sweet heart shatter bowl street...</td>\n",
       "    </tr>\n",
       "    <tr>\n",
       "      <th>1</th>\n",
       "      <td>Dorothy Parker</td>\n",
       "      <td>The Small Hours</td>\n",
       "      <td>No more my little song comes back;      And no...</td>\n",
       "      <td>little song come night lie head watch black wa...</td>\n",
       "    </tr>\n",
       "    <tr>\n",
       "      <th>2</th>\n",
       "      <td>Dorothy Parker</td>\n",
       "      <td>The False Friends</td>\n",
       "      <td>They laid their hands upon my head,    They st...</td>\n",
       "      <td>lay hand head stroke cheek brow time heal hurt...</td>\n",
       "    </tr>\n",
       "    <tr>\n",
       "      <th>3</th>\n",
       "      <td>Dorothy Parker</td>\n",
       "      <td>The Trifler</td>\n",
       "      <td>Death's the lover that I'd be taking;      Wil...</td>\n",
       "      <td>death lover take wild fickle fierce small care...</td>\n",
       "    </tr>\n",
       "    <tr>\n",
       "      <th>4</th>\n",
       "      <td>Dorothy Parker</td>\n",
       "      <td>A Very Short Song</td>\n",
       "      <td>Once when I was young and true,      Someone l...</td>\n",
       "      <td>young true leave break brittle heart bad love ...</td>\n",
       "    </tr>\n",
       "  </tbody>\n",
       "</table>\n",
       "</div>"
      ],
      "text/plain": [
       "           author              title  \\\n",
       "0  Dorothy Parker           Threnody   \n",
       "1  Dorothy Parker    The Small Hours   \n",
       "2  Dorothy Parker  The False Friends   \n",
       "3  Dorothy Parker        The Trifler   \n",
       "4  Dorothy Parker  A Very Short Song   \n",
       "\n",
       "                                                text  \\\n",
       "0  Lilacs blossom just as sweet    Now my heart i...   \n",
       "1  No more my little song comes back;      And no...   \n",
       "2  They laid their hands upon my head,    They st...   \n",
       "3  Death's the lover that I'd be taking;      Wil...   \n",
       "4  Once when I was young and true,      Someone l...   \n",
       "\n",
       "                                              lemmas  \n",
       "0  lilacs blossom sweet heart shatter bowl street...  \n",
       "1  little song come night lie head watch black wa...  \n",
       "2  lay hand head stroke cheek brow time heal hurt...  \n",
       "3  death lover take wild fickle fierce small care...  \n",
       "4  young true leave break brittle heart bad love ...  "
      ]
     },
     "execution_count": 394,
     "metadata": {},
     "output_type": "execute_result"
    }
   ],
   "source": [
    "# extract the data out of the DataFrame\n",
    "documents = df['lemmas'].to_list()\n",
    "df.head()"
   ]
  },
  {
   "cell_type": "code",
   "execution_count": 395,
   "metadata": {},
   "outputs": [],
   "source": [
    "df.to_csv(f'dorothy_parker_poems.csv', index=False)"
   ]
  },
  {
   "cell_type": "markdown",
   "metadata": {
    "id": "WUp47iRFyyt9"
   },
   "source": [
    "`Gensim` needs each document to be tokenized. We can use [list comprehension](https://www.w3schools.com/python/python_lists_comprehension.asp) to quickly achieve this result. When complete, our data will now look like this:\n",
    "\n",
    "`[\n",
    "  ['This', 'is', 'document', '1'],\n",
    "  ['This', 'is', 'document', '2'],\n",
    "  ['This', 'is', 'document', '3'],\n",
    "]`"
   ]
  },
  {
   "cell_type": "code",
   "execution_count": 396,
   "metadata": {
    "id": "9TLsxA1dqGQZ"
   },
   "outputs": [
    {
     "data": {
      "text/plain": [
       "91"
      ]
     },
     "execution_count": 396,
     "metadata": {},
     "output_type": "execute_result"
    }
   ],
   "source": [
    "# tokenize - the syntax below will create a list of lists\n",
    "texts =[\n",
    "    [word for word in document.lower().split()]\n",
    "    for document in documents\n",
    "]\n",
    "len(texts)"
   ]
  },
  {
   "cell_type": "markdown",
   "metadata": {
    "id": "5F5fDqLYz6Aq"
   },
   "source": [
    "It takes a lot of preparation to build a useful topic model. An important part of that preparation is to eliminate \"noise\" from you model. One way to do this is to remove pieces of data that are irrelevant. Here we will remove tokens that only occur once. **You may want to adjust this as you refine your topic model.**"
   ]
  },
  {
   "cell_type": "code",
   "execution_count": 397,
   "metadata": {
    "id": "kKFI-BU3qH7z"
   },
   "outputs": [],
   "source": [
    "# create a count of each token\n",
    "frequency = defaultdict(int)\n",
    "for text in texts:\n",
    "  for token in text:\n",
    "    frequency[token] += 1"
   ]
  },
  {
   "cell_type": "code",
   "execution_count": 398,
   "metadata": {
    "id": "RWCyJLzRqv1T"
   },
   "outputs": [],
   "source": [
    "# remove words that appear only 1 time\n",
    "texts = [\n",
    "    [token for token in text if frequency[token] > 1]\n",
    "    for text in texts\n",
    "]"
   ]
  },
  {
   "cell_type": "markdown",
   "metadata": {
    "id": "wPBd4hh20l8y"
   },
   "source": [
    "## Build topic model"
   ]
  },
  {
   "cell_type": "code",
   "execution_count": 405,
   "metadata": {
    "id": "cpwKKpR4rmsD"
   },
   "outputs": [],
   "source": [
    "# create a dictionary based off our texts\n",
    "# The dictionary maps each token to a unique integer id\n",
    "dictionary = corpora.Dictionary(texts)"
   ]
  },
  {
   "cell_type": "code",
   "execution_count": 406,
   "metadata": {
    "id": "90YYfqSL1BUQ"
   },
   "outputs": [],
   "source": [
    "# create a corpus based off our dictionary and our texts\n",
    "corpus = [dictionary.doc2bow(text) for text in texts]"
   ]
  },
  {
   "cell_type": "code",
   "execution_count": 407,
   "metadata": {
    "id": "y9S5XOCdSNwz"
   },
   "outputs": [],
   "source": [
    "# build LDA model\n",
    "lda_model = models.LdaModel(corpus=corpus, id2word=dictionary, num_topics=20, passes=75)"
   ]
  },
  {
   "cell_type": "code",
   "execution_count": 408,
   "metadata": {
    "id": "fgaJ22SVT_vc"
   },
   "outputs": [
    {
     "data": {
      "text/plain": [
       "[(0,\n",
       "  '0.040*\"heart\" + 0.024*\"man\" + 0.024*\"word\" + 0.024*\"woman\" + 0.024*\"love\" + 0.016*\"eye\" + 0.016*\"find\" + 0.016*\"whistle\" + 0.016*\"away\" + 0.016*\"lady\"'),\n",
       " (1,\n",
       "  '0.028*\"little\" + 0.024*\"like\" + 0.024*\"oh\" + 0.020*\"heart\" + 0.020*\"death\" + 0.012*\"let\" + 0.012*\"wait\" + 0.012*\"till\" + 0.012*\"young\" + 0.012*\"know\"'),\n",
       " (2,\n",
       "  '0.029*\"fair\" + 0.024*\"lad\" + 0.024*\"pass\" + 0.014*\"little\" + 0.014*\"life\" + 0.014*\"young\" + 0.014*\"good\" + 0.014*\"way\" + 0.010*\"play\" + 0.010*\"affluent\"'),\n",
       " (3,\n",
       "  '0.067*\"love\" + 0.034*\"shall\" + 0.021*\"heart\" + 0.018*\"lady\" + 0.018*\"way\" + 0.017*\"die\" + 0.017*\"old\" + 0.017*\"day\" + 0.017*\"run\" + 0.013*\"year\"'),\n",
       " (4,\n",
       "  '0.022*\"look\" + 0.022*\"time\" + 0.017*\"lie\" + 0.011*\"pretty\" + 0.011*\"way\" + 0.011*\"leave\" + 0.011*\"word\" + 0.011*\"warm\" + 0.011*\"hair\" + 0.011*\"head\"'),\n",
       " (5,\n",
       "  '0.033*\"shall\" + 0.018*\"know\" + 0.015*\"oh\" + 0.015*\"heart\" + 0.015*\"laugh\" + 0.015*\"tell\" + 0.015*\"thing\" + 0.015*\"little\" + 0.015*\"rain\" + 0.015*\"hand\"'),\n",
       " (6,\n",
       "  '0.002*\"sepulchral\" + 0.002*\"softly\" + 0.002*\"eyed\" + 0.002*\"spray\" + 0.002*\"unfold\" + 0.002*\"long\" + 0.002*\"melody\" + 0.002*\"midnight\" + 0.002*\"breeze\" + 0.002*\"hurry\"'),\n",
       " (7,\n",
       "  '0.037*\"man\" + 0.037*\"heart\" + 0.037*\"hate\" + 0.022*\"narrow\" + 0.020*\"hand\" + 0.015*\"love\" + 0.015*\"mend\" + 0.015*\"soul\" + 0.015*\"time\" + 0.015*\"bitter\"'),\n",
       " (8,\n",
       "  '0.077*\"love\" + 0.038*\"dear\" + 0.029*\"wish\" + 0.029*\"oh\" + 0.019*\"sweet\" + 0.019*\"day\" + 0.019*\"morrow\" + 0.019*\"sorrow\" + 0.019*\"way\" + 0.019*\"like\"'),\n",
       " (9,\n",
       "  '0.081*\"man\" + 0.054*\"lady\" + 0.034*\"day\" + 0.034*\"pretty\" + 0.034*\"pass\" + 0.029*\"sleep\" + 0.023*\"way\" + 0.015*\"little\" + 0.015*\"young\" + 0.015*\"life\"'),\n",
       " (10,\n",
       "  '0.025*\"shall\" + 0.023*\"sigh\" + 0.023*\"bone\" + 0.023*\"live\" + 0.016*\"die\" + 0.016*\"wander\" + 0.016*\"sail\" + 0.016*\"world\" + 0.016*\"tread\" + 0.016*\"lie\"'),\n",
       " (11,\n",
       "  '0.032*\"heart\" + 0.024*\"let\" + 0.023*\"love\" + 0.016*\"arm\" + 0.016*\"kiss\" + 0.016*\"little\" + 0.016*\"hold\" + 0.016*\"secret\" + 0.016*\"give\" + 0.016*\"day\"'),\n",
       " (12,\n",
       "  '0.049*\"thing\" + 0.035*\"little\" + 0.021*\"come\" + 0.021*\"life\" + 0.021*\"good\" + 0.021*\"love\" + 0.014*\"year\" + 0.014*\"buy\" + 0.014*\"cook\" + 0.014*\"gaily\"'),\n",
       " (13,\n",
       "  '0.069*\"love\" + 0.031*\"know\" + 0.027*\"little\" + 0.020*\"day\" + 0.018*\"go\" + 0.014*\"white\" + 0.014*\"play\" + 0.014*\"game\" + 0.014*\"rose\" + 0.014*\"good\"'),\n",
       " (14,\n",
       "  '0.025*\"april\" + 0.025*\"oh\" + 0.025*\"heart\" + 0.025*\"eye\" + 0.019*\"bright\" + 0.019*\"love\" + 0.019*\"come\" + 0.019*\"sad\" + 0.012*\"spring\" + 0.012*\"tear\"'),\n",
       " (15,\n",
       "  '0.047*\"bed\" + 0.028*\"right\" + 0.019*\"high\" + 0.019*\"battle\" + 0.019*\"weep\" + 0.019*\"come\" + 0.019*\"world\" + 0.019*\"ride\" + 0.019*\"wrong\" + 0.019*\"day\"'),\n",
       " (16,\n",
       "  '0.055*\"love\" + 0.025*\"heart\" + 0.025*\"satin\" + 0.017*\"april\" + 0.017*\"go\" + 0.013*\"dear\" + 0.013*\"day\" + 0.013*\"bright\" + 0.013*\"night\" + 0.013*\"like\"'),\n",
       " (17,\n",
       "  '0.018*\"man\" + 0.018*\"god\" + 0.018*\"like\" + 0.018*\"light\" + 0.018*\"tell\" + 0.018*\"leave\" + 0.018*\"end\" + 0.018*\"friend\" + 0.018*\"word\" + 0.018*\"hear\"'),\n",
       " (18,\n",
       "  '0.040*\"little\" + 0.030*\"love\" + 0.030*\"heart\" + 0.030*\"day\" + 0.020*\"lad\" + 0.020*\"sigh\" + 0.020*\"know\" + 0.020*\"come\" + 0.010*\"bare\" + 0.010*\"girl\"'),\n",
       " (19,\n",
       "  '0.041*\"little\" + 0.031*\"thing\" + 0.024*\"love\" + 0.024*\"scratch\" + 0.024*\"lover\" + 0.024*\"foe\" + 0.024*\"find\" + 0.024*\"heart\" + 0.024*\"oh\" + 0.018*\"lie\"')]"
      ]
     },
     "execution_count": 408,
     "metadata": {},
     "output_type": "execute_result"
    }
   ],
   "source": [
    "# explore topics\n",
    "lda_model.print_topics()"
   ]
  },
  {
   "cell_type": "code",
   "execution_count": 409,
   "metadata": {
    "id": "c2Hy4JaRUb6l"
   },
   "outputs": [
    {
     "data": {
      "text/plain": [
       "[(11, 0.9813721)]"
      ]
     },
     "execution_count": 409,
     "metadata": {},
     "output_type": "execute_result"
    }
   ],
   "source": [
    "# Find topics in each document\n",
    "lda_model.get_document_topics(corpus[0])"
   ]
  },
  {
   "cell_type": "code",
   "execution_count": 410,
   "metadata": {
    "id": "nRr4iVCmTdLa"
   },
   "outputs": [
    {
     "data": {
      "text/html": [
       "\n",
       "<link rel=\"stylesheet\" type=\"text/css\" href=\"https://cdn.jsdelivr.net/gh/bmabey/pyLDAvis@3.4.0/pyLDAvis/js/ldavis.v1.0.0.css\">\n",
       "\n",
       "\n",
       "<div id=\"ldavis_el6272108326665607176883891\" style=\"background-color:white;\"></div>\n",
       "<script type=\"text/javascript\">\n",
       "\n",
       "var ldavis_el6272108326665607176883891_data = {\"mdsDat\": {\"x\": [0.09976219136290539, 0.08706824600897473, 0.03765392504725528, 0.05721398165899933, 0.0917269597550763, -0.20819417893119083, -0.08487875385492252, -0.0051269347601496104, 0.04027267494935351, 0.006292594893187952, -0.03389658924043321, -0.04175141631952401, 0.12327659517502416, -0.013622727919718912, -0.0590925646928426, -0.049090892218330524, -0.036241472550719606, 0.0033445683022466665, 0.021820813527059592, -0.03653702019225144], \"y\": [0.03412012204726529, 0.02066114239476276, 0.01122386913040601, -0.07701669223135256, -0.03284505572530845, 0.09148222776190582, -0.027774013755983623, -0.13927923237864231, 0.13625902214463853, 0.0016197037447351756, 0.14407886120026897, -0.10383016374726309, 0.020814674480944796, 0.0070299945577609714, -0.04152173981681972, -0.09981761129203218, -0.030120213870520534, 0.03694126594874767, 0.0605412481842667, -0.01256740877778049], \"topics\": [1, 2, 3, 4, 5, 6, 7, 8, 9, 10, 11, 12, 13, 14, 15, 16, 17, 18, 19, 20], \"cluster\": [1, 1, 1, 1, 1, 1, 1, 1, 1, 1, 1, 1, 1, 1, 1, 1, 1, 1, 1, 1], \"Freq\": [14.094814532372604, 8.383527706852858, 7.523102763839061, 7.144574517403565, 7.053141286267825, 6.287676398783715, 6.078608175006014, 5.181281308649814, 4.834055862776228, 4.611207711906499, 3.9304719176995664, 3.7242222055808574, 3.4951728659375054, 3.3286937271079773, 3.317028224285258, 2.830952807582576, 2.78972735489347, 2.6935728133564654, 2.54987547368608, 0.14829234601206148]}, \"tinfo\": {\"Term\": [\"love\", \"man\", \"thing\", \"little\", \"lady\", \"heart\", \"day\", \"oh\", \"bed\", \"shall\", \"dear\", \"like\", \"pass\", \"pretty\", \"lad\", \"live\", \"word\", \"life\", \"april\", \"come\", \"good\", \"sleep\", \"fair\", \"leave\", \"dead\", \"tell\", \"find\", \"hate\", \"know\", \"lie\", \"perfect\", \"fly\", \"bore\", \"badly\", \"dreary\", \"later\", \"sooner\", \"thorn\", \"suppose\", \"scream\", \"game\", \"joy\", \"rest\", \"round\", \"forgive\", \"rose\", \"play\", \"blossom\", \"get\", \"people\", \"new\", \"girl\", \"white\", \"eat\", \"speak\", \"fun\", \"golden\", \"dead\", \"cold\", \"spring\", \"go\", \"love\", \"know\", \"need\", \"sky\", \"little\", \"good\", \"day\", \"leave\", \"walk\", \"come\", \"die\", \"shall\", \"night\", \"heart\", \"live\", \"lovely\", \"ghost\", \"gently\", \"marvel\", \"graveyard\", \"pane\", \"shade\", \"sin\", \"eyed\", \"smile\", \"morrow\", \"flower\", \"tale\", \"laugh\", \"rain\", \"forget\", \"damp\", \"delight\", \"novelty\", \"transgression\", \"softly\", \"believe\", \"snow\", \"whisper\", \"hurt\", \"mild\", \"strive\", \"frail\", \"sudden\", \"soon\", \"tell\", \"shall\", \"hand\", \"door\", \"cool\", \"gay\", \"sit\", \"thing\", \"oh\", \"know\", \"live\", \"let\", \"dear\", \"night\", \"slip\", \"little\", \"heart\", \"come\", \"love\", \"away\", \"eye\", \"april\", \"die\", \"upward\", \"death\", \"gift\", \"write\", \"curse\", \"small\", \"verse\", \"till\", \"bridal\", \"quick\", \"neck\", \"gallop\", \"wild\", \"read\", \"lord\", \"deny\", \"stroll\", \"beggar\", \"strut\", \"push\", \"dance\", \"lace\", \"petal\", \"lightly\", \"spin\", \"amorous\", \"bang\", \"greet\", \"lilac\", \"deck\", \"like\", \"ride\", \"meet\", \"oh\", \"wait\", \"song\", \"arm\", \"need\", \"little\", \"care\", \"let\", \"laugh\", \"heart\", \"young\", \"hear\", \"tear\", \"sky\", \"gay\", \"shall\", \"know\", \"live\", \"away\", \"come\", \"love\", \"lady\", \"man\", \"eye\", \"satin\", \"plight\", \"joyous\", \"melancholy\", \"morn\", \"sombre\", \"splash\", \"needle\", \"rhyme\", \"velvet\", \"rosy\", \"gown\", \"hill\", \"chime\", \"candle\", \"page\", \"stain\", \"despite\", \"lawn\", \"cruel\", \"circle\", \"ease\", \"beauty\", \"swallow\", \"thin\", \"trod\", \"sway\", \"proud\", \"deck\", \"silver\", \"april\", \"bright\", \"high\", \"dawn\", \"love\", \"god\", \"follow\", \"long\", \"go\", \"wear\", \"heart\", \"dear\", \"night\", \"like\", \"breast\", \"gay\", \"song\", \"day\", \"away\", \"let\", \"sod\", \"pray\", \"thread\", \"gate\", \"run\", \"bird\", \"stand\", \"old\", \"see\", \"heavy\", \"oath\", \"weave\", \"lilacs\", \"devil\", \"add\", \"set\", \"sleeve\", \"passion\", \"ribbon\", \"cup\", \"market\", \"curl\", \"glitter\", \"trod\", \"thin\", \"lilac\", \"greet\", \"pluck\", \"scented\", \"cover\", \"past\", \"tender\", \"shall\", \"love\", \"place\", \"die\", \"year\", \"star\", \"god\", \"white\", \"dream\", \"lady\", \"hand\", \"true\", \"vow\", \"way\", \"heart\", \"day\", \"lover\", \"wait\", \"come\", \"know\", \"let\", \"song\", \"look\", \"walk\", \"pass\", \"marigold\", \"happily\", \"elegant\", \"bradstreet\", \"jones\", \"perfectly\", \"observe\", \"handsome\", \"lucy\", \"remark\", \"millionaire\", \"prediction\", \"affluent\", \"rate\", \"marry\", \"virtue\", \"brown\", \"talk\", \"double\", \"gallant\", \"wife\", \"knee\", \"spotless\", \"answer\", \"lad\", \"powder\", \"crown\", \"dark\", \"grieve\", \"miss\", \"fair\", \"people\", \"pass\", \"life\", \"wise\", \"good\", \"young\", \"way\", \"little\", \"play\", \"gay\", \"live\", \"murmur\", \"darkness\", \"man\", \"hour\", \"book\", \"sleep\", \"hope\", \"pretty\", \"lady\", \"yellow\", \"shoe\", \"silent\", \"awake\", \"fill\", \"await\", \"shiny\", \"sake\", \"save\", \"vision\", \"sew\", \"unfold\", \"damn\", \"blest\", \"dirty\", \"amorous\", \"lightly\", \"spin\", \"midnight\", \"soon\", \"chorus\", \"pass\", \"meet\", \"send\", \"day\", \"life\", \"way\", \"morning\", \"young\", \"rose\", \"world\", \"hold\", \"wait\", \"girl\", \"little\", \"away\", \"night\", \"know\", \"moon\", \"blossom\", \"fall\", \"warm\", \"helen\", \"marble\", \"time\", \"gleam\", \"fool\", \"tinkle\", \"fling\", \"yearn\", \"wreathe\", \"stuff\", \"damn\", \"rare\", \"park\", \"note\", \"cup\", \"ribbon\", \"passion\", \"ease\", \"circle\", \"petal\", \"lace\", \"dance\", \"sudden\", \"dare\", \"hearted\", \"somebody\", \"sure\", \"sighing\", \"hair\", \"look\", \"arm\", \"follow\", \"take\", \"stay\", \"give\", \"vow\", \"lie\", \"slip\", \"moon\", \"think\", \"sleep\", \"word\", \"head\", \"fair\", \"pretty\", \"die\", \"leave\", \"young\", \"way\", \"heart\", \"lady\", \"bed\", \"new\", \"scratch\", \"forever\", \"dig\", \"foe\", \"mad\", \"naught\", \"touch\", \"chore\", \"lover\", \"chatter\", \"unfold\", \"pain\", \"kindlier\", \"sweep\", \"story\", \"youth\", \"sleeve\", \"add\", \"set\", \"push\", \"beggar\", \"strut\", \"pay\", \"busy\", \"find\", \"bear\", \"learn\", \"hell\", \"sappho\", \"sum\", \"thing\", \"little\", \"oh\", \"rain\", \"lie\", \"heart\", \"lad\", \"sweet\", \"know\", \"love\", \"good\", \"bed\", \"way\", \"away\", \"tear\", \"whistle\", \"wonder\", \"maid\", \"throw\", \"young\", \"wear\", \"well\", \"hat\", \"winter\", \"drop\", \"wrap\", \"sad\", \"weather\", \"shrug\", \"crazy\", \"wing\", \"bite\", \"sore\", \"chatter\", \"stuff\", \"wreathe\", \"maiden\", \"manner\", \"cruel\", \"frail\", \"half\", \"crack\", \"dripping\", \"april\", \"bright\", \"smile\", \"easy\", \"laughter\", \"black\", \"lock\", \"art\", \"bitter\", \"spring\", \"eye\", \"oh\", \"tear\", \"come\", \"sweet\", \"heart\", \"head\", \"song\", \"dead\", \"fair\", \"pretty\", \"lie\", \"leave\", \"night\", \"go\", \"love\", \"man\", \"young\", \"high\", \"cry\", \"buy\", \"cook\", \"gaily\", \"make\", \"try\", \"admire\", \"sick\", \"chore\", \"sew\", \"vision\", \"plan\", \"model\", \"advice\", \"lawn\", \"despite\", \"strive\", \"envy\", \"sun\", \"wrong\", \"rise\", \"laughter\", \"black\", \"learn\", \"art\", \"thing\", \"sound\", \"clear\", \"mind\", \"want\", \"hail\", \"friend\", \"life\", \"morning\", \"good\", \"think\", \"little\", \"year\", \"come\", \"love\", \"way\", \"shall\", \"know\", \"book\", \"away\", \"kiss\", \"town\", \"dawn\", \"care\", \"high\", \"dear\", \"dry\", \"travel\", \"day\", \"pain\", \"hate\", \"narrow\", \"bitter\", \"mend\", \"shoot\", \"june\", \"clean\", \"matter\", \"lovelier\", \"heal\", \"sick\", \"sore\", \"bite\", \"touch\", \"yearn\", \"fling\", \"state\", \"devil\", \"hurt\", \"mild\", \"whisper\", \"soul\", \"lot\", \"grumble\", \"ponder\", \"child\", \"spend\", \"scan\", \"easy\", \"simple\", \"time\", \"man\", \"wise\", \"old\", \"hand\", \"heart\", \"wear\", \"break\", \"like\", \"bed\", \"love\", \"lie\", \"come\", \"little\", \"april\", \"hell\", \"away\", \"brow\", \"fall\", \"shall\", \"think\", \"dawn\", \"head\", \"know\", \"bare\", \"bloom\", \"sail\", \"wander\", \"bone\", \"tread\", \"sigh\", \"lovelier\", \"heal\", \"wing\", \"save\", \"snow\", \"mention\", \"ship\", \"turn\", \"lock\", \"cheek\", \"forever\", \"sappho\", \"floor\", \"ancient\", \"dust\", \"seek\", \"singing\", \"write\", \"sin\", \"ask\", \"string\", \"weep\", \"shine\", \"live\", \"world\", \"tell\", \"shall\", \"dead\", \"die\", \"lie\", \"thing\", \"know\", \"love\", \"go\", \"heart\", \"away\", \"eye\", \"good\", \"half\", \"watch\", \"wait\", \"old\", \"ask\", \"bowl\", \"cling\", \"matter\", \"clean\", \"tinkle\", \"sake\", \"grieve\", \"miss\", \"shatter\", \"dark\", \"lilacs\", \"stroll\", \"believe\", \"softly\", \"transgression\", \"secret\", \"street\", \"gladly\", \"rise\", \"brow\", \"darkness\", \"willow\", \"happiness\", \"brown\", \"gather\", \"apart\", \"list\", \"arm\", \"give\", \"kiss\", \"let\", \"hold\", \"heart\", \"go\", \"love\", \"day\", \"little\", \"shall\", \"away\", \"bar\", \"bind\", \"blossom\", \"breast\", \"bright\", \"eye\", \"fall\", \"good\", \"half\", \"lad\", \"woman\", \"stain\", \"deny\", \"lord\", \"delight\", \"novelty\", \"damp\", \"insistent\", \"frock\", \"sun\", \"lock\", \"art\", \"folk\", \"sound\", \"clear\", \"want\", \"trouble\", \"sum\", \"toss\", \"slumber\", \"fle\", \"tip\", \"whistle\", \"count\", \"bad\", \"moon\", \"right\", \"true\", \"word\", \"burn\", \"find\", \"break\", \"heart\", \"man\", \"live\", \"away\", \"leave\", \"eye\", \"love\", \"lady\", \"sad\", \"wise\", \"gay\", \"pretty\", \"turn\", \"tender\", \"tell\", \"ah\", \"return\", \"lad\", \"bowl\", \"cling\", \"try\", \"admire\", \"naught\", \"gleam\", \"fill\", \"awake\", \"silent\", \"crown\", \"powder\", \"candle\", \"read\", \"single\", \"rapture\", \"end\", \"black\", \"simple\", \"shudder\", \"paint\", \"home\", \"swift\", \"far\", \"friend\", \"help\", \"gift\", \"god\", \"wish\", \"light\", \"string\", \"hear\", \"tell\", \"word\", \"leave\", \"like\", \"man\", \"love\", \"wear\", \"good\", \"white\", \"song\", \"wait\", \"break\", \"soul\", \"bed\", \"take\", \"follow\", \"live\", \"day\", \"joy\", \"shine\", \"drop\", \"battle\", \"right\", \"wrong\", \"weep\", \"flag\", \"crazy\", \"fool\", \"await\", \"weave\", \"page\", \"length\", \"dog\", \"bed\", \"ride\", \"rise\", \"learn\", \"winter\", \"foot\", \"hail\", \"summer\", \"lose\", \"drink\", \"strength\", \"woe\", \"strong\", \"lead\", \"bow\", \"bind\", \"pride\", \"eat\", \"high\", \"world\", \"come\", \"day\", \"heart\", \"little\", \"watch\", \"dawn\", \"head\", \"song\", \"dress\", \"hear\", \"leave\", \"walk\", \"way\", \"laugh\", \"spring\", \"word\", \"wood\", \"wish\", \"morrow\", \"flag\", \"shoot\", \"june\", \"make\", \"mad\", \"shoe\", \"chime\", \"gallop\", \"wild\", \"shiny\", \"forget\", \"laughter\", \"start\", \"hat\", \"foot\", \"sorrow\", \"strong\", \"new\", \"tread\", \"roam\", \"dear\", \"bold\", \"wind\", \"dress\", \"bear\", \"sweet\", \"friend\", \"oh\", \"love\", \"like\", \"eye\", \"way\", \"day\", \"live\", \"word\", \"fair\", \"heart\", \"come\", \"meet\", \"care\", \"young\", \"run\", \"sky\", \"light\", \"thing\", \"shrug\", \"weather\", \"yellow\", \"answer\", \"spotless\", \"oath\", \"heavy\", \"bridal\", \"quick\", \"neck\", \"sun\", \"bare\", \"easy\", \"start\", \"plead\", \"sigh\", \"hang\", \"drive\", \"string\", \"woe\", \"wonder\", \"happy\", \"cut\", \"boy\", \"speak\", \"shiny\", \"dare\", \"stone\", \"swear\", \"spirit\", \"lad\", \"little\", \"day\", \"heart\", \"come\", \"love\", \"know\", \"away\", \"slow\", \"time\", \"death\", \"seek\", \"word\", \"thing\", \"girl\", \"wood\", \"flag\", \"battle\", \"cling\", \"bowl\", \"shoot\", \"june\", \"make\", \"try\", \"admire\", \"shrug\", \"weather\", \"mad\", \"naught\", \"clean\", \"matter\", \"crazy\", \"gleam\", \"lovelier\", \"heal\", \"fool\", \"sick\", \"yellow\", \"buy\", \"cook\", \"shoe\", \"silent\", \"fill\", \"awake\", \"spotless\", \"arm\", \"away\", \"bar\", \"believe\", \"bind\", \"blossom\", \"breast\", \"bright\", \"brow\", \"darkness\", \"eye\", \"fall\", \"gather\", \"go\", \"good\", \"grieve\", \"half\", \"heart\", \"hold\", \"kiss\", \"lad\", \"let\", \"lie\", \"lilacs\", \"lip\", \"little\", \"miss\", \"morning\"], \"Freq\": [84.0, 27.0, 21.0, 45.0, 24.0, 47.0, 32.0, 23.0, 12.0, 32.0, 16.0, 19.0, 18.0, 15.0, 11.0, 15.0, 11.0, 10.0, 10.0, 25.0, 17.0, 10.0, 14.0, 16.0, 12.0, 9.0, 10.0, 4.0, 36.0, 16.0, 3.720069340764542, 2.8015181294239264, 1.882964046263413, 1.882964046263413, 1.882964046263413, 1.8829632804447738, 1.8829632804447738, 1.8829632804447738, 1.8829623231714745, 1.8829483469813062, 5.5571729121737325, 2.8015106626921926, 4.638601789548494, 2.801518320878586, 2.8015181294239264, 5.557172146355093, 5.5571729121737325, 2.8015185123332462, 1.8829632804447738, 2.80150166432318, 3.7200590022129107, 4.748407163516156, 5.5571729121737325, 1.8829632804447738, 1.8829638548087533, 1.882964046263413, 1.8829636633540934, 5.557160276166183, 1.882962897535454, 2.801518320878586, 7.394266145031291, 28.327711115144314, 12.905574178893625, 2.8015179379692663, 3.720070489492501, 11.068473287849672, 5.557167168533937, 8.312823482921022, 4.6386086819162475, 3.7200635971247467, 4.578123559960786, 3.720069723673862, 4.6386217008331165, 3.720070489492501, 4.638621317923797, 2.8015177465146066, 2.706227421942403, 2.706227421942403, 1.818925433405496, 1.818925433405496, 1.8189252056528795, 1.8189241807661047, 2.706227421942403, 1.8189256611581128, 1.818925433405496, 2.706227421942403, 1.8189256611581128, 1.8189252056528795, 1.818925433405496, 3.5935274745820687, 3.593527246829452, 0.9316153027125444, 0.9316149041454653, 0.9316153027125444, 0.9316153027125444, 0.9316153027125444, 0.9316146763928487, 0.9316153027125444, 0.9316153027125444, 0.9316153027125444, 0.9316146763928487, 0.9316146763928487, 0.9316153027125444, 0.9316153027125444, 0.9316153027125444, 0.9316149041454653, 3.5935274745820687, 8.030024321491146, 3.593527246829452, 1.8189247501476462, 1.818924294642413, 2.706227421942403, 1.8189241807661047, 3.5935274745820687, 3.5935274745820687, 4.480827299469118, 2.706227421942403, 2.70622696643717, 2.706226738684553, 2.706227421942403, 1.8189247501476462, 3.593527246829452, 3.5935274745820687, 2.706227421942403, 1.9261567175045993, 1.818925433405496, 1.818925433405496, 1.818925433405496, 1.818925433405496, 1.8041899641938315, 4.444523955087513, 1.8041903729492863, 1.804190781704741, 2.6843025888839986, 1.804190781704741, 1.804190781704741, 2.684302997639453, 0.9240713103607087, 0.9240713103607087, 0.9240713103607087, 0.9240713103607087, 0.9240713103607087, 0.9240711059829814, 0.9240711059829814, 0.9240706972275267, 0.9240713103607087, 0.9240713103607087, 0.9240713103607087, 0.9240703906609357, 0.9240713103607087, 0.9240703906609357, 0.9240703906609357, 0.9240711059829814, 0.9240703906609357, 0.9240703906609357, 0.9240713103607087, 0.9240713103607087, 0.9240703906609357, 0.9240713103607087, 5.324633718489498, 1.804190781704741, 2.6843025888839986, 5.324633718489498, 2.684302997639453, 2.6843025888839986, 1.8041905773270135, 1.8041905773270135, 6.204743073136027, 1.804190781704741, 2.684302997639453, 1.804190781704741, 4.444523955087513, 2.684302997639453, 1.804190781704741, 1.804190781704741, 1.8041905773270135, 1.804190781704741, 2.6843025888839986, 2.684302997639453, 1.8041903729492863, 1.804190781704741, 1.804190781704741, 1.804190781704741, 1.804190781704741, 1.804190781704741, 1.8041905773270135, 5.310951493296811, 1.7995558640435096, 1.7995558640435096, 1.7995558640435096, 1.7995558640435096, 1.7995558640435096, 1.7995558640435096, 1.7995556699491382, 1.7995556699491382, 1.7995556699491382, 1.7995558640435096, 1.7995556699491382, 1.7995556699491382, 0.9216985621486178, 0.9216983680542462, 0.9216984651014319, 0.9216984651014319, 0.9216987562429892, 0.9216983680542462, 0.9216984651014319, 0.9216987562429892, 0.9216983680542462, 0.9216987562429892, 0.9216987562429892, 0.9216983680542462, 0.9216984651014319, 0.9216987562429892, 0.9216983680542462, 0.9216981739598747, 0.9216985621486178, 3.5552553284723176, 2.677406275588214, 2.677405887399471, 1.7995558640435096, 11.45588612923882, 1.7995558640435096, 1.7995556699491382, 1.7995556699491382, 3.5552553284723176, 1.8537736034912375, 5.310951493296811, 2.677406275588214, 2.677406275588214, 2.677405887399471, 1.7995556699491382, 1.7995558640435096, 1.7995556699491382, 2.677406275588214, 1.7995558640435096, 1.7995558640435096, 1.781713189847508, 1.7817129982370739, 1.781713189847508, 1.7817133814579422, 3.519962618479418, 1.7817133814579422, 1.781713189847508, 3.5200051559957948, 1.781713189847508, 0.9125599255768677, 0.9125596381612164, 0.9125598297716506, 0.9125600213820847, 0.9125599255768677, 0.9125599255768677, 0.9125599255768677, 0.9125598297716506, 0.9125598297716506, 0.9125599255768677, 0.9125572430307899, 0.9125599255768677, 0.9125599255768677, 0.9125572430307899, 0.9125599255768677, 0.9125596381612164, 0.9125600213820847, 0.9125600213820847, 0.9125598297716506, 0.9125600213820847, 0.9125600213820847, 1.781713189847508, 1.781713189847508, 6.99658219031674, 13.844690820317773, 1.7817133814579422, 3.5200051559957948, 2.650860035168605, 1.781713189847508, 1.7817133814579422, 2.6508588855060005, 1.781713189847508, 3.7970286236863005, 2.650860035168605, 1.7817133814579422, 1.7817129982370739, 3.6710447632453795, 4.389149318770814, 3.5200051559957948, 1.781713189847508, 1.7817133814579422, 2.650860035168605, 2.650859843558171, 1.781713189847508, 1.781713189847508, 1.781713189847508, 1.781713189847508, 1.781713189847508, 1.7790231835521255, 1.7790231835521255, 1.7790231835521255, 1.7790231835521255, 1.7790231835521255, 1.7790231835521255, 1.7790231835521255, 1.7790231835521255, 1.7790231835521255, 1.7790231835521255, 1.7790231835521255, 1.7790231835521255, 1.7790231835521255, 1.7790231835521255, 1.7790231835521255, 1.7790226711062427, 1.7790231835521255, 1.7790231835521255, 1.7790231835521255, 1.7790231835521255, 1.7790231835521255, 1.7790231835521255, 0.9111852341684131, 0.9111852341684131, 4.382516106829713, 0.9111852341684131, 0.9111852341684131, 0.9111852341684131, 0.9111852341684131, 0.9111852341684131, 5.250346625748124, 1.7790231835521255, 4.382516106829713, 2.6468555814387735, 1.7790231835521255, 2.646854727362302, 2.6468555814387735, 2.646854727362302, 2.6468555814387735, 1.779023525182714, 1.7790231835521255, 1.7790231835521255, 1.7440398913295947, 1.7440529370423659, 14.440152165354762, 1.7440527719067611, 2.5948048204747933, 5.147140726675959, 1.744051120550714, 5.997912096109741, 9.660566304359497, 0.893273310828349, 0.8932734759639538, 0.8932742190741749, 0.8932742190741749, 0.8932734759639538, 0.8932742190741749, 1.7440524416355516, 0.8932734759639538, 0.893273310828349, 0.8932742190741749, 0.8932738888029655, 0.8932742190741749, 0.8932738888029655, 0.8932742190741749, 0.8932734759639538, 0.8932742190741749, 0.8932742190741749, 0.893273310828349, 0.8932742190741749, 0.8932742190741749, 0.8932742190741749, 5.996875044512242, 2.5284617564232654, 1.7440527719067611, 5.997912096109741, 2.5948177010519595, 4.14851915683098, 1.7440529370423659, 2.5948259578321946, 1.7440527719067611, 1.7440529370423659, 1.7440529370423659, 1.7440529370423659, 1.6423530189403128, 2.5948259578321946, 1.7440527719067611, 1.7440529370423659, 1.7440526067711564, 1.0743945374671402, 0.8932742190741749, 0.8932742190741749, 1.6982499467911576, 1.6982417828148249, 1.6982499467911576, 3.355104029312631, 0.8698171344437029, 0.8698166417899588, 0.8698166417899588, 0.8698171344437029, 0.8698167121690651, 0.8698171344437029, 0.8698167121690651, 0.8698155157242576, 0.8698167121690651, 0.8698155157242576, 0.8698139673839187, 0.8698171344437029, 0.8698167121690651, 0.8698139673839187, 0.8698166417899588, 0.8698167121690651, 0.8698171344437029, 0.8698167121690651, 0.8698167121690651, 0.8698167121690651, 1.6982499467911576, 0.8698167121690651, 0.8698167121690651, 0.8698155157242576, 0.8698139673839187, 1.6982499467911576, 3.355104310829056, 1.6982499467911576, 1.6982499467911576, 1.6982499467911576, 1.698241360540187, 1.6982496652747323, 1.6982486799672438, 2.5266774807056382, 1.6982499467911576, 1.5218870850307673, 1.6982496652747323, 1.6982499467911576, 1.6982499467911576, 1.6982499467911576, 1.6982496652747323, 1.698275424027644, 1.6982499467911576, 1.6982583922839154, 1.6982499467911576, 1.6982648671616967, 1.6982417828148249, 1.1241261936526747, 0.869824031596122, 0.8698227647722082, 3.3438392351523385, 1.6925485818168873, 1.6923121963669447, 3.3438392351523385, 0.8668981991270378, 0.8668981991270378, 0.8668955069594134, 0.8668981991270378, 3.3438392351523385, 0.8668951129836636, 0.8668980021391629, 1.6925484504916373, 0.8668981991270378, 0.8668981991270378, 0.8668981991270378, 0.8668966232240382, 0.8668981991270378, 0.8668981991270378, 0.8668981991270378, 0.8668981991270378, 0.8668981991270378, 0.8668981991270378, 0.8668981991270378, 0.8668980021391629, 3.3438392351523385, 1.6925485818168873, 0.8668981991270378, 0.8668966232240382, 0.8668951129836636, 0.8668981991270378, 4.427854055594915, 5.820772129012141, 3.3438384472008384, 1.6925484504916373, 2.5181939741472377, 3.3438389725018385, 1.6925480565158872, 1.6925476625401374, 2.5181937114967377, 3.3634266588355604, 1.6925468745886376, 0.9096667619588553, 0.9100044648391479, 0.8668981991270378, 0.8668981991270378, 0.8668981991270378, 0.8668981991270378, 0.8668981991270378, 0.8668981991270378, 0.8668981991270378, 0.8668981991270378, 0.8668981991270378, 1.677790702773145, 1.677790702773145, 1.677790702773145, 1.677790702773145, 2.49623697047949, 0.8593397373965938, 0.859339674760991, 0.8593397373965938, 0.859339674760991, 0.8593397373965938, 0.859339674760991, 0.8593397373965938, 0.8593397373965938, 0.8593397373965938, 0.8593398626677993, 0.8593398626677993, 0.859339674760991, 0.8593397373965938, 1.677790702773145, 0.8593397373965938, 0.859339674760991, 3.314683112914629, 2.4962372210219006, 1.677790953315556, 0.8593398626677993, 0.8593397373965938, 0.8593394868541828, 0.8593394868541828, 0.8593398626677993, 0.859339674760991, 1.677790953315556, 3.314682361287396, 3.3146828623722175, 1.677790953315556, 2.49623697047949, 1.677790953315556, 3.3146828623722175, 1.677790702773145, 1.6777904522307339, 1.677790702773145, 1.677790702773145, 1.677790953315556, 1.6777904522307339, 1.6777904522307339, 1.6777904522307339, 1.677790953315556, 2.4962372210219006, 0.8593399879390048, 0.8593398626677993, 0.8593398626677993, 0.8593398626677993, 1.6282490712839959, 1.6282490712839959, 1.6282490712839959, 0.8339660535491497, 0.8339663738827712, 0.8339663738827712, 0.8339663738827712, 0.8339673882725728, 0.8339673882725728, 0.8339673882725728, 0.8339673882725728, 0.8339673882725728, 0.8339660535491497, 0.8339673882725728, 0.8339660535491497, 0.8339673882725728, 0.8339668543832035, 0.8339673882725728, 0.833964451881042, 0.8339673882725728, 0.8339668543832035, 0.8339673882725728, 0.8339673882725728, 0.8339660535491497, 5.599633301152686, 0.8339663738827712, 0.8339673882725728, 0.8339673882725728, 0.8339663738827712, 0.8339663738827712, 1.6282481102831312, 2.4225264297915285, 1.6282486441725006, 2.422526002680033, 1.628248323838879, 4.011080079027854, 1.6282490712839959, 2.4225268569030236, 2.4225257891242853, 1.628248323838879, 1.6282484306167528, 1.6282488577282481, 0.8339674950504465, 0.8339673882725728, 0.8339673882725728, 0.8339673882725728, 0.8339673882725728, 0.8339673882725728, 0.8339673882725728, 0.8339673882725728, 0.8339673882725728, 0.8339673882725728, 0.8339673882725728, 0.8339673882725728, 3.9862743753921803, 2.407497582750566, 1.6181973096403743, 1.6181973096403743, 0.8288196884308537, 0.8288196884308537, 0.8288175131736457, 0.8288175131736457, 0.8288196884308537, 0.8288196884308537, 0.8288196884308537, 0.8288196884308537, 0.8288186260959381, 0.8288185249211844, 0.8288196884308537, 0.8288196884308537, 0.8288196884308537, 0.8288185249211844, 0.8288196884308537, 0.8288196884308537, 0.8288196884308537, 1.6181973096403743, 0.8288196884308537, 0.8288196884308537, 0.8288196884308537, 0.8288196884308537, 0.8288196884308537, 0.8288185249211844, 0.8288185249211844, 0.8288197390182307, 1.6181973096403743, 4.045939555940233, 1.6181570420883362, 1.6181566373893208, 2.14100732806134, 3.9863172734878187, 1.3758652591546785, 1.6181965002423435, 1.6181973096403743, 1.2202678969630192, 1.6664399616518666, 1.003540647311609, 0.8808083862915601, 0.8288197390182307, 0.8288197390182307, 0.8288197390182307, 0.8288196884308537, 0.8288196884308537, 0.8288196884308537, 0.8288196884308537, 0.8288196884308537, 0.8288196884308537, 0.8288196884308537, 0.8288196884308537, 1.6082823031018225, 1.6082821131973353, 1.6083349066448276, 1.6083349066448276, 2.392897380307777, 1.6083349066448276, 2.392897760116752, 0.8237691096533493, 0.8237691096533493, 0.8237691096533493, 0.8237688247966182, 0.8237691096533493, 0.8237687298443745, 0.8237691096533493, 1.60828249300631, 0.8237691096533493, 0.8237688247966182, 0.8237688247966182, 0.8237691096533493, 0.8237688247966182, 0.8237691096533493, 0.8237691096533493, 1.6083349066448276, 0.8237691096533493, 0.8237670207039881, 0.8237688247966182, 0.9317814647511158, 0.8237691096533493, 0.8237688247966182, 0.8237691096533493, 2.392897380307777, 1.6083349066448276, 1.60828249300631, 2.5735143988307616, 1.6083341470268782, 1.6083349066448276, 1.6083349066448276, 1.6082823031018225, 1.6082823031018225, 0.9202502743727367, 0.8703576179250551, 0.8650664990975918, 0.8237691096533493, 0.8237691096533493, 0.8237691096533493, 0.8237691096533493, 0.8237691096533493, 0.8237691096533493, 0.8237691096533493, 1.4884852672895048, 0.8172704249929477, 0.8172673503879703, 0.8172704249929477, 0.8172673503879703, 0.8172704249929477, 0.8172673503879703, 0.8172704249929477, 0.8172704249929477, 0.8172704249929477, 0.8172658130854816, 0.8172704249929477, 0.8172704249929477, 0.8172704249929477, 0.8172673503879703, 0.8172673503879703, 1.5956436606991686, 0.8172704249929477, 0.8172673503879703, 0.8172674408175284, 0.8172704249929477, 0.8172704249929477, 0.8172704249929477, 0.8172674408175284, 0.8172673503879703, 0.8172704249929477, 0.8172673503879703, 0.8172673503879703, 1.5956449267129829, 1.5956434798400525, 1.5956449267129829, 2.374018614566995, 1.5956449267129829, 3.1114192121972177, 1.5494256561022481, 2.278298022961759, 1.5956434798400525, 1.5956449267129829, 1.4164540548869837, 0.8172704249929477, 0.8172704249929477, 0.8172704249929477, 0.8172704249929477, 0.8172704249929477, 0.8172704249929477, 0.8172704249929477, 0.8172704249929477, 0.8172704249929477, 0.8172704249929477, 0.8172704249929477, 2.3356826364542145, 0.80406855464865, 0.8040729701682635, 0.8040725196050377, 0.8040725196050377, 0.8040725196050377, 0.80406855464865, 0.8040731503935539, 0.8040713481406504, 0.8040725196050377, 0.8040731503935539, 0.8040713481406504, 0.804072159154457, 0.8040731503935539, 0.8040729701682635, 0.8040725196050377, 0.8040713481406504, 0.8040725196050377, 0.8040731503935539, 0.8040729701682635, 0.8040729701682635, 0.8040729701682635, 1.5698796055641424, 0.8040725196050377, 1.5698790648882714, 1.5698792451135617, 0.8040729701682635, 1.5698792451135617, 2.3356828166795047, 0.8040729701682635, 1.5698796055641424, 1.5698790648882714, 3.8672886982343586, 2.3356828166795047, 1.5698776230859486, 1.5698796055641424, 1.5698792451135617, 1.5698797857894327, 2.3356826364542145, 1.5698796055641424, 0.8040731503935539, 0.8040731503935539, 0.8040731503935539, 0.8040731503935539, 0.8040731503935539, 0.8040731503935539, 0.8040731503935539, 0.8040731503935539, 0.8040731503935539, 0.8040729701682635, 0.778536300073936, 0.7785343004766027, 0.7785358386283976, 0.7785358386283976, 0.7785358386283976, 0.778536300073936, 0.7785358386283976, 0.7785358386283976, 0.7785343004766027, 0.778536300073936, 0.7785358386283976, 0.7785358386283976, 0.7785359155359873, 0.7785358386283976, 0.778536300073936, 1.5200185234082835, 0.7785358386283976, 0.778536300073936, 0.7785358386283976, 0.7785358386283976, 0.7785358386283976, 0.778536300073936, 0.7785358386283976, 1.5200185234082835, 0.778536300073936, 0.778536300073936, 1.5200188310386424, 0.7785358386283976, 1.5200188310386424, 0.7785343004766027, 1.520018369593104, 1.5200185234082835, 1.520018369593104, 1.5200185234082835, 1.5200188310386424, 1.5207070001516891, 1.5200182157779245, 0.7942346003852853, 0.778536300073936, 0.778536300073936, 0.778536300073936, 0.778536300073936, 0.778536300073936, 0.778536300073936, 0.778536300073936, 0.778536300073936, 0.778536300073936, 0.778536300073936, 0.778536300073936, 0.778536300073936, 0.778536300073936, 0.778536300073936, 1.539660587177955, 2.290721922361078, 1.539660587177955, 1.539660587177955, 0.788596751003007, 0.788596751003007, 0.7885969783659, 0.7885969783659, 0.788596751003007, 0.7885969783659, 0.7885969783659, 0.788596751003007, 3.792842925399442, 1.539660587177955, 0.7885969783659, 0.7885969783659, 0.7885969783659, 0.7885969783659, 0.7885969783659, 0.7885969783659, 0.788596751003007, 0.7885969783659, 0.7885969783659, 0.7885969783659, 0.788596751003007, 0.7885969783659, 0.7885969783659, 0.7885969783659, 0.7885969783659, 0.7885969783659, 1.539660587177955, 1.539660587177955, 1.539660587177955, 1.539660587177955, 0.7885969783659, 0.7885969783659, 0.7885969783659, 0.7885969783659, 0.7885969783659, 0.7885969783659, 0.7885969783659, 0.7885969783659, 0.7885969783659, 0.7885969783659, 0.7885969783659, 0.7885969783659, 0.7885969783659, 0.7885969783659, 1.512707396908605, 2.250704745702244, 1.5127635956398964, 0.7748208357180584, 0.7748208357180584, 0.7748208357180584, 0.7748208357180584, 0.7748208357180584, 0.7748191526831368, 0.7748208357180584, 0.7748208357180584, 0.7748208357180584, 1.5127066651542913, 0.7748208357180584, 0.7748208357180584, 0.7748208357180584, 0.7748191526831368, 0.7748208357180584, 1.5127635956398964, 0.7748208357180584, 1.51276271753472, 0.7748208357180584, 0.7748208357180584, 2.988644432255965, 0.7748208357180584, 0.7748208357180584, 0.7748192258585682, 0.7748208357180584, 1.512763888341622, 0.7748208357180584, 2.2507035748953426, 6.033014589815025, 1.5127633029381709, 1.5127072505577421, 1.5127635956398964, 1.512763888341622, 0.7748209088934896, 0.7748209088934896, 0.7748209088934896, 0.7748208357180584, 0.7748208357180584, 0.7748208357180584, 0.7748208357180584, 0.7748208357180584, 0.7748208357180584, 0.7748208357180584, 0.7748208357180584, 0.7748208357180584, 0.7705796544458724, 0.7705796544458724, 0.7705795851742208, 0.7705796544458724, 0.7705795851742208, 0.7705796544458724, 0.7705796544458724, 0.7705796544458724, 0.7705796544458724, 0.7705796544458724, 0.7705795851742208, 0.7705796544458724, 0.7705796544458724, 0.7705795851742208, 0.7705795851742208, 1.5044823245588388, 0.7705796544458724, 0.7705796544458724, 0.7705795851742208, 0.7705796544458724, 0.7705795851742208, 0.7705795851742208, 0.7705796544458724, 0.7705795851742208, 0.7705795851742208, 0.7705795851742208, 0.7705796544458724, 0.7705796544458724, 0.7705796544458724, 0.7705796544458724, 1.5044823245588388, 2.972283369942367, 2.2383831936088616, 2.2383831936088616, 1.5044823245588388, 2.2383831936088616, 1.5044823245588388, 0.7705796544458724, 0.7705796544458724, 0.7705796544458724, 0.7705796544458724, 0.7705796544458724, 0.7705796544458724, 0.7705796544458724, 0.7705796544458724, 0.007369143845810517, 0.007369143845810517, 0.007369143845810517, 0.007369143845810517, 0.007369143845810517, 0.007369143845810517, 0.007369143845810517, 0.007369143845810517, 0.007369143845810517, 0.007369143845810517, 0.007369143845810517, 0.007369143845810517, 0.007369143845810517, 0.007369143845810517, 0.007369143845810517, 0.007369143845810517, 0.007369143845810517, 0.007369143845810517, 0.007369143845810517, 0.007369143845810517, 0.007369143845810517, 0.007369143845810517, 0.007369143845810517, 0.007369143845810517, 0.007369143845810517, 0.007369143845810517, 0.007369143845810517, 0.007369143845810517, 0.007369143845810517, 0.007369143845810517, 0.007369143845810517, 0.007369143845810517, 0.007369143845810517, 0.007369143845810517, 0.007369143845810517, 0.007369143845810517, 0.007369143845810517, 0.007369143845810517, 0.007369143845810517, 0.007369143845810517, 0.007369143845810517, 0.007369143845810517, 0.007369143845810517, 0.007369143845810517, 0.007369143845810517, 0.007369143845810517, 0.007369143845810517, 0.007369143845810517, 0.007369143845810517, 0.007369143845810517, 0.007369143845810517, 0.007369143845810517, 0.007369143845810517, 0.007369143845810517, 0.007369143845810517, 0.007369143845810517, 0.007369143845810517, 0.007369143845810517], \"Total\": [84.0, 27.0, 21.0, 45.0, 24.0, 47.0, 32.0, 23.0, 12.0, 32.0, 16.0, 19.0, 18.0, 15.0, 11.0, 15.0, 11.0, 10.0, 10.0, 25.0, 17.0, 10.0, 14.0, 16.0, 12.0, 9.0, 10.0, 4.0, 36.0, 16.0, 4.456552424764227, 3.538001265850259, 2.619447154001157, 2.6194471740350944, 2.6194471913530077, 2.6194463899916727, 2.6194463963784766, 2.6194464006326568, 2.6194454285230693, 2.6194314841725648, 7.967974140425936, 4.279456992738231, 7.094923453299844, 4.415807408541148, 4.425251621869726, 9.701371225401552, 9.725511961398722, 5.1670891961221725, 3.488549129697091, 5.273617472668429, 7.648059037470342, 10.249919968752057, 12.127073793724653, 4.111952721641957, 4.181727393608832, 4.2136237762784186, 4.254723506223688, 12.885868876509395, 4.377318005467847, 6.795016866626459, 19.106464633815747, 84.54081702462508, 36.351227633184706, 6.817996910321287, 10.127096534671864, 45.84789568782576, 17.632437032138256, 32.74652450755369, 16.659450231209785, 12.081762868202638, 25.093461739751397, 16.18457455063536, 32.48252414977128, 17.92098403267996, 47.40330939483451, 15.929425837724022, 3.4442730606376983, 3.4442730727685964, 2.5569710568419586, 2.5569710609458722, 2.556970844348175, 2.5569698042025673, 4.362740426136127, 3.341512085158924, 3.382586855848012, 5.961207602931382, 4.032837942312297, 4.167127697349943, 4.326165752532759, 8.579686420792369, 8.598804581035706, 2.4075848146860404, 2.4354389661679283, 2.4354433296913944, 2.4354433296913944, 2.448009840381265, 2.448009151130213, 2.448012805306269, 2.454201983111978, 2.4590119885986788, 2.459011371377156, 2.459011371377156, 2.463914493211523, 2.4880784620598586, 2.4980563800916, 2.5203962252162064, 9.796167831615191, 32.48252414977128, 14.44006103279818, 6.004148800292836, 6.013860917708179, 10.380004659473558, 6.7172233973493745, 21.474589479416487, 23.33460700956332, 36.351227633184706, 15.929425837724022, 16.663218973838887, 16.699416185346898, 17.92098403267996, 8.545157866892614, 45.84789568782576, 47.40330939483451, 25.093461739751397, 84.54081702462508, 16.422893944359842, 19.684208316463124, 10.13144598036591, 16.18457455063536, 2.542595062563225, 7.629679887435859, 3.2840578260578894, 3.327134840958383, 5.851844916889271, 4.17144560577012, 4.2504133240389415, 6.745990315710878, 2.3963610945132823, 2.3963610945132823, 2.3963611001651297, 2.4004002725887745, 2.400400278654224, 2.4039381745536357, 2.428258617508212, 2.4282586686494425, 2.440828271720866, 2.4880924176992703, 2.4880924176992703, 2.4880914893537365, 2.4908718262222234, 2.4908709195062615, 2.490871321964139, 2.5132119087741795, 2.5132102703381625, 2.5132111838386857, 2.5302701867904953, 2.5315792285600454, 2.531578308860272, 2.540282208534564, 19.3588219975234, 5.690849101241032, 9.310832192429084, 23.33460700956332, 10.094149305537515, 11.668647594196697, 6.633957218702368, 6.817996910321287, 45.84789568782576, 7.537629729051606, 16.663218973838887, 8.579686420792369, 47.40330939483451, 18.516810007028344, 9.25728269322923, 10.072882404821357, 10.127096534671864, 10.380004659473558, 32.48252414977128, 36.351227633184706, 15.929425837724022, 16.422893944359842, 25.093461739751397, 84.54081702462508, 24.729848242269217, 27.292151789789372, 19.684208316463124, 6.04946968129911, 2.5380740520458076, 2.5380740520458076, 2.5380740520458076, 2.5380740520458076, 2.5380740520458076, 2.538074067854363, 2.538073857951436, 2.5380738829095284, 2.538073883245125, 3.332327619108323, 3.4058664477441356, 3.4565414369704914, 2.398140636494611, 2.4016784493502144, 2.4112606561107213, 2.425995116983419, 2.4544691765843805, 2.454470126086318, 2.4786341141528707, 2.4886123706173047, 2.488611891529885, 2.5280095055825873, 2.5280107115666874, 2.529318992665618, 2.5293194120023497, 2.540282784661863, 2.540282387827359, 2.540282208534564, 2.547467127633272, 10.13144598036591, 8.396453146662425, 9.035446522572776, 5.691139901570493, 84.54081702462508, 6.677742658734046, 6.684224303188353, 6.801550570788257, 19.106464633815747, 7.464068408500558, 47.40330939483451, 16.699416185346898, 17.92098403267996, 19.3588219975234, 9.400036927756917, 10.380004659473558, 11.668647594196697, 32.74652450755369, 16.422893944359842, 16.663218973838887, 2.520666571641457, 2.520666373644219, 3.398472760578259, 3.4007325914618267, 6.754713301275066, 3.439133920215802, 4.166808132962977, 8.251037605821779, 4.216889786012991, 2.3853979777854533, 2.385397690369802, 2.402556945789697, 2.42986527275309, 2.4408631908258416, 2.477129310887625, 2.477129317274429, 2.47712921827581, 2.4799058662460967, 2.4799087337428345, 2.479906448968382, 2.5193070667001582, 2.5193070750280038, 2.5193043938402018, 2.5293194120023497, 2.529318992665618, 2.531578308860272, 2.5315792285600454, 2.538763566594623, 2.5699794018317794, 2.5699805601399444, 5.085276336363421, 5.816590216290413, 32.48252414977128, 84.54081702462508, 6.013857785579475, 16.18457455063536, 10.985736468132043, 6.657586792601654, 6.677742658734046, 12.127073793724653, 6.837090769264826, 24.729848242269217, 14.44006103279818, 7.463453040788951, 7.499262172591768, 25.150476710008856, 47.40330939483451, 32.74652450755369, 9.274089168762067, 10.094149305537515, 25.093461739751397, 36.351227633184706, 16.663218973838887, 11.668647594196697, 11.7609137195574, 12.081762868202638, 18.60401397580881, 2.518042319902187, 2.518042322188919, 2.5180423230638977, 2.5180423250049384, 2.5180423272916705, 2.5180423272916705, 2.5180423286959384, 2.518042330107691, 2.518042331328361, 2.518042331328361, 2.5180423315119587, 2.518042333391367, 2.518042334490072, 2.518042334490072, 2.51804233501936, 2.5180418036961854, 3.2963912180358323, 3.3073933542421496, 3.336459625902291, 3.387142375093741, 3.405112997767707, 4.285358121301514, 2.3840889518104764, 2.384089030231665, 11.500367814034334, 2.39166623966759, 2.3916666962038757, 2.42855158889823, 2.4285562209577165, 2.4285562261770988, 14.324890076933327, 5.273617472668429, 18.60401397580881, 10.895925196264882, 8.136351588327262, 17.632437032138256, 18.516810007028344, 25.150476710008856, 45.84789568782576, 9.725511961398722, 10.380004659473558, 15.929425837724022, 2.4839129076803372, 3.2622768725269786, 27.292151789789372, 3.302342137574838, 4.954548669349329, 10.077550404940828, 4.155982587184627, 15.117339828436485, 24.729848242269217, 2.3670299693555434, 2.3710676835295637, 2.3746066308242435, 2.3746081700648407, 2.3746074020649335, 2.3841902503968115, 4.693618870009975, 2.411494360137632, 2.4176861281828685, 2.4273998455708075, 2.4273994920369715, 2.4587620775143444, 2.4615401516575153, 2.500938989617709, 2.5009392778501067, 2.5132111838386857, 2.5132119087741795, 2.5132102703381625, 2.520396001378314, 2.5203962252162064, 2.551614300041952, 18.60401397580881, 9.310832192429084, 6.015678298712554, 32.74652450755369, 10.895925196264882, 25.150476710008856, 7.422310748524814, 18.516810007028344, 9.701371225401552, 9.786905840133805, 10.057269350138712, 10.094149305537515, 10.249919968752057, 45.84789568782576, 16.422893944359842, 17.92098403267996, 36.351227633184706, 7.409395228056586, 5.1670891961221725, 6.736278509424091, 2.439239224643914, 3.2648439633080484, 3.3083420601867024, 7.174487918413295, 2.3522687598255816, 2.3618498907273984, 2.3891577915898905, 2.4001574814409423, 2.4001570361632325, 2.4292239335778403, 2.429223503334767, 2.4615401516575153, 2.478598567830316, 2.478598552619848, 2.478595808849021, 2.479906448968382, 2.4799087337428345, 2.4799058662460967, 2.488611891529885, 2.4886123706173047, 2.490871321964139, 2.4908709195062615, 2.4908718262222234, 2.4980563800916, 4.910019339474138, 2.529271987854284, 2.5292740387246413, 2.529272734449074, 2.5292704045707044, 5.838312171373019, 11.7609137195574, 6.633957218702368, 6.684224303188353, 6.7162206716420005, 6.774079498821285, 7.373844019009448, 7.499262172591768, 16.606112001101895, 8.545157866892614, 7.409395228056586, 9.893689206610164, 10.077550404940828, 11.11594098140362, 11.637108024247132, 14.324890076933327, 15.117339828436485, 16.18457455063536, 16.659450231209785, 18.516810007028344, 25.150476710008856, 47.40330939483451, 24.729848242269217, 12.158408676574508, 7.648059037470342, 4.084967679448187, 3.2182177708885176, 3.3135728821991832, 6.548729159991896, 2.345950472914708, 2.349488486543375, 2.3973737706274196, 2.402280163505622, 9.274089168762067, 2.4264410104945844, 2.4587620775143444, 4.8221046629001405, 2.475819303270321, 2.475820362296858, 2.4758203641101972, 2.4758187678790176, 2.47712921827581, 2.477129310887625, 2.477129317274429, 2.4880914893537365, 2.4880924176992703, 2.4880924176992703, 2.526492978008171, 2.5264927639172097, 10.499326325140942, 5.739186109476534, 3.153324132833344, 3.215793599380145, 3.220939398926215, 3.251614790976205, 21.474589479416487, 45.84789568782576, 23.33460700956332, 8.598804581035706, 16.606112001101895, 47.40330939483451, 11.500367814034334, 11.518119116400184, 36.351227633184706, 84.54081702462508, 17.632437032138256, 12.158408676574508, 25.150476710008856, 16.422893944359842, 10.072882404821357, 6.50423539446001, 4.007510919518213, 4.2336910981713824, 3.357195133078235, 18.516810007028344, 7.464068408500558, 5.829345332337045, 3.1572012154851943, 3.1703230269789917, 4.0479907197690475, 4.098410179560694, 6.453037694659504, 2.334712786595008, 2.334712698497919, 2.351871847410556, 2.385369069441934, 2.390178066366925, 2.3901790660662376, 2.4264410104945844, 2.429223503334767, 2.4292239335778403, 2.468620768679193, 2.4686219707485684, 2.4786341141528707, 2.4880784620598586, 4.862237793194058, 2.519295454077027, 2.5192955537932615, 10.13144598036591, 8.396453146662425, 5.961207602931382, 3.1240627857930168, 3.1330050070953774, 3.1365432881313753, 3.151151921863927, 3.16086167215591, 3.1795567054721054, 6.795016866626459, 19.684208316463124, 23.33460700956332, 10.072882404821357, 25.093461739751397, 11.518119116400184, 47.40330939483451, 11.637108024247132, 11.668647594196697, 12.885868876509395, 14.324890076933327, 15.117339828436485, 16.606112001101895, 16.659450231209785, 17.92098403267996, 19.106464633815747, 84.54081702462508, 27.292151789789372, 18.516810007028344, 9.035446522572776, 5.0711490363784675, 2.370945830000484, 2.370945830000484, 4.079406479114049, 2.314586685609305, 2.3181250229256722, 2.3181250229256722, 2.3660141829835, 2.402280163505622, 2.4273994920369715, 2.4273998455708075, 2.444457915916668, 2.4444579178178625, 2.444456578031534, 2.454470126086318, 2.4544691765843805, 2.463914493211523, 2.4951309635654306, 3.07633115509398, 3.078768793397861, 3.106057039921959, 3.1330050070953774, 3.1365432881313753, 3.153324132833344, 3.16086167215591, 21.474589479416487, 3.210239939750577, 3.2115470585529726, 3.2167505453884697, 3.2296958823641093, 3.2461750604076123, 6.361012722762043, 10.895925196264882, 7.422310748524814, 17.632437032138256, 9.893689206610164, 45.84789568782576, 10.985736468132043, 25.093461739751397, 84.54081702462508, 25.150476710008856, 32.48252414977128, 36.351227633184706, 4.954548669349329, 16.422893944359842, 7.454057835277741, 4.151290164333619, 5.691139901570493, 7.537629729051606, 9.035446522572776, 16.699416185346898, 5.706530468443058, 4.925519608441729, 32.74652450755369, 4.8221046629001405, 4.729221981557521, 3.150446719515397, 3.1795567054721054, 3.2289330322041994, 2.3096855067823876, 2.3096855158805614, 2.350108282616419, 2.3501113342108395, 2.356302689854001, 2.356302701768194, 2.3660141829835, 2.3901790660662376, 2.390178066366925, 2.3973737706274196, 2.4001570361632325, 2.4001574814409423, 2.4395553849853417, 2.4408631908258416, 2.459011371377156, 2.459011371377156, 2.4590119885986788, 4.808782925746104, 2.490226103716056, 2.4902280182626546, 2.4902280182626546, 2.4902280303935527, 2.4902296786598983, 2.4902280122783322, 3.1240627857930168, 3.181016574842694, 7.174487918413295, 27.292151789789372, 8.136351588327262, 8.251037605821779, 14.44006103279818, 47.40330939483451, 7.464068408500558, 10.811076825507307, 19.3588219975234, 12.158408676574508, 84.54081702462508, 16.606112001101895, 25.093461739751397, 45.84789568782576, 10.13144598036591, 3.215793599380145, 16.422893944359842, 3.237363864562539, 6.736278509424091, 32.48252414977128, 9.893689206610164, 5.691139901570493, 11.637108024247132, 36.351227633184706, 3.085349621337287, 3.2292713700165017, 3.2387678216916354, 3.269947589647768, 5.723699711072185, 3.958544053097894, 6.3023511257321525, 2.356302689854001, 2.356302701768194, 2.385369069441934, 2.4176861281828685, 2.454201983111978, 2.4854176469797524, 2.4854196518189804, 5.626024676205686, 3.151151921863927, 3.1846978242753288, 3.2182177708885176, 3.220939398926215, 3.24845424060886, 3.297753162750843, 3.304936748597238, 6.459742384839985, 3.311034593840388, 3.327134840958383, 3.341512085158924, 3.8659930365586614, 3.8365501634206627, 3.897454253290327, 4.024058736520411, 15.929425837724022, 9.786905840133805, 9.796167831615191, 32.48252414977128, 12.885868876509395, 16.18457455063536, 16.606112001101895, 21.474589479416487, 36.351227633184706, 84.54081702462508, 19.106464633815747, 47.40330939483451, 16.422893944359842, 19.684208316463124, 17.632437032138256, 4.862237793194058, 10.901669261506887, 10.094149305537515, 8.251037605821779, 3.8659930365586614, 2.3022248116457984, 2.3022197953365637, 2.3501113342108395, 2.350108282616419, 2.3891577915898905, 2.411494360137632, 2.4285562209577165, 2.4285562261770988, 2.428556231886294, 2.42855158889823, 2.42986527275309, 2.440828271720866, 2.448012805306269, 2.448009151130213, 2.448009840381265, 4.808340670391849, 2.4792288376816147, 2.479227411789331, 3.106057039921959, 3.237363864562539, 3.2622768725269786, 3.2764081560384435, 3.2805976042093254, 3.2963912180358323, 3.3470233839310497, 3.3483296792393595, 3.3664771695881885, 6.633957218702368, 7.373844019009448, 7.454057835277741, 16.663218973838887, 10.057269350138712, 47.40330939483451, 19.106464633815747, 84.54081702462508, 32.74652450755369, 45.84789568782576, 32.48252414977128, 16.422893944359842, 4.148345142750756, 4.010289502847886, 5.1670891961221725, 9.400036927756917, 8.396453146662425, 19.684208316463124, 6.736278509424091, 17.632437032138256, 4.862237793194058, 11.500367814034334, 4.75412188601826, 2.425995116983419, 2.4282586686494425, 2.428258617508212, 2.4354433296913944, 2.4354433296913944, 2.4354389661679283, 2.466661173345952, 2.466659162470285, 3.07633115509398, 3.151151921863927, 3.16086167215591, 3.206646397427318, 3.210239939750577, 3.2115470585529726, 3.2296958823641093, 3.2444154241719323, 3.251614790976205, 3.256655299441309, 3.2861791750020437, 3.306065655346021, 3.3155096344238166, 6.50423539446001, 3.344466526096567, 6.649927165696167, 7.409395228056586, 3.8013623580034395, 7.463453040788951, 11.11594098140362, 4.04093037564557, 10.499326325140942, 10.811076825507307, 47.40330939483451, 27.292151789789372, 15.929425837724022, 16.422893944359842, 16.659450231209785, 19.684208316463124, 84.54081702462508, 24.729848242269217, 6.453037694659504, 8.136351588327262, 10.380004659473558, 15.117339828436485, 5.626024676205686, 5.816590216290413, 9.796167831615191, 5.047275714232196, 4.9807525718070265, 11.500367814034334, 2.3022248116457984, 2.3022197953365637, 2.3181250229256722, 2.3181250229256722, 2.349488486543375, 2.3522687598255816, 2.3746074020649335, 2.3746081700648407, 2.3746066308242435, 2.3916666962038757, 2.39166623966759, 2.4016784493502144, 2.4039381745536357, 2.4423384752955073, 2.442340098242613, 5.73124112642446, 3.1365432881313753, 3.181016574842694, 3.1810172726370682, 3.2004738727941753, 3.2200410934092387, 3.2213708028874164, 3.230074243391405, 6.361012722762043, 3.280225606345862, 3.2840578260578894, 6.677742658734046, 3.737680287839379, 7.35621791298976, 3.8365501634206627, 9.25728269322923, 9.796167831615191, 11.11594098140362, 16.659450231209785, 19.3588219975234, 27.292151789789372, 84.54081702462508, 7.464068408500558, 17.632437032138256, 12.127073793724653, 11.668647594196697, 10.094149305537515, 10.811076825507307, 4.808782925746104, 12.158408676574508, 6.7162206716420005, 6.684224303188353, 15.929425837724022, 32.74652450755369, 4.279456992738231, 4.024058736520411, 4.0479907197690475, 2.284518162726876, 3.8013623580034395, 3.078768793397861, 3.897454253290327, 2.2713782030623415, 2.351871847410556, 2.3618498907273984, 2.3841902503968115, 2.402556945789697, 2.4112606561107213, 2.4519219130857484, 2.451922353710781, 12.158408676574508, 5.690849101241032, 3.106057039921959, 3.153324132833344, 3.1703230269789917, 3.189846369704682, 3.2461750604076123, 3.291325834611099, 3.298511143241579, 3.3007707448603516, 3.3297276970975207, 3.8779037535686767, 3.8806332617567185, 3.9745208061886497, 4.010286664857908, 4.010289502847886, 4.042641800034248, 4.111952721641957, 9.035446522572776, 9.786905840133805, 25.093461739751397, 32.74652450755369, 47.40330939483451, 45.84789568782576, 10.901669261506887, 5.691139901570493, 11.637108024247132, 11.668647594196697, 5.725437801637786, 9.25728269322923, 16.659450231209785, 12.081762868202638, 25.150476710008856, 8.579686420792369, 6.795016866626459, 11.11594098140362, 2.2582210743929974, 3.737680287839379, 4.032837942312297, 2.2713782030623415, 2.3096855067823876, 2.3096855158805614, 2.314586685609305, 2.345950472914708, 2.3710676835295637, 2.398140636494611, 2.4004002725887745, 2.400400278654224, 4.693618870009975, 2.4075848146860404, 3.1330050070953774, 3.134283963451515, 3.1572012154851943, 3.189846369704682, 6.518275796328172, 3.8806332617567185, 7.648059037470342, 3.958544053097894, 4.154493501563108, 16.699416185346898, 4.893267990059602, 4.990657292105473, 5.725437801637786, 5.739186109476534, 11.518119116400184, 6.361012722762043, 23.33460700956332, 84.54081702462508, 19.3588219975234, 19.684208316463124, 25.150476710008856, 32.74652450755369, 15.929425837724022, 11.11594098140362, 14.324890076933327, 47.40330939483451, 25.093461739751397, 9.310832192429084, 7.537629729051606, 18.516810007028344, 6.754713301275066, 10.127096534671864, 7.35621791298976, 21.474589479416487, 2.334712698497919, 2.334712786595008, 2.3670299693555434, 2.384089030231665, 2.3840889518104764, 2.385397690369802, 2.3853979777854533, 2.3963610945132823, 2.3963610945132823, 2.3963611001651297, 3.07633115509398, 3.085349621337287, 3.1240627857930168, 3.134283963451515, 3.2038153506560576, 6.3023511257321525, 3.2542809791770235, 3.2631570088299346, 3.8365501634206627, 3.8779037535686767, 4.007510919518213, 4.07549061080656, 4.092550278426122, 4.120974318988901, 4.181727393608832, 4.693618870009975, 4.910019339474138, 4.922723378326826, 5.678804262031245, 5.679958197543442, 11.500367814034334, 45.84789568782576, 32.74652450755369, 47.40330939483451, 25.093461739751397, 84.54081702462508, 36.351227633184706, 16.422893944359842, 6.705822772113999, 7.174487918413295, 7.629679887435859, 6.459742384839985, 11.11594098140362, 21.474589479416487, 10.249919968752057, 2.2582210743929974, 2.2713782030623415, 2.284518162726876, 2.3022197953365637, 2.3022248116457984, 2.3096855067823876, 2.3096855158805614, 2.314586685609305, 2.3181250229256722, 2.3181250229256722, 2.334712698497919, 2.334712786595008, 2.345950472914708, 2.349488486543375, 2.350108282616419, 2.3501113342108395, 2.351871847410556, 2.3522687598255816, 2.356302689854001, 2.356302701768194, 2.3618498907273984, 2.3660141829835, 2.3670299693555434, 2.370945830000484, 2.370945830000484, 2.3710676835295637, 2.3746066308242435, 2.3746074020649335, 2.3746081700648407, 2.3840889518104764, 6.633957218702368, 16.422893944359842, 4.148345142750756, 2.448012805306269, 4.010289502847886, 5.1670891961221725, 9.400036927756917, 8.396453146662425, 3.237363864562539, 3.2622768725269786, 19.684208316463124, 6.736278509424091, 3.3470233839310497, 19.106464633815747, 17.632437032138256, 2.4285562209577165, 4.862237793194058, 47.40330939483451, 10.057269350138712, 7.454057835277741, 11.500367814034334, 16.663218973838887, 16.606112001101895, 2.42986527275309, 4.878401255706381, 45.84789568782576, 2.4285562261770988, 7.422310748524814], \"Category\": [\"Default\", \"Default\", \"Default\", \"Default\", \"Default\", \"Default\", \"Default\", \"Default\", \"Default\", \"Default\", \"Default\", \"Default\", \"Default\", \"Default\", \"Default\", \"Default\", \"Default\", \"Default\", \"Default\", \"Default\", \"Default\", \"Default\", \"Default\", \"Default\", \"Default\", \"Default\", \"Default\", \"Default\", \"Default\", \"Default\", \"Topic1\", \"Topic1\", \"Topic1\", \"Topic1\", \"Topic1\", \"Topic1\", \"Topic1\", \"Topic1\", \"Topic1\", \"Topic1\", \"Topic1\", \"Topic1\", \"Topic1\", \"Topic1\", \"Topic1\", \"Topic1\", \"Topic1\", \"Topic1\", \"Topic1\", \"Topic1\", \"Topic1\", \"Topic1\", \"Topic1\", \"Topic1\", \"Topic1\", \"Topic1\", \"Topic1\", \"Topic1\", \"Topic1\", \"Topic1\", \"Topic1\", \"Topic1\", \"Topic1\", \"Topic1\", \"Topic1\", \"Topic1\", \"Topic1\", \"Topic1\", \"Topic1\", \"Topic1\", \"Topic1\", \"Topic1\", \"Topic1\", \"Topic1\", \"Topic1\", \"Topic1\", \"Topic2\", \"Topic2\", \"Topic2\", \"Topic2\", \"Topic2\", \"Topic2\", \"Topic2\", \"Topic2\", \"Topic2\", \"Topic2\", \"Topic2\", \"Topic2\", \"Topic2\", \"Topic2\", \"Topic2\", \"Topic2\", \"Topic2\", \"Topic2\", \"Topic2\", \"Topic2\", \"Topic2\", \"Topic2\", \"Topic2\", \"Topic2\", \"Topic2\", \"Topic2\", \"Topic2\", \"Topic2\", \"Topic2\", \"Topic2\", \"Topic2\", \"Topic2\", \"Topic2\", \"Topic2\", \"Topic2\", \"Topic2\", \"Topic2\", \"Topic2\", \"Topic2\", \"Topic2\", \"Topic2\", \"Topic2\", \"Topic2\", \"Topic2\", \"Topic2\", \"Topic2\", \"Topic2\", \"Topic2\", \"Topic2\", \"Topic2\", \"Topic2\", \"Topic2\", \"Topic2\", \"Topic3\", \"Topic3\", \"Topic3\", \"Topic3\", \"Topic3\", \"Topic3\", \"Topic3\", \"Topic3\", \"Topic3\", \"Topic3\", \"Topic3\", \"Topic3\", \"Topic3\", \"Topic3\", \"Topic3\", \"Topic3\", \"Topic3\", \"Topic3\", \"Topic3\", \"Topic3\", \"Topic3\", \"Topic3\", \"Topic3\", \"Topic3\", \"Topic3\", \"Topic3\", \"Topic3\", \"Topic3\", \"Topic3\", \"Topic3\", \"Topic3\", \"Topic3\", \"Topic3\", \"Topic3\", \"Topic3\", \"Topic3\", \"Topic3\", \"Topic3\", \"Topic3\", \"Topic3\", \"Topic3\", \"Topic3\", \"Topic3\", \"Topic3\", \"Topic3\", \"Topic3\", \"Topic3\", \"Topic3\", \"Topic3\", \"Topic3\", \"Topic3\", \"Topic3\", \"Topic3\", \"Topic3\", \"Topic3\", \"Topic3\", \"Topic3\", \"Topic4\", \"Topic4\", \"Topic4\", \"Topic4\", \"Topic4\", \"Topic4\", \"Topic4\", \"Topic4\", \"Topic4\", \"Topic4\", \"Topic4\", \"Topic4\", \"Topic4\", \"Topic4\", \"Topic4\", \"Topic4\", \"Topic4\", \"Topic4\", \"Topic4\", \"Topic4\", \"Topic4\", \"Topic4\", \"Topic4\", \"Topic4\", \"Topic4\", \"Topic4\", \"Topic4\", \"Topic4\", \"Topic4\", \"Topic4\", \"Topic4\", \"Topic4\", \"Topic4\", \"Topic4\", \"Topic4\", \"Topic4\", \"Topic4\", \"Topic4\", \"Topic4\", \"Topic4\", \"Topic4\", \"Topic4\", \"Topic4\", \"Topic4\", \"Topic4\", \"Topic4\", \"Topic4\", \"Topic4\", \"Topic4\", \"Topic4\", \"Topic5\", \"Topic5\", \"Topic5\", \"Topic5\", \"Topic5\", \"Topic5\", \"Topic5\", \"Topic5\", \"Topic5\", \"Topic5\", \"Topic5\", \"Topic5\", \"Topic5\", \"Topic5\", \"Topic5\", \"Topic5\", \"Topic5\", \"Topic5\", \"Topic5\", \"Topic5\", \"Topic5\", \"Topic5\", \"Topic5\", \"Topic5\", \"Topic5\", \"Topic5\", \"Topic5\", \"Topic5\", \"Topic5\", \"Topic5\", \"Topic5\", \"Topic5\", \"Topic5\", \"Topic5\", \"Topic5\", \"Topic5\", \"Topic5\", \"Topic5\", \"Topic5\", \"Topic5\", \"Topic5\", \"Topic5\", \"Topic5\", \"Topic5\", \"Topic5\", \"Topic5\", \"Topic5\", \"Topic5\", \"Topic5\", \"Topic5\", \"Topic5\", \"Topic5\", \"Topic5\", \"Topic5\", \"Topic5\", \"Topic5\", \"Topic5\", \"Topic6\", \"Topic6\", \"Topic6\", \"Topic6\", \"Topic6\", \"Topic6\", \"Topic6\", \"Topic6\", \"Topic6\", \"Topic6\", \"Topic6\", \"Topic6\", \"Topic6\", \"Topic6\", \"Topic6\", \"Topic6\", \"Topic6\", \"Topic6\", \"Topic6\", \"Topic6\", \"Topic6\", \"Topic6\", \"Topic6\", \"Topic6\", \"Topic6\", \"Topic6\", \"Topic6\", \"Topic6\", \"Topic6\", \"Topic6\", \"Topic6\", \"Topic6\", \"Topic6\", \"Topic6\", \"Topic6\", \"Topic6\", \"Topic6\", \"Topic6\", \"Topic6\", \"Topic6\", \"Topic6\", \"Topic6\", \"Topic7\", \"Topic7\", \"Topic7\", \"Topic7\", \"Topic7\", \"Topic7\", \"Topic7\", \"Topic7\", \"Topic7\", \"Topic7\", \"Topic7\", \"Topic7\", \"Topic7\", \"Topic7\", \"Topic7\", \"Topic7\", \"Topic7\", \"Topic7\", \"Topic7\", \"Topic7\", \"Topic7\", \"Topic7\", \"Topic7\", \"Topic7\", \"Topic7\", \"Topic7\", \"Topic7\", \"Topic7\", \"Topic7\", \"Topic7\", \"Topic7\", \"Topic7\", \"Topic7\", \"Topic7\", \"Topic7\", \"Topic7\", \"Topic7\", \"Topic7\", \"Topic7\", \"Topic7\", \"Topic7\", \"Topic7\", \"Topic7\", \"Topic7\", \"Topic7\", \"Topic7\", \"Topic7\", \"Topic7\", \"Topic7\", \"Topic7\", \"Topic8\", \"Topic8\", \"Topic8\", \"Topic8\", \"Topic8\", \"Topic8\", \"Topic8\", \"Topic8\", \"Topic8\", \"Topic8\", \"Topic8\", \"Topic8\", \"Topic8\", \"Topic8\", \"Topic8\", \"Topic8\", \"Topic8\", \"Topic8\", \"Topic8\", \"Topic8\", \"Topic8\", \"Topic8\", \"Topic8\", \"Topic8\", \"Topic8\", \"Topic8\", \"Topic8\", \"Topic8\", \"Topic8\", \"Topic8\", \"Topic8\", \"Topic8\", \"Topic8\", \"Topic8\", \"Topic8\", \"Topic8\", \"Topic8\", \"Topic8\", \"Topic8\", \"Topic8\", \"Topic8\", \"Topic8\", \"Topic8\", \"Topic8\", \"Topic8\", \"Topic8\", \"Topic8\", \"Topic8\", \"Topic8\", \"Topic8\", \"Topic8\", \"Topic8\", \"Topic8\", \"Topic8\", \"Topic9\", \"Topic9\", \"Topic9\", \"Topic9\", \"Topic9\", \"Topic9\", \"Topic9\", \"Topic9\", \"Topic9\", \"Topic9\", \"Topic9\", \"Topic9\", \"Topic9\", \"Topic9\", \"Topic9\", \"Topic9\", \"Topic9\", \"Topic9\", \"Topic9\", \"Topic9\", \"Topic9\", \"Topic9\", \"Topic9\", \"Topic9\", \"Topic9\", \"Topic9\", \"Topic9\", \"Topic9\", \"Topic9\", \"Topic9\", \"Topic9\", \"Topic9\", \"Topic9\", \"Topic9\", \"Topic9\", \"Topic9\", \"Topic9\", \"Topic9\", \"Topic9\", \"Topic9\", \"Topic9\", \"Topic9\", \"Topic9\", \"Topic9\", \"Topic9\", \"Topic9\", \"Topic9\", \"Topic9\", \"Topic9\", \"Topic9\", \"Topic9\", \"Topic9\", \"Topic10\", \"Topic10\", \"Topic10\", \"Topic10\", \"Topic10\", \"Topic10\", \"Topic10\", \"Topic10\", \"Topic10\", \"Topic10\", \"Topic10\", \"Topic10\", \"Topic10\", \"Topic10\", \"Topic10\", \"Topic10\", \"Topic10\", \"Topic10\", \"Topic10\", \"Topic10\", \"Topic10\", \"Topic10\", \"Topic10\", \"Topic10\", \"Topic10\", \"Topic10\", \"Topic10\", \"Topic10\", \"Topic10\", \"Topic10\", \"Topic10\", \"Topic10\", \"Topic10\", \"Topic10\", \"Topic10\", \"Topic10\", \"Topic10\", \"Topic10\", \"Topic10\", \"Topic10\", \"Topic10\", \"Topic10\", \"Topic10\", \"Topic10\", \"Topic10\", \"Topic10\", \"Topic10\", \"Topic10\", \"Topic10\", \"Topic10\", \"Topic10\", \"Topic11\", \"Topic11\", \"Topic11\", \"Topic11\", \"Topic11\", \"Topic11\", \"Topic11\", \"Topic11\", \"Topic11\", \"Topic11\", \"Topic11\", \"Topic11\", \"Topic11\", \"Topic11\", \"Topic11\", \"Topic11\", \"Topic11\", \"Topic11\", \"Topic11\", \"Topic11\", \"Topic11\", \"Topic11\", \"Topic11\", \"Topic11\", \"Topic11\", \"Topic11\", \"Topic11\", \"Topic11\", \"Topic11\", \"Topic11\", \"Topic11\", \"Topic11\", \"Topic11\", \"Topic11\", \"Topic11\", \"Topic11\", \"Topic11\", \"Topic11\", \"Topic11\", \"Topic11\", \"Topic11\", \"Topic11\", \"Topic11\", \"Topic11\", \"Topic11\", \"Topic11\", \"Topic11\", \"Topic11\", \"Topic11\", \"Topic11\", \"Topic11\", \"Topic11\", \"Topic11\", \"Topic11\", \"Topic12\", \"Topic12\", \"Topic12\", \"Topic12\", \"Topic12\", \"Topic12\", \"Topic12\", \"Topic12\", \"Topic12\", \"Topic12\", \"Topic12\", \"Topic12\", \"Topic12\", \"Topic12\", \"Topic12\", \"Topic12\", \"Topic12\", \"Topic12\", \"Topic12\", \"Topic12\", \"Topic12\", \"Topic12\", \"Topic12\", \"Topic12\", \"Topic12\", \"Topic12\", \"Topic12\", \"Topic12\", \"Topic12\", \"Topic12\", \"Topic12\", \"Topic12\", \"Topic12\", \"Topic12\", \"Topic12\", \"Topic12\", \"Topic12\", \"Topic12\", \"Topic12\", \"Topic12\", \"Topic12\", \"Topic12\", \"Topic12\", \"Topic12\", \"Topic12\", \"Topic12\", \"Topic12\", \"Topic12\", \"Topic12\", \"Topic12\", \"Topic12\", \"Topic12\", \"Topic12\", \"Topic12\", \"Topic13\", \"Topic13\", \"Topic13\", \"Topic13\", \"Topic13\", \"Topic13\", \"Topic13\", \"Topic13\", \"Topic13\", \"Topic13\", \"Topic13\", \"Topic13\", \"Topic13\", \"Topic13\", \"Topic13\", \"Topic13\", \"Topic13\", \"Topic13\", \"Topic13\", \"Topic13\", \"Topic13\", \"Topic13\", \"Topic13\", \"Topic13\", \"Topic13\", \"Topic13\", \"Topic13\", \"Topic13\", \"Topic13\", \"Topic13\", \"Topic13\", \"Topic13\", \"Topic13\", \"Topic13\", \"Topic13\", \"Topic13\", \"Topic13\", \"Topic13\", \"Topic13\", \"Topic13\", \"Topic13\", \"Topic13\", \"Topic13\", \"Topic13\", \"Topic13\", \"Topic13\", \"Topic13\", \"Topic13\", \"Topic13\", \"Topic14\", \"Topic14\", \"Topic14\", \"Topic14\", \"Topic14\", \"Topic14\", \"Topic14\", \"Topic14\", \"Topic14\", \"Topic14\", \"Topic14\", \"Topic14\", \"Topic14\", \"Topic14\", \"Topic14\", \"Topic14\", \"Topic14\", \"Topic14\", \"Topic14\", \"Topic14\", \"Topic14\", \"Topic14\", \"Topic14\", \"Topic14\", \"Topic14\", \"Topic14\", \"Topic14\", \"Topic14\", \"Topic14\", \"Topic14\", \"Topic14\", \"Topic14\", \"Topic14\", \"Topic14\", \"Topic14\", \"Topic14\", \"Topic14\", \"Topic14\", \"Topic14\", \"Topic14\", \"Topic14\", \"Topic14\", \"Topic14\", \"Topic14\", \"Topic14\", \"Topic14\", \"Topic14\", \"Topic14\", \"Topic14\", \"Topic14\", \"Topic15\", \"Topic15\", \"Topic15\", \"Topic15\", \"Topic15\", \"Topic15\", \"Topic15\", \"Topic15\", \"Topic15\", \"Topic15\", \"Topic15\", \"Topic15\", \"Topic15\", \"Topic15\", \"Topic15\", \"Topic15\", \"Topic15\", \"Topic15\", \"Topic15\", \"Topic15\", \"Topic15\", \"Topic15\", \"Topic15\", \"Topic15\", \"Topic15\", \"Topic15\", \"Topic15\", \"Topic15\", \"Topic15\", \"Topic15\", \"Topic15\", \"Topic15\", \"Topic15\", \"Topic15\", \"Topic15\", \"Topic15\", \"Topic15\", \"Topic15\", \"Topic15\", \"Topic15\", \"Topic15\", \"Topic15\", \"Topic15\", \"Topic15\", \"Topic15\", \"Topic15\", \"Topic15\", \"Topic15\", \"Topic15\", \"Topic15\", \"Topic16\", \"Topic16\", \"Topic16\", \"Topic16\", \"Topic16\", \"Topic16\", \"Topic16\", \"Topic16\", \"Topic16\", \"Topic16\", \"Topic16\", \"Topic16\", \"Topic16\", \"Topic16\", \"Topic16\", \"Topic16\", \"Topic16\", \"Topic16\", \"Topic16\", \"Topic16\", \"Topic16\", \"Topic16\", \"Topic16\", \"Topic16\", \"Topic16\", \"Topic16\", \"Topic16\", \"Topic16\", \"Topic16\", \"Topic16\", \"Topic16\", \"Topic16\", \"Topic16\", \"Topic16\", \"Topic16\", \"Topic16\", \"Topic16\", \"Topic16\", \"Topic16\", \"Topic16\", \"Topic16\", \"Topic16\", \"Topic16\", \"Topic16\", \"Topic16\", \"Topic16\", \"Topic16\", \"Topic16\", \"Topic16\", \"Topic16\", \"Topic16\", \"Topic16\", \"Topic17\", \"Topic17\", \"Topic17\", \"Topic17\", \"Topic17\", \"Topic17\", \"Topic17\", \"Topic17\", \"Topic17\", \"Topic17\", \"Topic17\", \"Topic17\", \"Topic17\", \"Topic17\", \"Topic17\", \"Topic17\", \"Topic17\", \"Topic17\", \"Topic17\", \"Topic17\", \"Topic17\", \"Topic17\", \"Topic17\", \"Topic17\", \"Topic17\", \"Topic17\", \"Topic17\", \"Topic17\", \"Topic17\", \"Topic17\", \"Topic17\", \"Topic17\", \"Topic17\", \"Topic17\", \"Topic17\", \"Topic17\", \"Topic17\", \"Topic17\", \"Topic17\", \"Topic17\", \"Topic17\", \"Topic17\", \"Topic17\", \"Topic17\", \"Topic17\", \"Topic17\", \"Topic17\", \"Topic17\", \"Topic18\", \"Topic18\", \"Topic18\", \"Topic18\", \"Topic18\", \"Topic18\", \"Topic18\", \"Topic18\", \"Topic18\", \"Topic18\", \"Topic18\", \"Topic18\", \"Topic18\", \"Topic18\", \"Topic18\", \"Topic18\", \"Topic18\", \"Topic18\", \"Topic18\", \"Topic18\", \"Topic18\", \"Topic18\", \"Topic18\", \"Topic18\", \"Topic18\", \"Topic18\", \"Topic18\", \"Topic18\", \"Topic18\", \"Topic18\", \"Topic18\", \"Topic18\", \"Topic18\", \"Topic18\", \"Topic18\", \"Topic18\", \"Topic18\", \"Topic18\", \"Topic18\", \"Topic18\", \"Topic18\", \"Topic18\", \"Topic18\", \"Topic18\", \"Topic18\", \"Topic18\", \"Topic18\", \"Topic18\", \"Topic19\", \"Topic19\", \"Topic19\", \"Topic19\", \"Topic19\", \"Topic19\", \"Topic19\", \"Topic19\", \"Topic19\", \"Topic19\", \"Topic19\", \"Topic19\", \"Topic19\", \"Topic19\", \"Topic19\", \"Topic19\", \"Topic19\", \"Topic19\", \"Topic19\", \"Topic19\", \"Topic19\", \"Topic19\", \"Topic19\", \"Topic19\", \"Topic19\", \"Topic19\", \"Topic19\", \"Topic19\", \"Topic19\", \"Topic19\", \"Topic19\", \"Topic19\", \"Topic19\", \"Topic19\", \"Topic19\", \"Topic19\", \"Topic19\", \"Topic19\", \"Topic19\", \"Topic19\", \"Topic19\", \"Topic19\", \"Topic19\", \"Topic19\", \"Topic19\", \"Topic20\", \"Topic20\", \"Topic20\", \"Topic20\", \"Topic20\", \"Topic20\", \"Topic20\", \"Topic20\", \"Topic20\", \"Topic20\", \"Topic20\", \"Topic20\", \"Topic20\", \"Topic20\", \"Topic20\", \"Topic20\", \"Topic20\", \"Topic20\", \"Topic20\", \"Topic20\", \"Topic20\", \"Topic20\", \"Topic20\", \"Topic20\", \"Topic20\", \"Topic20\", \"Topic20\", \"Topic20\", \"Topic20\", \"Topic20\", \"Topic20\", \"Topic20\", \"Topic20\", \"Topic20\", \"Topic20\", \"Topic20\", \"Topic20\", \"Topic20\", \"Topic20\", \"Topic20\", \"Topic20\", \"Topic20\", \"Topic20\", \"Topic20\", \"Topic20\", \"Topic20\", \"Topic20\", \"Topic20\", \"Topic20\", \"Topic20\", \"Topic20\", \"Topic20\", \"Topic20\", \"Topic20\", \"Topic20\", \"Topic20\", \"Topic20\", \"Topic20\"], \"logprob\": [30.0, 29.0, 28.0, 27.0, 26.0, 25.0, 24.0, 23.0, 22.0, 21.0, 20.0, 19.0, 18.0, 17.0, 16.0, 15.0, 14.0, 13.0, 12.0, 11.0, 10.0, 9.0, 8.0, 7.0, 6.0, 5.0, 4.0, 3.0, 2.0, 1.0, -4.7052, -4.9888, -5.3861, -5.3861, -5.3861, -5.3861, -5.3861, -5.3861, -5.3861, -5.3861, -4.3039, -4.9888, -4.4845, -4.9888, -4.9888, -4.3039, -4.3039, -4.9888, -5.3861, -4.9888, -4.7052, -4.4611, -4.3039, -5.3861, -5.3861, -5.3861, -5.3861, -4.3039, -5.3861, -4.9888, -4.0182, -2.6751, -3.4613, -4.9888, -4.7052, -3.6148, -4.3039, -3.9011, -4.4845, -4.7052, -4.4977, -4.7052, -4.4845, -4.7052, -4.4845, -4.9888, -4.5039, -4.5039, -4.9012, -4.9012, -4.9012, -4.9012, -4.5039, -4.9012, -4.9012, -4.5039, -4.9012, -4.9012, -4.9012, -4.2203, -4.2203, -5.5702, -5.5702, -5.5702, -5.5702, -5.5702, -5.5702, -5.5702, -5.5702, -5.5702, -5.5702, -5.5702, -5.5702, -5.5702, -5.5702, -5.5702, -4.2203, -3.4162, -4.2203, -4.9012, -4.9012, -4.5039, -4.9012, -4.2203, -4.2203, -3.9996, -4.5039, -4.5039, -4.5039, -4.5039, -4.9012, -4.2203, -4.2203, -4.5039, -4.8439, -4.9012, -4.9012, -4.9012, -4.9012, -4.801, -3.8994, -4.801, -4.801, -4.4037, -4.801, -4.801, -4.4037, -5.4701, -5.4701, -5.4701, -5.4701, -5.4701, -5.4701, -5.4701, -5.4701, -5.4701, -5.4701, -5.4701, -5.4701, -5.4701, -5.4701, -5.4701, -5.4701, -5.4701, -5.4701, -5.4701, -5.4701, -5.4701, -5.4701, -3.7188, -4.801, -4.4037, -3.7188, -4.4037, -4.4037, -4.801, -4.801, -3.5658, -4.801, -4.4037, -4.801, -3.8994, -4.4037, -4.801, -4.801, -4.801, -4.801, -4.4037, -4.4037, -4.801, -4.801, -4.801, -4.801, -4.801, -4.801, -4.801, -3.6697, -4.752, -4.752, -4.752, -4.752, -4.752, -4.752, -4.752, -4.752, -4.752, -4.752, -4.752, -4.752, -5.421, -5.421, -5.421, -5.421, -5.421, -5.421, -5.421, -5.421, -5.421, -5.421, -5.421, -5.421, -5.421, -5.421, -5.421, -5.421, -5.421, -4.0711, -4.3546, -4.3546, -4.752, -2.901, -4.752, -4.752, -4.752, -4.0711, -4.7223, -3.6697, -4.3546, -4.3546, -4.3546, -4.752, -4.752, -4.752, -4.3546, -4.752, -4.752, -4.749, -4.749, -4.749, -4.749, -4.0682, -4.749, -4.749, -4.0682, -4.749, -5.4181, -5.4181, -5.4181, -5.4181, -5.4181, -5.4181, -5.4181, -5.4181, -5.4181, -5.4181, -5.4181, -5.4181, -5.4181, -5.4181, -5.4181, -5.4181, -5.4181, -5.4181, -5.4181, -5.4181, -5.4181, -4.749, -4.749, -3.3812, -2.6987, -4.749, -4.0682, -4.3517, -4.749, -4.749, -4.3517, -4.749, -3.9924, -4.3517, -4.749, -4.749, -4.0261, -3.8475, -4.0682, -4.749, -4.749, -4.3517, -4.3517, -4.749, -4.749, -4.749, -4.749, -4.749, -4.6357, -4.6357, -4.6357, -4.6357, -4.6357, -4.6357, -4.6357, -4.6357, -4.6357, -4.6357, -4.6357, -4.6357, -4.6357, -4.6357, -4.6357, -4.6357, -4.6357, -4.6357, -4.6357, -4.6357, -4.6357, -4.6357, -5.3047, -5.3047, -3.7341, -5.3047, -5.3047, -5.3047, -5.3047, -5.3047, -3.5534, -4.6357, -3.7341, -4.2384, -4.6357, -4.2384, -4.2384, -4.2384, -4.2384, -4.6357, -4.6357, -4.6357, -4.6217, -4.6217, -2.5079, -4.6217, -4.2244, -3.5395, -4.6217, -3.3865, -2.9099, -5.2908, -5.2908, -5.2908, -5.2908, -5.2908, -5.2908, -4.6217, -5.2908, -5.2908, -5.2908, -5.2908, -5.2908, -5.2908, -5.2908, -5.2908, -5.2908, -5.2908, -5.2908, -5.2908, -5.2908, -5.2908, -3.3867, -4.2503, -4.6217, -3.3865, -4.2244, -3.7552, -4.6217, -4.2244, -4.6217, -4.6217, -4.6217, -4.6217, -4.6818, -4.2244, -4.6217, -4.6217, -4.6217, -5.1062, -5.2908, -5.2908, -4.4886, -4.4886, -4.4886, -3.8077, -5.1577, -5.1577, -5.1577, -5.1577, -5.1577, -5.1577, -5.1577, -5.1577, -5.1577, -5.1577, -5.1577, -5.1577, -5.1577, -5.1577, -5.1577, -5.1577, -5.1577, -5.1577, -5.1577, -5.1577, -4.4886, -5.1577, -5.1577, -5.1577, -5.1577, -4.4886, -3.8077, -4.4886, -4.4886, -4.4886, -4.4886, -4.4886, -4.4886, -4.0913, -4.4886, -4.5982, -4.4886, -4.4886, -4.4886, -4.4886, -4.4886, -4.4886, -4.4886, -4.4886, -4.4886, -4.4886, -4.4886, -4.9012, -5.1577, -5.1577, -3.7417, -4.4226, -4.4227, -3.7417, -5.0917, -5.0917, -5.0917, -5.0917, -3.7417, -5.0917, -5.0917, -4.4226, -5.0917, -5.0917, -5.0917, -5.0917, -5.0917, -5.0917, -5.0917, -5.0917, -5.0917, -5.0917, -5.0917, -5.0917, -3.7417, -4.4226, -5.0917, -5.0917, -5.0917, -5.0917, -3.4609, -3.1874, -3.7417, -4.4226, -4.0253, -3.7417, -4.4226, -4.4226, -4.0253, -3.7359, -4.4226, -5.0435, -5.0431, -5.0917, -5.0917, -5.0917, -5.0917, -5.0917, -5.0917, -5.0917, -5.0917, -5.0917, -4.3842, -4.3842, -4.3842, -4.3842, -3.9868, -5.0532, -5.0532, -5.0532, -5.0532, -5.0532, -5.0532, -5.0532, -5.0532, -5.0532, -5.0532, -5.0532, -5.0532, -5.0532, -4.3842, -5.0532, -5.0532, -3.7033, -3.9868, -4.3842, -5.0532, -5.0532, -5.0532, -5.0532, -5.0532, -5.0532, -4.3842, -3.7033, -3.7033, -4.3842, -3.9868, -4.3842, -3.7033, -4.3842, -4.3842, -4.3842, -4.3842, -4.3842, -4.3842, -4.3842, -4.3842, -4.3842, -3.9868, -5.0532, -5.0532, -5.0532, -5.0532, -4.2544, -4.2544, -4.2544, -4.9235, -4.9235, -4.9235, -4.9235, -4.9235, -4.9235, -4.9235, -4.9235, -4.9235, -4.9235, -4.9235, -4.9235, -4.9235, -4.9235, -4.9235, -4.9235, -4.9235, -4.9235, -4.9235, -4.9235, -4.9235, -3.0192, -4.9235, -4.9235, -4.9235, -4.9235, -4.9235, -4.2544, -3.8571, -4.2544, -3.8571, -4.2544, -3.3528, -4.2544, -3.8571, -3.8571, -4.2544, -4.2544, -4.2544, -4.9235, -4.9235, -4.9235, -4.9235, -4.9235, -4.9235, -4.9235, -4.9235, -4.9235, -4.9235, -4.9235, -4.9235, -3.3051, -3.8094, -4.2067, -4.2067, -4.8758, -4.8758, -4.8758, -4.8758, -4.8758, -4.8758, -4.8758, -4.8758, -4.8758, -4.8758, -4.8758, -4.8758, -4.8758, -4.8758, -4.8758, -4.8758, -4.8758, -4.2067, -4.8758, -4.8758, -4.8758, -4.8758, -4.8758, -4.8758, -4.8758, -4.8758, -4.2067, -3.2903, -4.2067, -4.2067, -3.9267, -3.3051, -4.3689, -4.2067, -4.2067, -4.4889, -4.1773, -4.6845, -4.8149, -4.8758, -4.8758, -4.8758, -4.8758, -4.8758, -4.8758, -4.8758, -4.8758, -4.8758, -4.8758, -4.8758, -4.1494, -4.1494, -4.1493, -4.1493, -3.752, -4.1493, -3.752, -4.8184, -4.8184, -4.8184, -4.8184, -4.8184, -4.8184, -4.8184, -4.1494, -4.8184, -4.8184, -4.8184, -4.8184, -4.8184, -4.8184, -4.8184, -4.1493, -4.8184, -4.8184, -4.8184, -4.6952, -4.8184, -4.8184, -4.8184, -3.752, -4.1493, -4.1494, -3.6793, -4.1493, -4.1493, -4.1493, -4.1494, -4.1494, -4.7076, -4.7634, -4.7695, -4.8184, -4.8184, -4.8184, -4.8184, -4.8184, -4.8184, -4.8184, -4.178, -4.7775, -4.7775, -4.7775, -4.7775, -4.7775, -4.7775, -4.7775, -4.7775, -4.7775, -4.7775, -4.7775, -4.7775, -4.7775, -4.7775, -4.7775, -4.1084, -4.7775, -4.7775, -4.7775, -4.7775, -4.7775, -4.7775, -4.7775, -4.7775, -4.7775, -4.7775, -4.7775, -4.1084, -4.1084, -4.1084, -3.7111, -4.1084, -3.4406, -4.1378, -3.7523, -4.1084, -4.1084, -4.2276, -4.7775, -4.7775, -4.7775, -4.7775, -4.7775, -4.7775, -4.7775, -4.7775, -4.7775, -4.7775, -4.7775, -3.7239, -4.7903, -4.7903, -4.7903, -4.7903, -4.7903, -4.7903, -4.7903, -4.7903, -4.7903, -4.7903, -4.7903, -4.7903, -4.7903, -4.7903, -4.7903, -4.7903, -4.7903, -4.7903, -4.7903, -4.7903, -4.7903, -4.1212, -4.7903, -4.1212, -4.1212, -4.7903, -4.1212, -3.7239, -4.7903, -4.1212, -4.1212, -3.2197, -3.7239, -4.1212, -4.1212, -4.1212, -4.1212, -3.7239, -4.1212, -4.7903, -4.7903, -4.7903, -4.7903, -4.7903, -4.7903, -4.7903, -4.7903, -4.7903, -4.7903, -4.6641, -4.6641, -4.6641, -4.6641, -4.6641, -4.6641, -4.6641, -4.6641, -4.6641, -4.6641, -4.6641, -4.6641, -4.6641, -4.6641, -4.6641, -3.995, -4.6641, -4.6641, -4.6641, -4.6641, -4.6641, -4.6641, -4.6641, -3.995, -4.6641, -4.6641, -3.995, -4.6641, -3.995, -4.6641, -3.995, -3.995, -3.995, -3.995, -3.995, -3.9946, -3.995, -4.6441, -4.6641, -4.6641, -4.6641, -4.6641, -4.6641, -4.6641, -4.6641, -4.6641, -4.6641, -4.6641, -4.6641, -4.6641, -4.6641, -4.6641, -3.9675, -3.5702, -3.9675, -3.9675, -4.6366, -4.6366, -4.6366, -4.6366, -4.6366, -4.6366, -4.6366, -4.6366, -3.066, -3.9675, -4.6366, -4.6366, -4.6366, -4.6366, -4.6366, -4.6366, -4.6366, -4.6366, -4.6366, -4.6366, -4.6366, -4.6366, -4.6366, -4.6366, -4.6366, -4.6366, -3.9675, -3.9675, -3.9675, -3.9675, -4.6366, -4.6366, -4.6366, -4.6366, -4.6366, -4.6366, -4.6366, -4.6366, -4.6366, -4.6366, -4.6366, -4.6366, -4.6366, -4.6366, -3.9501, -3.5528, -3.9501, -4.6191, -4.6191, -4.6191, -4.6191, -4.6191, -4.6191, -4.6191, -4.6191, -4.6191, -3.9501, -4.6191, -4.6191, -4.6191, -4.6191, -4.6191, -3.9501, -4.6191, -3.9501, -4.6191, -4.6191, -3.2692, -4.6191, -4.6191, -4.6191, -4.6191, -3.9501, -4.6191, -3.5528, -2.5668, -3.9501, -3.9501, -3.9501, -3.9501, -4.6191, -4.6191, -4.6191, -4.6191, -4.6191, -4.6191, -4.6191, -4.6191, -4.6191, -4.6191, -4.6191, -4.6191, -4.5698, -4.5698, -4.5698, -4.5698, -4.5698, -4.5698, -4.5698, -4.5698, -4.5698, -4.5698, -4.5698, -4.5698, -4.5698, -4.5698, -4.5698, -3.9007, -4.5698, -4.5698, -4.5698, -4.5698, -4.5698, -4.5698, -4.5698, -4.5698, -4.5698, -4.5698, -4.5698, -4.5698, -4.5698, -4.5698, -3.9007, -3.2199, -3.5034, -3.5034, -3.9007, -3.5034, -3.9007, -4.5698, -4.5698, -4.5698, -4.5698, -4.5698, -4.5698, -4.5698, -4.5698, -6.375, -6.375, -6.375, -6.375, -6.375, -6.375, -6.375, -6.375, -6.375, -6.375, -6.375, -6.375, -6.375, -6.375, -6.375, -6.375, -6.375, -6.375, -6.375, -6.375, -6.375, -6.375, -6.375, -6.375, -6.375, -6.375, -6.375, -6.375, -6.375, -6.375, -6.375, -6.375, -6.375, -6.375, -6.375, -6.375, -6.375, -6.375, -6.375, -6.375, -6.375, -6.375, -6.375, -6.375, -6.375, -6.375, -6.375, -6.375, -6.375, -6.375, -6.375, -6.375, -6.375, -6.375, -6.375, -6.375, -6.375, -6.375], \"loglift\": [30.0, 29.0, 28.0, 27.0, 26.0, 25.0, 24.0, 23.0, 22.0, 21.0, 20.0, 19.0, 18.0, 17.0, 16.0, 15.0, 14.0, 13.0, 12.0, 11.0, 10.0, 9.0, 8.0, 7.0, 6.0, 5.0, 4.0, 3.0, 2.0, 1.0, 1.7787, 1.726, 1.6292, 1.6292, 1.6292, 1.6292, 1.6292, 1.6292, 1.6292, 1.6292, 1.599, 1.5357, 1.5344, 1.5043, 1.5022, 1.4022, 1.3997, 1.3472, 1.3427, 1.3268, 1.2387, 1.1899, 1.179, 1.1783, 1.1615, 1.1539, 1.1442, 1.1183, 1.1158, 1.0733, 1.01, 0.866, 0.9238, 1.07, 0.9579, 0.5381, 0.8047, 0.5884, 0.6808, 0.7814, 0.258, 0.489, 0.0131, 0.3871, -0.3649, 0.2214, 2.2377, 2.2377, 2.1383, 2.1383, 2.1383, 2.1383, 2.0014, 1.8707, 1.8585, 1.6892, 1.6827, 1.6499, 1.6125, 1.6086, 1.6064, 1.5294, 1.5179, 1.5179, 1.5179, 1.5128, 1.5128, 1.5128, 1.5103, 1.5083, 1.5083, 1.5083, 1.5063, 1.4966, 1.4926, 1.4836, 1.476, 1.0814, 1.088, 1.2847, 1.2831, 1.1346, 1.1725, 0.6912, 0.6081, 0.3855, 0.7063, 0.6613, 0.6591, 0.5885, 0.9318, -0.0673, -0.1007, 0.2518, -1.3028, 0.2785, 0.0973, 0.7615, 0.2931, 2.2441, 2.0468, 1.9882, 1.9752, 1.8079, 1.749, 1.7303, 1.6657, 1.6343, 1.6343, 1.6343, 1.6326, 1.6326, 1.6311, 1.6211, 1.6211, 1.6159, 1.5967, 1.5967, 1.5967, 1.5956, 1.5956, 1.5956, 1.5867, 1.5867, 1.5867, 1.5799, 1.5794, 1.5794, 1.576, 1.2964, 1.4384, 1.3434, 1.1096, 1.2627, 1.1177, 1.2851, 1.2577, 0.5872, 1.1574, 0.7614, 1.0279, 0.2202, 0.6559, 0.9519, 0.8675, 0.8621, 0.8374, 0.0939, -0.0186, 0.4091, 0.3786, -0.0453, -1.2599, -0.0307, -0.1293, 0.1975, 2.5086, 2.295, 2.295, 2.295, 2.295, 2.295, 2.295, 2.295, 2.295, 2.295, 2.0227, 2.0009, 1.9861, 1.6826, 1.6811, 1.6771, 1.671, 1.6594, 1.6594, 1.6496, 1.6456, 1.6456, 1.6298, 1.6298, 1.6293, 1.6293, 1.625, 1.625, 1.625, 1.6222, 1.5916, 1.4959, 1.4225, 1.4874, 0.6401, 1.3276, 1.3266, 1.3092, 0.9572, 1.2459, 0.4499, 0.8083, 0.7377, 0.6605, 0.9856, 0.8865, 0.7695, 0.1349, 0.4277, 0.4132, 2.3047, 2.3047, 2.0059, 2.0053, 1.9999, 1.9941, 1.8021, 1.7998, 1.7902, 1.6908, 1.6908, 1.6837, 1.6724, 1.6678, 1.6531, 1.6531, 1.6531, 1.652, 1.652, 1.652, 1.6362, 1.6362, 1.6362, 1.6322, 1.6322, 1.6314, 1.6314, 1.6285, 1.6163, 1.6163, 1.6029, 1.4686, 1.1164, 0.8424, 1.4352, 1.1261, 1.23, 1.3335, 1.3305, 1.1311, 1.3069, 0.7779, 0.9566, 1.2193, 1.2145, 0.7273, 0.2721, 0.4214, 1.002, 0.9173, 0.404, 0.0334, 0.4161, 0.7724, 0.7645, 0.7376, 0.3059, 2.4192, 2.4192, 2.4192, 2.4192, 2.4192, 2.4192, 2.4192, 2.4192, 2.4192, 2.4192, 2.4192, 2.4192, 2.4192, 2.4192, 2.4192, 2.4192, 2.1498, 2.1465, 2.1377, 2.1227, 2.1174, 1.8874, 1.8048, 1.8048, 1.8018, 1.8016, 1.8016, 1.7863, 1.7863, 1.7863, 1.7629, 1.6799, 1.3208, 1.3516, 1.2463, 0.8702, 0.8213, 0.5151, -0.0854, 1.0679, 1.0028, 0.5745, 2.4468, 2.1742, 2.1638, 2.162, 2.1536, 2.1285, 1.9321, 1.876, 1.8604, 1.8259, 1.8242, 1.8227, 1.8227, 1.8227, 1.8187, 1.8104, 1.8073, 1.8047, 1.8007, 1.8007, 1.7879, 1.7867, 1.7709, 1.7709, 1.766, 1.766, 1.766, 1.7631, 1.7631, 1.7508, 1.6683, 1.4968, 1.5622, 1.103, 1.3655, 0.9983, 1.3521, 0.8352, 1.0843, 1.0756, 1.0483, 1.0447, 0.9693, -0.0714, 0.5579, 0.4706, -0.2366, 0.8694, 1.0452, 0.78, 2.598, 2.3065, 2.2933, 2.2001, 1.9653, 1.9612, 1.9497, 1.9451, 1.9451, 1.9331, 1.9331, 1.9199, 1.913, 1.913, 1.9129, 1.9124, 1.9124, 1.9124, 1.9089, 1.9089, 1.908, 1.908, 1.908, 1.9051, 1.8984, 1.8927, 1.8927, 1.8927, 1.8927, 1.7253, 1.7058, 1.5975, 1.59, 1.5852, 1.5766, 1.4918, 1.4749, 1.0773, 1.3444, 1.3773, 1.1978, 1.1794, 1.0813, 1.0355, 0.8277, 0.7739, 0.7057, 0.6767, 0.571, 0.2648, -0.369, -0.1309, 0.3226, 0.7862, 2.8293, 2.3869, 2.3576, 2.3573, 2.034, 2.0325, 2.0123, 2.0102, 2.0094, 2.0002, 1.987, 1.9825, 1.9801, 1.9801, 1.9801, 1.9801, 1.9796, 1.9796, 1.9796, 1.9751, 1.9751, 1.9751, 1.9598, 1.9598, 1.8853, 1.8084, 1.7382, 1.7186, 1.717, 1.7075, 1.4505, 0.9656, 1.0867, 1.4041, 1.1433, 0.3779, 1.1133, 1.1118, 0.3598, -0.1948, 0.686, 0.4368, -0.2897, 0.088, 0.5768, 1.0142, 1.4985, 1.4436, 1.6755, -0.032, 0.8765, 1.1237, 2.4445, 2.4403, 2.1959, 2.1836, 2.1269, 2.0772, 2.0772, 2.0699, 2.0557, 2.0537, 2.0537, 2.0387, 2.0375, 2.0375, 2.0214, 2.0214, 2.0174, 2.0136, 2.0127, 2.0011, 2.0011, 1.9594, 1.8637, 1.8089, 1.786, 1.7831, 1.782, 1.7773, 1.7742, 1.7683, 1.678, 1.2952, 1.1251, 1.2843, 0.7689, 1.1502, 0.4164, 1.14, 1.1373, 1.038, 0.9322, 0.8783, 0.7844, 0.7812, 0.7082, 0.6441, -0.4458, -0.3815, 0.0064, 0.7239, 1.3015, 2.8606, 2.8606, 2.318, 2.2156, 2.2141, 2.2141, 2.1936, 2.1784, 2.168, 2.168, 2.161, 2.161, 2.161, 2.1569, 2.1569, 2.1531, 2.1405, 1.9311, 1.9303, 1.9215, 1.9129, 1.9117, 1.9064, 1.904, 1.8922, 1.8885, 1.8881, 1.8865, 1.8825, 1.8774, 1.8737, 1.7328, 1.7194, 1.2515, 1.432, 0.8001, 1.3273, 0.8986, -0.316, 0.499, 0.2432, 0.1307, 1.4545, 0.2562, 1.0461, 1.6314, 1.3159, 1.0349, 0.8537, 0.2395, 1.3132, 1.4604, -0.4339, 1.4816, 3.1194, 3.0214, 2.6149, 2.5995, 2.2654, 2.2654, 2.2481, 2.2481, 2.2455, 2.2455, 2.2414, 2.2312, 2.2312, 2.2282, 2.227, 2.227, 2.2107, 2.2102, 2.2028, 2.2028, 2.2028, 2.2012, 2.1902, 2.1902, 2.1902, 2.1902, 2.1902, 2.1902, 1.9634, 1.9454, 1.8011, 1.3814, 1.6753, 1.6613, 1.3816, 0.8145, 1.5993, 1.3911, 0.8085, 0.9914, -0.6362, 0.4841, -0.0592, -0.7228, 0.7869, 1.9345, 0.3039, 1.9278, 1.1951, -0.3781, 0.8107, 1.3636, 0.6484, -0.4907, 2.7023, 2.6567, 2.6538, 2.6442, 2.4817, 2.4531, 2.3854, 2.3028, 2.3028, 2.2906, 2.2771, 2.2621, 2.2495, 2.2495, 2.1016, 2.0122, 2.0016, 1.9911, 1.9902, 1.9817, 1.9667, 1.9645, 1.9634, 1.9627, 1.9578, 1.9535, 1.9309, 1.8153, 1.7996, 1.7676, 1.4581, 1.5479, 1.547, 0.8184, 1.2729, 1.0449, 1.0192, 0.7621, 0.2357, -1.1666, 0.2649, -0.6499, 0.3612, 0.1801, 0.2902, 1.5784, 0.771, 0.848, 1.0496, 2.4481, 2.3669, 2.3669, 2.3463, 2.3463, 2.3299, 2.3206, 2.3135, 2.3135, 2.3135, 2.3135, 2.313, 2.3085, 2.3055, 2.3055, 2.3055, 2.2995, 2.2929, 2.2929, 2.0674, 2.026, 2.0184, 2.0141, 2.0128, 2.008, 1.9927, 1.9923, 1.9869, 1.9777, 1.8719, 1.8611, 1.454, 1.5616, 0.679, 0.8904, -0.2112, 0.3811, 0.0445, 0.27, 0.4021, 1.7781, 1.8119, 1.5585, 0.9601, 1.073, 0.221, 1.2933, 0.3311, 1.6193, 0.7584, 2.6954, 2.3018, 2.3009, 2.3009, 2.2979, 2.2979, 2.2979, 2.2852, 2.2852, 2.0643, 2.0403, 2.0372, 2.0228, 2.0217, 2.0213, 2.0156, 2.0111, 2.0089, 2.0073, 1.9983, 1.9923, 1.9894, 1.9846, 1.9807, 1.9625, 1.8544, 1.8527, 1.8471, 1.846, 1.7916, 1.5058, 1.4765, 0.9, 0.9478, 1.0889, 1.0584, 1.0441, 0.8773, -0.1828, 0.6491, 1.3235, 1.0917, 0.8482, 0.4722, 1.4606, 1.4273, 0.906, 1.5692, 1.5825, 0.7457, 2.4803, 2.4803, 2.4735, 2.4735, 2.46, 2.4588, 2.4494, 2.4494, 2.4494, 2.4422, 2.4422, 2.438, 2.4371, 2.4213, 2.4213, 2.2373, 2.1711, 2.157, 2.157, 2.1509, 2.1448, 2.1444, 2.1417, 2.1331, 2.1263, 2.1251, 2.0845, 1.9958, 1.9877, 1.9696, 1.7579, 1.7013, 1.5749, 1.1703, 1.0201, 0.6771, -0.454, 1.3241, 0.4445, 0.8188, 0.8573, 1.0023, 0.9336, 1.7438, 0.8162, 1.4097, 1.4145, 0.546, -0.1746, 1.8604, 1.9219, 1.916, 3.1846, 3.0727, 2.8863, 2.6505, 2.5213, 2.4865, 2.4823, 2.4729, 2.4652, 2.4616, 2.4449, 2.4449, 2.4143, 2.2719, 2.2084, 2.1933, 2.1879, 2.1818, 2.1642, 2.1504, 2.1483, 2.1476, 2.1388, 1.9864, 1.9857, 1.9618, 1.9529, 1.9529, 1.9448, 1.9278, 1.8096, 1.7297, 0.7882, 0.522, -0.517, -0.4836, 0.9528, 1.6028, 0.8875, 0.8848, 1.5968, 1.1163, 0.5287, 0.85, 0.1168, 1.1923, 1.4255, 0.9333, 3.2136, 3.1071, 2.6338, 2.5388, 2.5221, 2.5221, 2.5199, 2.5065, 2.4958, 2.4845, 2.4835, 2.4835, 2.482, 2.4806, 2.2172, 2.2168, 2.2095, 2.1992, 2.1536, 2.0032, 1.9938, 1.9833, 1.935, 1.8937, 1.7713, 1.7516, 1.6143, 1.6119, 1.5843, 1.509, 1.2756, 0.9743, 1.0651, 1.0484, 0.8034, 0.5394, 0.591, 0.9508, 0.6972, -0.4995, 0.1366, 1.128, 1.3393, 0.4405, 1.4489, 1.044, 1.3636, 0.2923, 2.5606, 2.5606, 2.5469, 2.5397, 2.5397, 2.5391, 2.5391, 2.5346, 2.5346, 2.5346, 2.2848, 2.2818, 2.2694, 2.2661, 2.2442, 2.2367, 2.2285, 2.2258, 2.0639, 2.0532, 2.0203, 2.0035, 1.9993, 1.9924, 1.9778, 1.8623, 1.8172, 1.8147, 1.6718, 1.6716, 1.6352, 0.9331, 0.9861, 0.6162, 0.855, 0.0376, 0.4843, 0.6098, 1.5055, 1.438, 1.3765, 1.5429, 1.0001, 0.3416, 1.0812, 0.7887, 0.7829, 0.7771, 0.7694, 0.7694, 0.7662, 0.7662, 0.7641, 0.7625, 0.7625, 0.7554, 0.7554, 0.7506, 0.7491, 0.7488, 0.7488, 0.7481, 0.7479, 0.7462, 0.7462, 0.7438, 0.7421, 0.7417, 0.74, 0.74, 0.7399, 0.7385, 0.7385, 0.7385, 0.7345, -0.2889, -1.1954, 0.1806, 0.708, 0.2144, -0.039, -0.6374, -0.5245, 0.4285, 0.4209, -1.3765, -0.3042, 0.3952, -1.3467, -1.2665, 0.716, 0.0218, -2.2554, -0.705, -0.4055, -0.8391, -1.2099, -1.2065, 0.7155, 0.0185, -2.222, 0.716, -0.4012]}, \"token.table\": {\"Topic\": [5, 9, 11, 16, 6, 11, 6, 1, 6, 11, 15, 3, 7, 3, 7, 13, 6, 19, 1, 5, 14, 2, 4, 10, 12, 3, 4, 8, 14, 10, 11, 15, 13, 14, 16, 7, 17, 7, 16, 1, 2, 3, 4, 7, 9, 11, 12, 13, 14, 15, 16, 17, 19, 1, 3, 6, 15, 17, 1, 3, 6, 1, 7, 10, 14, 13, 19, 17, 3, 5, 9, 10, 18, 4, 6, 1, 3, 5, 8, 9, 12, 16, 17, 3, 9, 2, 14, 3, 10, 14, 17, 1, 5, 10, 12, 10, 12, 10, 11, 16, 6, 7, 4, 13, 1, 7, 14, 1, 4, 9, 17, 18, 1, 7, 10, 13, 7, 9, 11, 1, 3, 10, 14, 17, 14, 16, 1, 6, 10, 19, 6, 1, 2, 5, 6, 8, 12, 15, 16, 1, 2, 3, 4, 5, 9, 13, 14, 3, 19, 1, 4, 8, 10, 14, 2, 12, 14, 6, 14, 3, 10, 11, 15, 1, 9, 11, 4, 16, 1, 2, 3, 6, 11, 12, 18, 9, 10, 8, 12, 13, 1, 12, 4, 18, 9, 11, 1, 7, 4, 8, 12, 14, 5, 11, 15, 14, 16, 1, 3, 4, 1, 2, 3, 4, 5, 6, 7, 10, 11, 12, 15, 17, 18, 19, 11, 1, 2, 9, 11, 1, 4, 15, 1, 5, 1, 10, 10, 17, 6, 16, 4, 10, 1, 2, 3, 10, 13, 5, 8, 5, 6, 3, 5, 11, 15, 3, 6, 8, 19, 7, 8, 2, 15, 3, 8, 5, 6, 8, 19, 6, 14, 7, 14, 4, 10, 11, 12, 17, 1, 2, 4, 5, 7, 8, 9, 10, 11, 14, 16, 17, 18, 19, 1, 2, 4, 10, 13, 19, 1, 2, 3, 4, 6, 7, 10, 11, 16, 18, 2, 3, 9, 19, 3, 4, 2, 15, 3, 15, 4, 11, 5, 12, 1, 2, 3, 5, 8, 9, 11, 13, 17, 3, 9, 6, 7, 1, 17, 1, 2, 9, 13, 6, 10, 1, 3, 4, 5, 7, 12, 1, 3, 4, 6, 8, 17, 18, 2, 3, 17, 1, 10, 1, 8, 19, 2, 10, 16, 3, 5, 8, 10, 11, 19, 2, 7, 13, 4, 8, 10, 12, 19, 1, 16, 17, 6, 1, 4, 16, 17, 1, 11, 2, 3, 4, 5, 6, 7, 8, 9, 10, 11, 13, 14, 15, 16, 18, 2, 9, 1, 2, 5, 6, 7, 8, 10, 14, 18, 1, 3, 5, 6, 7, 12, 14, 4, 8, 16, 7, 16, 1, 8, 9, 10, 11, 12, 15, 19, 17, 18, 3, 4, 15, 8, 12, 2, 11, 13, 2, 9, 13, 1, 1, 9, 11, 17, 5, 12, 15, 3, 4, 6, 8, 16, 8, 17, 1, 17, 18, 9, 13, 2, 18, 1, 2, 2, 10, 1, 7, 11, 16, 18, 1, 15, 1, 8, 15, 3, 8, 11, 5, 6, 3, 18, 1, 3, 11, 3, 5, 1, 6, 14, 1, 2, 3, 4, 6, 15, 2, 1, 5, 2, 3, 16, 1, 6, 7, 9, 18, 19, 2, 3, 5, 8, 14, 16, 1, 14, 8, 16, 5, 6, 1, 2, 3, 4, 6, 7, 10, 13, 14, 1, 4, 5, 16, 1, 7, 13, 1, 3, 6, 9, 11, 13, 14, 15, 16, 17, 4, 6, 2, 3, 5, 6, 14, 1, 12, 1, 11, 17, 2, 6, 8, 9, 10, 3, 10, 13, 14, 1, 2, 3, 4, 5, 7, 8, 12, 19, 6, 2, 7, 19, 6, 5, 7, 14, 3, 7, 8, 19, 10, 18, 12, 2, 3, 5, 6, 7, 8, 10, 12, 14, 17, 12, 13, 1, 2, 3, 5, 16, 17, 1, 2, 3, 4, 5, 6, 8, 9, 10, 12, 13, 14, 15, 17, 18, 19, 1, 8, 5, 19, 8, 9, 9, 10, 12, 2, 5, 16, 4, 7, 8, 9, 10, 11, 17, 1, 4, 3, 4, 5, 6, 7, 8, 9, 14, 6, 8, 16, 4, 7, 11, 7, 10, 2, 12, 1, 15, 6, 1, 16, 4, 12, 18, 6, 9, 1, 2, 3, 5, 11, 14, 15, 2, 3, 6, 1, 2, 3, 4, 5, 6, 7, 9, 10, 11, 12, 13, 19, 3, 8, 2, 6, 8, 9, 14, 15, 19, 1, 2, 3, 4, 5, 7, 8, 15, 16, 1, 1, 2, 3, 10, 17, 10, 11, 18, 4, 11, 8, 10, 11, 17, 9, 11, 17, 1, 2, 3, 5, 7, 8, 10, 15, 16, 17, 18, 1, 17, 2, 3, 4, 5, 8, 9, 11, 13, 14, 15, 17, 1, 3, 4, 5, 8, 9, 10, 12, 13, 14, 19, 1, 6, 7, 11, 18, 1, 2, 3, 4, 12, 16, 18, 3, 7, 1, 2, 3, 4, 5, 9, 10, 12, 16, 18, 3, 5, 5, 14, 2, 3, 13, 14, 15, 1, 2, 14, 1, 2, 3, 4, 5, 6, 7, 8, 9, 10, 11, 12, 14, 17, 19, 1, 2, 3, 5, 6, 13, 15, 16, 18, 10, 13, 15, 1, 2, 4, 5, 7, 18, 1, 2, 4, 5, 7, 8, 10, 12, 13, 3, 15, 2, 4, 17, 1, 12, 1, 2, 3, 4, 5, 6, 9, 10, 11, 12, 13, 14, 15, 16, 18, 19, 12, 13, 2, 1, 3, 5, 6, 9, 13, 6, 9, 18, 3, 4, 6, 9, 6, 10, 11, 18, 3, 4, 6, 7, 10, 12, 15, 16, 6, 10, 5, 8, 6, 5, 6, 6, 2, 12, 14, 1, 2, 3, 7, 12, 18, 4, 6, 12, 1, 13, 2, 7, 2, 12, 6, 7, 11, 12, 6, 14, 6, 11, 1, 3, 7, 8, 13, 15, 4, 1, 2, 7, 11, 14, 15, 2, 18, 7, 12, 9, 16, 3, 19, 1, 3, 14, 16, 4, 1, 2, 8, 18, 1, 2, 3, 4, 7, 8, 9, 10, 12, 15, 16, 6, 8, 2, 15, 5, 19, 6, 2, 3, 4, 5, 7, 9, 10, 11, 12, 17, 18, 4, 5, 12, 13, 17, 4, 17, 8, 9, 11, 15, 2, 12, 16, 2, 6, 8, 2, 3, 4, 5, 6, 7, 9, 10, 15, 19, 5, 8, 1, 5, 6, 14, 1, 9, 1, 6, 1, 6, 3, 8, 1, 4, 5, 14, 6, 11, 1, 4, 6, 10, 5, 10, 19, 4, 2, 5, 1, 12, 6, 16, 5, 6, 1, 3, 5, 7, 8, 10, 15, 19, 5, 7, 12, 17, 3, 4, 3, 9, 3, 19, 1, 2, 5, 8, 9, 1, 16, 6, 8, 6, 3, 16, 6, 1, 5, 7, 1, 5, 7, 11, 15, 4, 5, 8, 3, 6, 14, 17, 15, 17, 11, 14, 17, 2, 4, 5, 18, 1, 4, 7, 8, 4, 11, 1, 4, 3, 4, 5, 18, 2, 8, 10, 15, 19, 2, 13, 7, 14, 8, 9, 13, 4, 7, 13, 1, 12, 1, 5, 9, 1, 4, 9, 14, 15, 4, 5, 10, 2, 3, 5, 13, 18, 19, 1, 5, 7, 9, 5, 9, 7, 11, 1, 2, 1, 2, 3, 5, 7, 8, 9, 11, 12, 13, 14, 19, 6, 14, 2, 8, 13, 16, 7, 18, 19, 1, 13, 7, 18, 12, 18, 10, 19, 6, 12, 16, 11, 12, 3, 10, 13, 19, 1, 8, 7, 16, 2, 4, 6, 12, 16, 2, 13, 1, 9, 13, 1, 16, 1, 2, 4, 8, 13, 17, 1, 3, 8, 9, 13, 18, 19, 3, 5, 7, 8, 13, 5, 9, 1, 2, 4, 7, 8, 15, 1, 3, 8, 9, 10, 19, 2, 7, 15, 3, 4, 17, 2, 3, 10, 2, 13, 5, 2, 14, 4, 1, 8, 3, 4, 5, 8, 10, 11, 16, 17, 2, 7, 1, 10, 12, 1, 2, 11, 16, 18, 4, 8, 12, 16, 6, 11, 15, 1, 8, 19, 1, 12, 3, 7, 2, 4, 6, 12, 16, 19, 4, 6, 19, 1, 5, 10, 17, 4, 15, 5, 6, 14, 1, 3, 5, 11, 14, 15, 3, 18, 19, 6, 12, 1, 2, 5, 8, 16, 1, 4, 9, 13, 19, 6, 9, 1, 14, 1, 4, 17, 11, 13, 16, 19, 2, 11, 3, 14, 6, 16, 17, 18, 3, 9, 8, 10, 2, 8, 4, 9, 15, 3, 4, 17, 11, 15, 19, 1, 1, 8, 4, 6, 3, 4, 1, 3, 8, 13, 17, 19, 6, 9, 2, 3, 4, 5, 7, 8, 9, 10, 14, 18, 5, 8, 16, 1, 3, 8, 10, 16, 1, 2, 7, 6, 12, 1, 3, 6, 7, 9, 10, 14, 19, 2, 8, 10, 13, 15, 16, 4, 5, 6, 13, 15, 4, 5, 1, 2, 5, 9, 10, 11, 13, 18, 19, 2, 3, 4, 8, 11, 12, 14, 15, 1, 4, 5, 3, 5, 9, 1, 3, 5, 11, 16, 8, 12, 15, 19, 8, 14, 2, 3, 15, 3, 8, 15, 9, 12, 1, 4, 11, 14, 2, 14, 1, 3, 11, 13, 15, 5, 13, 18, 4, 5, 4, 10, 15, 2, 4, 5, 6, 14, 15, 11, 16, 2, 3, 13, 15, 16, 7, 9, 3, 4, 1, 3, 12, 6, 7, 11, 1, 3, 5, 8, 12, 19, 2, 3, 5, 7, 10, 13, 16, 1, 2, 3, 4, 5, 8, 13, 17, 1, 13, 2, 11, 15, 8, 1, 2, 3, 4, 7, 8, 9, 10, 13, 14, 17, 1, 3, 4, 5, 6, 7, 8, 9, 10, 11, 13, 16, 17, 18, 1, 4, 8, 9, 12, 16, 10, 19, 5, 17, 8, 13, 17, 1, 2, 3, 9, 11, 16, 2, 12, 3, 4, 8, 9, 14, 15, 1, 4, 5, 8, 14, 16, 2, 6, 3, 18, 2, 8, 14, 1, 2, 3, 13, 18, 10, 13, 10, 17, 4, 6, 7, 11, 12, 15, 17, 16, 18, 5, 16, 17, 19, 3, 11, 15, 2, 9, 14, 19, 18, 1, 2, 6, 8, 15, 16, 17, 18, 19, 1, 4, 6, 7, 12, 13, 14, 17, 7, 8, 10, 8, 10, 3, 13, 11, 17, 1, 2, 3, 5, 7, 10, 11, 19, 8, 12, 7, 19, 1, 2, 3, 5, 6, 7, 8, 9, 10, 12, 15, 17, 18, 6, 9], \"Freq\": [0.4036930957155692, 0.4036930957155692, 0.43138311786907607, 0.43138311786907607, 0.4090888784800087, 0.4090888784800087, 0.7942678217143714, 0.39625336780403025, 0.19812668390201513, 0.19812668390201513, 0.19812668390201513, 0.39789732213136075, 0.39789732213136075, 0.30323676474495237, 0.30323676474495237, 0.30323676474495237, 0.41944742302800186, 0.41944742302800186, 0.2986563737138244, 0.2986563737138244, 0.2986563737138244, 0.19740518815141206, 0.3948103763028241, 0.2961077822271181, 0.09870259407570603, 0.3014791826455596, 0.1507395913227798, 0.3014791826455596, 0.3014791826455596, 0.31636942825085285, 0.31636942825085285, 0.31636942825085285, 0.25866575302736616, 0.25866575302736616, 0.25866575302736616, 0.41942961549883256, 0.41942961549883256, 0.4211221087362359, 0.4211221087362359, 0.060890608158827735, 0.12178121631765547, 0.12178121631765547, 0.12178121631765547, 0.12178121631765547, 0.060890608158827735, 0.060890608158827735, 0.060890608158827735, 0.060890608158827735, 0.060890608158827735, 0.12178121631765547, 0.060890608158827735, 0.060890608158827735, 0.060890608158827735, 0.30075517372837635, 0.15037758686418817, 0.15037758686418817, 0.30075517372837635, 0.15037758686418817, 0.7635198830595714, 0.3952147107532589, 0.3952147107532589, 0.24105998068832402, 0.24105998068832402, 0.24105998068832402, 0.24105998068832402, 0.6482247542283839, 0.32411237711419194, 0.8754581305725906, 0.1742407339515967, 0.1742407339515967, 0.3484814679031934, 0.1742407339515967, 0.1742407339515967, 0.3955681328696377, 0.3955681328696377, 0.1644952109442892, 0.0822476054721446, 0.0822476054721446, 0.0822476054721446, 0.0822476054721446, 0.0822476054721446, 0.0822476054721446, 0.3289904218885784, 0.40191433119059794, 0.40191433119059794, 0.4084945952212414, 0.4084945952212414, 0.24935855610669883, 0.24935855610669883, 0.24935855610669883, 0.24935855610669883, 0.29077088104125093, 0.5815417620825019, 0.4183788706253178, 0.4183788706253178, 0.31450925164472526, 0.6290185032894505, 0.3188223174805151, 0.3188223174805151, 0.3188223174805151, 0.39984981806887615, 0.39984981806887615, 0.30966737861825777, 0.6193347572365155, 0.580597680073233, 0.19353256002441102, 0.19353256002441102, 0.20436240198399996, 0.20436240198399996, 0.20436240198399996, 0.20436240198399996, 0.20436240198399996, 0.17471217053290802, 0.17471217053290802, 0.17471217053290802, 0.34942434106581605, 0.6055041942688161, 0.20183473142293867, 0.20183473142293867, 0.7635198888990897, 0.24935873257215938, 0.24935873257215938, 0.24935873257215938, 0.24935873257215938, 0.43436244581393724, 0.43436244581393724, 0.2426610608545006, 0.2426610608545006, 0.2426610608545006, 0.2426610608545006, 0.7942678247062736, 0.18499544793551595, 0.18499544793551595, 0.09249772396775797, 0.09249772396775797, 0.09249772396775797, 0.18499544793551595, 0.18499544793551595, 0.09249772396775797, 0.21276512160226693, 0.10638256080113347, 0.10638256080113347, 0.21276512160226693, 0.10638256080113347, 0.10638256080113347, 0.10638256080113347, 0.10638256080113347, 0.41729938041875403, 0.41729938041875403, 0.1190979074774565, 0.3572937224323695, 0.1190979074774565, 0.238195814954913, 0.1190979074774565, 0.3088932977063203, 0.3088932977063203, 0.3088932977063203, 0.606724101513566, 0.303362050756783, 0.24746776287632577, 0.24746776287632577, 0.24746776287632577, 0.24746776287632577, 0.39580560620705935, 0.39580560620705935, 0.8435452108155468, 0.4163754728575571, 0.4163754728575571, 0.13266770005241704, 0.13266770005241704, 0.2653354001048341, 0.13266770005241704, 0.13266770005241704, 0.13266770005241704, 0.13266770005241704, 0.4121262357810911, 0.4121262357810911, 0.31400153332523717, 0.31400153332523717, 0.31400153332523717, 0.40156965056808924, 0.40156965056808924, 0.41698972311386673, 0.41698972311386673, 0.41627118068556607, 0.41627118068556607, 0.3919087614392029, 0.3919087614392029, 0.40183035807699863, 0.40183035807699863, 0.42551230826125236, 0.42551230826125236, 0.31137641198088817, 0.31137641198088817, 0.31137641198088817, 0.43436339224674636, 0.43436339224674636, 0.45690077748560565, 0.22845038874280282, 0.22845038874280282, 0.19925509090199905, 0.11955305454119944, 0.07970203636079962, 0.03985101818039981, 0.11955305454119944, 0.03985101818039981, 0.03985101818039981, 0.07970203636079962, 0.07970203636079962, 0.03985101818039981, 0.03985101818039981, 0.07970203636079962, 0.03985101818039981, 0.07970203636079962, 0.8435452108155468, 0.33256505718495727, 0.33256505718495727, 0.16628252859247863, 0.16628252859247863, 0.299001348106519, 0.299001348106519, 0.299001348106519, 0.38910800163622505, 0.38910800163622505, 0.39693637297748446, 0.39693637297748446, 0.42519323538015646, 0.42519323538015646, 0.4181184617351697, 0.4181184617351697, 0.4034480096477542, 0.4034480096477542, 0.19719396784168355, 0.19719396784168355, 0.19719396784168355, 0.19719396784168355, 0.19719396784168355, 0.40324101758596204, 0.40324101758596204, 0.3969345420065096, 0.3969345420065096, 0.5126588353942132, 0.17088627846473772, 0.17088627846473772, 0.17088627846473772, 0.24434641775117577, 0.24434641775117577, 0.24434641775117577, 0.24434641775117577, 0.4062497210645274, 0.4062497210645274, 0.41060359708930105, 0.41060359708930105, 0.4014658600545691, 0.4014658600545691, 0.20366518558501234, 0.20366518558501234, 0.4073303711700247, 0.20366518558501234, 0.41176806972985647, 0.41176806972985647, 0.6130687486530806, 0.3065343743265403, 0.35142344672428316, 0.17571172336214158, 0.17571172336214158, 0.17571172336214158, 0.17571172336214158, 0.24430073482010675, 0.030537591852513344, 0.09161277555754004, 0.12215036741005338, 0.18322555111508007, 0.030537591852513344, 0.030537591852513344, 0.030537591852513344, 0.030537591852513344, 0.06107518370502669, 0.030537591852513344, 0.06107518370502669, 0.06107518370502669, 0.06107518370502669, 0.4656263428954988, 0.15520878096516627, 0.07760439048258314, 0.15520878096516627, 0.15520878096516627, 0.07760439048258314, 0.11976466589023177, 0.17964699883534765, 0.11976466589023177, 0.17964699883534765, 0.059882332945115885, 0.059882332945115885, 0.059882332945115885, 0.059882332945115885, 0.059882332945115885, 0.17964699883534765, 0.13106709780140913, 0.5242683912056365, 0.13106709780140913, 0.13106709780140913, 0.3936570498507247, 0.3936570498507247, 0.4106028614210105, 0.4106028614210105, 0.41181774121131154, 0.41181774121131154, 0.40742006847753204, 0.40742006847753204, 0.4096911304814507, 0.4096911304814507, 0.24714891253307436, 0.12357445626653718, 0.06178722813326859, 0.24714891253307436, 0.12357445626653718, 0.06178722813326859, 0.06178722813326859, 0.12357445626653718, 0.06178722813326859, 0.3017890463107335, 0.603578092621467, 0.3998497719863212, 0.3998497719863212, 0.4078432575511957, 0.4078432575511957, 0.3331030036934553, 0.3331030036934553, 0.16655150184672765, 0.16655150184672765, 0.5994377946231352, 0.2997188973115676, 0.1462610390511939, 0.1462610390511939, 0.1462610390511939, 0.2925220781023878, 0.1462610390511939, 0.1462610390511939, 0.7635198780117234, 0.17465913256693588, 0.17465913256693588, 0.17465913256693588, 0.17465913256693588, 0.17465913256693588, 0.17465913256693588, 0.3029595440874243, 0.3029595440874243, 0.3029595440874243, 0.39693635726634635, 0.39693635726634635, 0.3064516961010615, 0.3064516961010615, 0.3064516961010615, 0.24703613946453257, 0.49407227892906513, 0.24703613946453257, 0.17523782717536865, 0.17523782717536865, 0.17523782717536865, 0.17523782717536865, 0.17523782717536865, 0.17523782717536865, 0.3025776515766737, 0.3025776515766737, 0.3025776515766737, 0.40183043543412694, 0.40183043543412694, 0.3200959995258733, 0.3200959995258733, 0.3200959995258733, 0.48638691526622746, 0.24319345763311373, 0.24319345763311373, 0.7942678253185373, 0.34896455338073284, 0.17448227669036642, 0.34896455338073284, 0.17448227669036642, 0.40078056607138757, 0.40078056607138757, 0.1016042894814965, 0.1016042894814965, 0.05080214474074825, 0.05080214474074825, 0.1016042894814965, 0.05080214474074825, 0.05080214474074825, 0.05080214474074825, 0.15240643422224473, 0.05080214474074825, 0.05080214474074825, 0.05080214474074825, 0.1016042894814965, 0.05080214474074825, 0.1016042894814965, 0.5912634575937893, 0.29563172879689464, 0.0698085636000971, 0.0698085636000971, 0.0698085636000971, 0.3490428180004855, 0.0698085636000971, 0.1396171272001942, 0.1396171272001942, 0.0698085636000971, 0.0698085636000971, 0.1484499191357653, 0.1484499191357653, 0.1484499191357653, 0.1484499191357653, 0.1484499191357653, 0.1484499191357653, 0.1484499191357653, 0.3095904071078111, 0.3095904071078111, 0.3095904071078111, 0.4211222449363253, 0.4211222449363253, 0.09524420605972318, 0.09524420605972318, 0.28573261817916956, 0.09524420605972318, 0.09524420605972318, 0.09524420605972318, 0.19048841211944637, 0.09524420605972318, 0.4402613350131517, 0.4402613350131517, 0.30247433180371536, 0.30247433180371536, 0.30247433180371536, 0.4166393279326183, 0.4166393279326183, 0.3078387214137175, 0.3078387214137175, 0.3078387214137175, 0.4799468951411992, 0.2399734475705996, 0.2399734475705996, 0.8479363840134281, 0.15270138305753927, 0.4581041491726179, 0.15270138305753927, 0.15270138305753927, 0.31185228305880464, 0.31185228305880464, 0.31185228305880464, 0.14960599085865556, 0.2992119817173111, 0.14960599085865556, 0.2992119817173111, 0.14960599085865556, 0.423396933025249, 0.423396933025249, 0.3134947217199619, 0.3134947217199619, 0.3134947217199619, 0.6214619837388506, 0.3107309918694253, 0.4153540070115471, 0.4153540070115471, 0.6779275522263888, 0.22597585074212959, 0.4019165855292637, 0.4019165855292637, 0.1572076717315204, 0.1572076717315204, 0.3144153434630408, 0.3144153434630408, 0.1572076717315204, 0.4054066387504182, 0.4054066387504182, 0.4746508246083735, 0.23732541230418674, 0.23732541230418674, 0.2451336990123074, 0.2451336990123074, 0.4902673980246148, 0.29523412046484304, 0.5904682409296861, 0.4165971864857038, 0.4165971864857038, 0.7530144920474433, 0.12550241534124057, 0.12550241534124057, 0.2940542877469068, 0.5881085754938136, 0.2987729350207015, 0.2987729350207015, 0.2987729350207015, 0.0963390704345519, 0.2890172113036557, 0.1926781408691038, 0.1926781408691038, 0.1926781408691038, 0.0963390704345519, 0.7821754550754056, 0.5733042378490621, 0.2866521189245311, 0.8710110774081341, 0.6090026747186592, 0.3045013373593296, 0.487808686823216, 0.0975617373646432, 0.1951234747292864, 0.0975617373646432, 0.0975617373646432, 0.0975617373646432, 0.1356144769840593, 0.1356144769840593, 0.1356144769840593, 0.2712289539681186, 0.2712289539681186, 0.1356144769840593, 0.4033514615257786, 0.4033514615257786, 0.4251214899755541, 0.4251214899755541, 0.39693496444694787, 0.39693496444694787, 0.3663681447174161, 0.0523383063882023, 0.0523383063882023, 0.2093532255528092, 0.0523383063882023, 0.0523383063882023, 0.1046766127764046, 0.0523383063882023, 0.1046766127764046, 0.14975120352864543, 0.29950240705729086, 0.29950240705729086, 0.29950240705729086, 0.4700657979477296, 0.2350328989738648, 0.2350328989738648, 0.3402819467929437, 0.05671365779882395, 0.17014097339647186, 0.1134273155976479, 0.1134273155976479, 0.05671365779882395, 0.05671365779882395, 0.05671365779882395, 0.05671365779882395, 0.05671365779882395, 0.5872220859760057, 0.29361104298800283, 0.782175520077094, 0.3950103511351675, 0.3950103511351675, 0.4117672843520352, 0.4117672843520352, 0.40156965252429583, 0.40156965252429583, 0.30805485883883077, 0.30805485883883077, 0.30805485883883077, 0.17128237933272863, 0.17128237933272863, 0.34256475866545727, 0.17128237933272863, 0.17128237933272863, 0.20566661741631703, 0.41133323483263406, 0.20566661741631703, 0.20566661741631703, 0.06925178485940381, 0.27700713943761524, 0.06925178485940381, 0.06925178485940381, 0.20775535457821143, 0.06925178485940381, 0.06925178485940381, 0.13850356971880762, 0.06925178485940381, 0.7942678230967088, 0.30728754105703876, 0.30728754105703876, 0.30728754105703876, 0.7942678255945326, 0.3048225112146954, 0.3048225112146954, 0.3048225112146954, 0.24536923170633804, 0.24536923170633804, 0.24536923170633804, 0.24536923170633804, 0.6334724534472355, 0.31673622672361773, 0.8458050849798852, 0.17186400571626478, 0.08593200285813239, 0.08593200285813239, 0.08593200285813239, 0.08593200285813239, 0.17186400571626478, 0.17186400571626478, 0.08593200285813239, 0.08593200285813239, 0.08593200285813239, 0.42439369069584715, 0.42439369069584715, 0.21604611917736924, 0.21604611917736924, 0.21604611917736924, 0.10802305958868462, 0.21604611917736924, 0.10802305958868462, 0.10547786776559624, 0.08438229421247699, 0.08438229421247699, 0.10547786776559624, 0.08438229421247699, 0.021095573553119248, 0.042191147106238495, 0.06328672065935774, 0.06328672065935774, 0.08438229421247699, 0.021095573553119248, 0.06328672065935774, 0.08438229421247699, 0.021095573553119248, 0.021095573553119248, 0.042191147106238495, 0.39537068563683936, 0.39537068563683936, 0.4192172582154933, 0.4192172582154933, 0.6125867032167546, 0.3062933516083773, 0.31096523116183616, 0.31096523116183616, 0.31096523116183616, 0.3048570799720053, 0.3048570799720053, 0.3048570799720053, 0.33202564948010693, 0.11067521649336899, 0.11067521649336899, 0.11067521649336899, 0.11067521649336899, 0.11067521649336899, 0.22135043298673798, 0.289306527416161, 0.578613054832322, 0.09943056760095699, 0.09943056760095699, 0.09943056760095699, 0.19886113520191398, 0.19886113520191398, 0.09943056760095699, 0.09943056760095699, 0.19886113520191398, 0.31055504292997815, 0.31055504292997815, 0.31055504292997815, 0.24061698503829068, 0.48123397007658136, 0.24061698503829068, 0.6056307664925211, 0.30281538324626056, 0.40666749720638967, 0.40666749720638967, 0.40540630825413687, 0.40540630825413687, 0.7942678239849681, 0.7010235188928574, 0.23367450629761913, 0.7879990729143247, 0.43295937612474167, 0.43295937612474167, 0.40390669815002067, 0.40390669815002067, 0.13415511686363776, 0.13415511686363776, 0.13415511686363776, 0.13415511686363776, 0.13415511686363776, 0.2683102337272755, 0.13415511686363776, 0.23335272611855556, 0.23335272611855556, 0.46670545223711113, 0.3576220349744782, 0.11003754922291638, 0.08252816191718729, 0.027509387305729095, 0.08252816191718729, 0.05501877461145819, 0.05501877461145819, 0.08252816191718729, 0.027509387305729095, 0.05501877461145819, 0.027509387305729095, 0.05501877461145819, 0.05501877461145819, 0.4014660061944194, 0.4014660061944194, 0.08695374062555306, 0.3478149625022122, 0.08695374062555306, 0.1739074812511061, 0.08695374062555306, 0.08695374062555306, 0.1739074812511061, 0.12131089405038416, 0.04043696468346139, 0.08087392936692278, 0.08087392936692278, 0.16174785873384556, 0.4043696468346139, 0.04043696468346139, 0.08087392936692278, 0.04043696468346139, 0.7635201115936402, 0.11655437634370394, 0.46621750537481577, 0.23310875268740788, 0.11655437634370394, 0.11655437634370394, 0.319182381686362, 0.319182381686362, 0.319182381686362, 0.4074199108687104, 0.4074199108687104, 0.2516026582230792, 0.2516026582230792, 0.2516026582230792, 0.2516026582230792, 0.3171256610088713, 0.3171256610088713, 0.3171256610088713, 0.30012995210568283, 0.06002599042113657, 0.06002599042113657, 0.06002599042113657, 0.06002599042113657, 0.12005198084227314, 0.12005198084227314, 0.12005198084227314, 0.12005198084227314, 0.06002599042113657, 0.06002599042113657, 0.4078433308430684, 0.4078433308430684, 0.18003724278664132, 0.18003724278664132, 0.12002482852442754, 0.12002482852442754, 0.06001241426221377, 0.06001241426221377, 0.06001241426221377, 0.06001241426221377, 0.12002482852442754, 0.06001241426221377, 0.06001241426221377, 0.1806563751828806, 0.06021879172762686, 0.06021879172762686, 0.06021879172762686, 0.1806563751828806, 0.1806563751828806, 0.12043758345525372, 0.06021879172762686, 0.12043758345525372, 0.06021879172762686, 0.06021879172762686, 0.1835548578000149, 0.27533228670002236, 0.27533228670002236, 0.1835548578000149, 0.09177742890000745, 0.13593942047776747, 0.13593942047776747, 0.13593942047776747, 0.13593942047776747, 0.13593942047776747, 0.27187884095553494, 0.13593942047776747, 0.39789720735795436, 0.39789720735795436, 0.10331207137788977, 0.10331207137788977, 0.2582801784447244, 0.15496810706683464, 0.05165603568894488, 0.05165603568894488, 0.05165603568894488, 0.10331207137788977, 0.10331207137788977, 0.10331207137788977, 0.3950104946388976, 0.3950104946388976, 0.4115454511874967, 0.4115454511874967, 0.20498518829919463, 0.20498518829919463, 0.20498518829919463, 0.20498518829919463, 0.20498518829919463, 0.29704642260274916, 0.29704642260274916, 0.29704642260274916, 0.23992377043644533, 0.08724500743143467, 0.130867511147152, 0.021811251857858666, 0.021811251857858666, 0.065433755573576, 0.065433755573576, 0.021811251857858666, 0.130867511147152, 0.021811251857858666, 0.08724500743143467, 0.021811251857858666, 0.04362250371571733, 0.021811251857858666, 0.065433755573576, 0.18833070510899447, 0.18833070510899447, 0.1255538034059963, 0.06277690170299816, 0.1255538034059963, 0.1255538034059963, 0.1255538034059963, 0.06277690170299816, 0.06277690170299816, 0.3173442679997775, 0.3173442679997775, 0.3173442679997775, 0.14702529806877643, 0.14702529806877643, 0.29405059613755286, 0.14702529806877643, 0.14702529806877643, 0.14702529806877643, 0.08502740721046911, 0.08502740721046911, 0.08502740721046911, 0.17005481442093823, 0.08502740721046911, 0.2550822216314073, 0.08502740721046911, 0.08502740721046911, 0.08502740721046911, 0.41181774988454994, 0.41181774988454994, 0.30316708253326075, 0.30316708253326075, 0.30316708253326075, 0.4015699612608444, 0.4015699612608444, 0.331200962865596, 0.023657211633256858, 0.023657211633256858, 0.13011466398291271, 0.165600481432798, 0.023657211633256858, 0.035485817449885285, 0.023657211633256858, 0.023657211633256858, 0.023657211633256858, 0.011828605816628429, 0.023657211633256858, 0.023657211633256858, 0.023657211633256858, 0.07097163489977057, 0.023657211633256858, 0.4243936928417126, 0.4243936928417126, 0.8710110804758777, 0.10782730053624047, 0.10782730053624047, 0.21565460107248094, 0.10782730053624047, 0.3234819016087214, 0.10782730053624047, 0.7942678227116721, 0.4262664585401744, 0.4262664585401744, 0.23620051081004007, 0.23620051081004007, 0.23620051081004007, 0.23620051081004007, 0.4050844960423138, 0.4050844960423138, 0.43204257858104556, 0.43204257858104556, 0.07328114013891153, 0.036640570069455765, 0.036640570069455765, 0.5129679809723807, 0.036640570069455765, 0.14656228027782306, 0.07328114013891153, 0.07328114013891153, 0.4050842987907001, 0.4050842987907001, 0.3022662051890626, 0.6045324103781252, 0.794267826315838, 0.3969345433186202, 0.3969345433186202, 0.7942678215474177, 0.7821754538200217, 0.4255117557380732, 0.4255117557380732, 0.10740178528973274, 0.10740178528973274, 0.32220535586919824, 0.32220535586919824, 0.10740178528973274, 0.10740178528973274, 0.7879990729143247, 0.30969982654529066, 0.6193996530905813, 0.4023468656123799, 0.4023468656123799, 0.3967630481293955, 0.3967630481293955, 0.40666749720638967, 0.40666749720638967, 0.7942678226537597, 0.3108727226093422, 0.3108727226093422, 0.3108727226093422, 0.4117672834670769, 0.4117672834670769, 0.4090886542619182, 0.4090886542619182, 0.13496378168806233, 0.13496378168806233, 0.13496378168806233, 0.26992756337612467, 0.13496378168806233, 0.26992756337612467, 0.7879990729143247, 0.13472893198371547, 0.13472893198371547, 0.26945786396743093, 0.26945786396743093, 0.13472893198371547, 0.13472893198371547, 0.495928680648463, 0.495928680648463, 0.8051812097823304, 0.634830605961697, 0.42562455859114445, 0.42562455859114445, 0.41729937943454826, 0.41729937943454826, 0.44001193304422165, 0.2933412886961478, 0.1466706443480739, 0.1466706443480739, 0.7879991331750553, 0.5230085150235755, 0.13075212875589387, 0.13075212875589387, 0.26150425751178774, 0.2232020291243922, 0.16740152184329415, 0.05580050728109805, 0.16740152184329415, 0.1116010145621961, 0.05580050728109805, 0.05580050728109805, 0.1116010145621961, 0.05580050728109805, 0.05580050728109805, 0.05580050728109805, 0.40345424470977675, 0.40345424470977675, 0.4106028614210105, 0.4106028614210105, 0.4192173087268197, 0.4192173087268197, 0.794267823542019, 0.1714192143180583, 0.21427401789757286, 0.04285480357951457, 0.04285480357951457, 0.04285480357951457, 0.12856441073854372, 0.12856441073854372, 0.04285480357951457, 0.04285480357951457, 0.04285480357951457, 0.08570960715902914, 0.12119687823194729, 0.48478751292778915, 0.24239375646389458, 0.12119687823194729, 0.12119687823194729, 0.4147208214366027, 0.4147208214366027, 0.20737832749539983, 0.41475665499079967, 0.20737832749539983, 0.20737832749539983, 0.3124537302118169, 0.3124537302118169, 0.3124537302118169, 0.7821758382570078, 0.40345379809207604, 0.40345379809207604, 0.05375184093606471, 0.05375184093606471, 0.05375184093606471, 0.10750368187212941, 0.21500736374425883, 0.3225110456163882, 0.05375184093606471, 0.05375184093606471, 0.05375184093606471, 0.05375184093606471, 0.4032411123385615, 0.4032411123385615, 0.19664614739798372, 0.39329229479596745, 0.19664614739798372, 0.19664614739798372, 0.3958055726671273, 0.3958055726671273, 0.568869474425875, 0.37924631628391664, 0.8975547954451852, 0.7942678239849681, 0.40146594132829994, 0.40146594132829994, 0.33256523039100877, 0.16628261519550439, 0.33256523039100877, 0.16628261519550439, 0.40908865458008975, 0.40908865458008975, 0.6169341031931733, 0.10282235053219554, 0.2056447010643911, 0.10282235053219554, 0.31212785087480965, 0.31212785087480965, 0.31212785087480965, 0.7879990729143247, 0.39389252829925886, 0.39389252829925886, 0.40156965252429583, 0.40156965252429583, 0.41811854154824996, 0.41811854154824996, 0.793440980889719, 0.7942678220609367, 0.13229840849630822, 0.06614920424815411, 0.06614920424815411, 0.39689522548892464, 0.13229840849630822, 0.13229840849630822, 0.06614920424815411, 0.06614920424815411, 0.24736299911397747, 0.24736299911397747, 0.24736299911397747, 0.24736299911397747, 0.3936570220664622, 0.3936570220664622, 0.40191448115107, 0.40191448115107, 0.41729938041875403, 0.41729938041875403, 0.1162952350615639, 0.4651809402462556, 0.1162952350615639, 0.1162952350615639, 0.2325904701231278, 0.4094433861686792, 0.4094433861686792, 0.4034537956161926, 0.4034537956161926, 0.7942678217143714, 0.41598407587403136, 0.41598407587403136, 0.7942678227116721, 0.7047292381533029, 0.14094584763066056, 0.14094584763066056, 0.20077287228849397, 0.20077287228849397, 0.20077287228849397, 0.20077287228849397, 0.20077287228849397, 0.7879991254262836, 0.40324064607439686, 0.40324064607439686, 0.3514414043352248, 0.1757207021676124, 0.1757207021676124, 0.3514414043352248, 0.26306358242712286, 0.5261271648542457, 0.3219515891521185, 0.3219515891521185, 0.3219515891521185, 0.24070322883493617, 0.24070322883493617, 0.24070322883493617, 0.24070322883493617, 0.6184692720849524, 0.10307821201415873, 0.20615642402831746, 0.10307821201415873, 0.6001810831958857, 0.30009054159794285, 0.6793774552298945, 0.22645915174329817, 0.14804477338975042, 0.14804477338975042, 0.5921790935590017, 0.14804477338975042, 0.1549657769437166, 0.1549657769437166, 0.3099315538874332, 0.1549657769437166, 0.1549657769437166, 0.30875939710852496, 0.6175187942170499, 0.4146806297912829, 0.4146806297912829, 0.31046843052476436, 0.31046843052476436, 0.31046843052476436, 0.8265187303040192, 0.41361862002806765, 0.41361862002806765, 0.4015696534893168, 0.4015696534893168, 0.38910817700999456, 0.38910817700999456, 0.7343999354250096, 0.7635244563885842, 0.2079719530185673, 0.2079719530185673, 0.4159439060371346, 0.2079719530185673, 0.23714160216302113, 0.47428320432604226, 0.23714160216302113, 0.15480493499970605, 0.15480493499970605, 0.15480493499970605, 0.3096098699994121, 0.15480493499970605, 0.15480493499970605, 0.3324645868160919, 0.16623229340804596, 0.3324645868160919, 0.16623229340804596, 0.4036930946747238, 0.4036930946747238, 0.4119635038568959, 0.4119635038568959, 0.22921372860260972, 0.6876411858078291, 0.15392892427158272, 0.24628627883453236, 0.09235735456294963, 0.2155004939802158, 0.030785784854316545, 0.030785784854316545, 0.030785784854316545, 0.06157156970863309, 0.030785784854316545, 0.09235735456294963, 0.030785784854316545, 0.030785784854316545, 0.41176728249906974, 0.41176728249906974, 0.24850531900155523, 0.24850531900155523, 0.24850531900155523, 0.24850531900155523, 0.4261104395968456, 0.4261104395968456, 0.2130552197984228, 0.40234654106325246, 0.40234654106325246, 0.42175092973786527, 0.42175092973786527, 0.43295937783022914, 0.43295937783022914, 0.4283182254687562, 0.4283182254687562, 0.3143648444168926, 0.3143648444168926, 0.3143648444168926, 0.4226517352229134, 0.4226517352229134, 0.15867094359707365, 0.15867094359707365, 0.3173418871941473, 0.3173418871941473, 0.3953709331326838, 0.3953709331326838, 0.42112238171123634, 0.42112238171123634, 0.3925467728916492, 0.3925467728916492, 0.314364913376615, 0.314364913376615, 0.314364913376615, 0.5985314279971784, 0.2992657139985892, 0.30202040228160965, 0.30202040228160965, 0.30202040228160965, 0.4094436582460203, 0.4094436582460203, 0.14887103507598115, 0.2977420701519623, 0.14887103507598115, 0.14887103507598115, 0.14887103507598115, 0.14887103507598115, 0.3949799418130665, 0.19748997090653325, 0.09874498545326663, 0.09874498545326663, 0.09874498545326663, 0.09874498545326663, 0.09874498545326663, 0.0992304637354847, 0.0992304637354847, 0.4961523186774235, 0.1984609274709694, 0.0992304637354847, 0.40369311080834275, 0.40369311080834275, 0.23405067889369324, 0.23405067889369324, 0.11702533944684662, 0.11702533944684662, 0.23405067889369324, 0.11702533944684662, 0.29824826392921555, 0.14912413196460778, 0.14912413196460778, 0.14912413196460778, 0.14912413196460778, 0.14912413196460778, 0.30430477060015393, 0.30430477060015393, 0.30430477060015393, 0.47945009692407725, 0.23972504846203863, 0.23972504846203863, 0.5032537364618489, 0.16775124548728299, 0.33550249097456597, 0.40746442504784375, 0.40746442504784375, 0.7934409185652828, 0.4084952049865963, 0.4084952049865963, 0.7879990729143247, 0.39537036504918976, 0.39537036504918976, 0.2570992032951637, 0.17139946886344248, 0.17139946886344248, 0.08569973443172124, 0.17139946886344248, 0.08569973443172124, 0.08569973443172124, 0.08569973443172124, 0.3967630128926325, 0.3967630128926325, 0.7635201097320051, 0.4183786956371442, 0.4183786956371442, 0.3068296068611619, 0.15341480343058095, 0.15341480343058095, 0.15341480343058095, 0.3068296068611619, 0.20795282620182853, 0.20795282620182853, 0.41590565240365707, 0.20795282620182853, 0.31150319563892037, 0.31150319563892037, 0.31150319563892037, 0.4782712529412395, 0.23913562647061976, 0.23913562647061976, 0.4015693847718271, 0.4015693847718271, 0.397897466758898, 0.397897466758898, 0.17605763373971586, 0.17605763373971586, 0.17605763373971586, 0.17605763373971586, 0.17605763373971586, 0.17605763373971586, 0.7879990680062225, 0.41944743682512364, 0.41944743682512364, 0.44150000785640703, 0.147166669285469, 0.294333338570938, 0.147166669285469, 0.4122019838372308, 0.4122019838372308, 0.4799837036359577, 0.23999185181797886, 0.23999185181797886, 0.15020457579483085, 0.15020457579483085, 0.3004091515896617, 0.15020457579483085, 0.15020457579483085, 0.15020457579483085, 0.31905213811539485, 0.31905213811539485, 0.31905213811539485, 0.4099107592123835, 0.4099107592123835, 0.2952430659173704, 0.1476215329586852, 0.1476215329586852, 0.2952430659173704, 0.1476215329586852, 0.2031395882211622, 0.2031395882211622, 0.2031395882211622, 0.2031395882211622, 0.2031395882211622, 0.4039065250840188, 0.4039065250840188, 0.4033512295440721, 0.4033512295440721, 0.3003248586578676, 0.3003248586578676, 0.3003248586578676, 0.26065083405775186, 0.26065083405775186, 0.26065083405775186, 0.26065083405775186, 0.40585824011148086, 0.40585824011148086, 0.40969699162611156, 0.40969699162611156, 0.2576899007321582, 0.2576899007321582, 0.2576899007321582, 0.2576899007321582, 0.40191433119059794, 0.40191433119059794, 0.41165417617079253, 0.41165417617079253, 0.40031122114358825, 0.40031122114358825, 0.3075395039951145, 0.3075395039951145, 0.3075395039951145, 0.30382892799131184, 0.30382892799131184, 0.30382892799131184, 0.3250625337731076, 0.3250625337731076, 0.3250625337731076, 0.763520391844035, 0.39537056893068506, 0.39537056893068506, 0.39556794416439345, 0.39556794416439345, 0.39365696057067523, 0.39365696057067523, 0.17609340872796891, 0.17609340872796891, 0.17609340872796891, 0.17609340872796891, 0.17609340872796891, 0.17609340872796891, 0.40390652537984784, 0.40390652537984784, 0.08681973071246854, 0.08681973071246854, 0.08681973071246854, 0.08681973071246854, 0.08681973071246854, 0.08681973071246854, 0.17363946142493708, 0.17363946142493708, 0.08681973071246854, 0.17363946142493708, 0.31042685278691556, 0.31042685278691556, 0.31042685278691556, 0.29778652277532064, 0.14889326138766032, 0.29778652277532064, 0.14889326138766032, 0.14889326138766032, 0.2311515686643649, 0.4623031373287298, 0.2311515686643649, 0.6047058168738071, 0.30235290843690354, 0.19855289872566223, 0.19855289872566223, 0.09927644936283112, 0.09927644936283112, 0.09927644936283112, 0.19855289872566223, 0.09927644936283112, 0.09927644936283112, 0.40832293492265337, 0.10208073373066334, 0.10208073373066334, 0.20416146746132668, 0.10208073373066334, 0.20416146746132668, 0.17192203040181844, 0.3438440608036369, 0.17192203040181844, 0.17192203040181844, 0.17192203040181844, 0.39536333807627494, 0.39536333807627494, 0.13969999300221858, 0.18626665733629144, 0.04656666433407286, 0.18626665733629144, 0.04656666433407286, 0.27939998600443716, 0.09313332866814572, 0.04656666433407286, 0.04656666433407286, 0.2021490627241213, 0.10107453136206065, 0.10107453136206065, 0.2021490627241213, 0.2021490627241213, 0.10107453136206065, 0.10107453136206065, 0.10107453136206065, 0.7635201084919905, 0.29424982056641447, 0.5884996411328289, 0.29786770216215974, 0.29786770216215974, 0.29786770216215974, 0.14823620450078012, 0.44470861350234037, 0.14823620450078012, 0.14823620450078012, 0.14823620450078012, 0.41814831025089777, 0.2787655401672652, 0.1393827700836326, 0.1393827700836326, 0.418557536685151, 0.418557536685151, 0.3016127564876717, 0.3016127564876717, 0.3016127564876717, 0.30706350781783803, 0.30706350781783803, 0.30706350781783803, 0.4171231087333907, 0.4171231087333907, 0.2408889671436696, 0.2408889671436696, 0.2408889671436696, 0.2408889671436696, 0.408495089972455, 0.408495089972455, 0.20302426535590765, 0.20302426535590765, 0.20302426535590765, 0.20302426535590765, 0.20302426535590765, 0.2526181309558538, 0.5052362619117076, 0.2526181309558538, 0.39536327252885173, 0.39536327252885173, 0.30822193500551137, 0.30822193500551137, 0.30822193500551137, 0.13398623861299078, 0.13398623861299078, 0.26797247722598155, 0.13398623861299078, 0.13398623861299078, 0.26797247722598155, 0.43138311786907607, 0.43138311786907607, 0.1777453988478454, 0.1777453988478454, 0.3554907976956908, 0.1777453988478454, 0.1777453988478454, 0.4067087292199243, 0.4067087292199243, 0.7865979248712032, 0.7879991253220905, 0.2352712368805002, 0.4705424737610004, 0.2352712368805002, 0.7942679891430866, 0.41196344385728845, 0.41196344385728845, 0.13334645155556643, 0.13334645155556643, 0.26669290311113286, 0.26669290311113286, 0.13334645155556643, 0.13334645155556643, 0.09906728835994266, 0.297201865079828, 0.19813457671988532, 0.19813457671988532, 0.09906728835994266, 0.09906728835994266, 0.09906728835994266, 0.33107751274670283, 0.08276937818667571, 0.08276937818667571, 0.16553875637335141, 0.16553875637335141, 0.08276937818667571, 0.08276937818667571, 0.08276937818667571, 0.30581529904817767, 0.6116305980963553, 0.3096266758305456, 0.3096266758305456, 0.3096266758305456, 0.8199277790360906, 0.18345814315445022, 0.09172907157722511, 0.09172907157722511, 0.09172907157722511, 0.09172907157722511, 0.09172907157722511, 0.09172907157722511, 0.09172907157722511, 0.09172907157722511, 0.09172907157722511, 0.09172907157722511, 0.11928203328273787, 0.07952135552182525, 0.039760677760912626, 0.1590427110436505, 0.11928203328273787, 0.1590427110436505, 0.07952135552182525, 0.039760677760912626, 0.039760677760912626, 0.07952135552182525, 0.039760677760912626, 0.039760677760912626, 0.039760677760912626, 0.07952135552182525, 0.13397519225053406, 0.2679503845010681, 0.13397519225053406, 0.13397519225053406, 0.13397519225053406, 0.13397519225053406, 0.42831820930677306, 0.42831820930677306, 0.41622322490729136, 0.41622322490729136, 0.2565777389576222, 0.2565777389576222, 0.5131554779152444, 0.17154585000355257, 0.17154585000355257, 0.17154585000355257, 0.17154585000355257, 0.17154585000355257, 0.17154585000355257, 0.40666739513127453, 0.40666739513127453, 0.1537459731011198, 0.1537459731011198, 0.1537459731011198, 0.1537459731011198, 0.1537459731011198, 0.3074919462022396, 0.4947607396521983, 0.08246012327536638, 0.24738036982609915, 0.08246012327536638, 0.08246012327536638, 0.08246012327536638, 0.2936760103572395, 0.587352020714479, 0.41659718543302554, 0.41659718543302554, 0.30521227892715164, 0.30521227892715164, 0.30521227892715164, 0.20037440791253314, 0.20037440791253314, 0.20037440791253314, 0.20037440791253314, 0.20037440791253314, 0.4192223387192464, 0.4192223387192464, 0.630850542036344, 0.315425271018172, 0.12290520992660155, 0.2458104198532031, 0.12290520992660155, 0.12290520992660155, 0.2458104198532031, 0.12290520992660155, 0.12290520992660155, 0.26754562268301035, 0.5350912453660207, 0.25787127880101224, 0.25787127880101224, 0.25787127880101224, 0.25787127880101224, 0.21034378671295156, 0.21034378671295156, 0.4206875734259031, 0.24953144734543134, 0.24953144734543134, 0.24953144734543134, 0.24953144734543134, 0.8856528807913963, 0.08996089504909634, 0.08996089504909634, 0.08996089504909634, 0.17992179009819267, 0.17992179009819267, 0.17992179009819267, 0.08996089504909634, 0.08996089504909634, 0.08996089504909634, 0.10217733943032685, 0.10217733943032685, 0.10217733943032685, 0.2043546788606537, 0.10217733943032685, 0.2043546788606537, 0.10217733943032685, 0.2043546788606537, 0.24399705158530263, 0.24399705158530263, 0.48799410317060526, 0.41165410326217533, 0.41165410326217533, 0.6011178072433935, 0.30055890362169674, 0.3248051630718126, 0.6496103261436252, 0.1820542487799245, 0.09102712438996224, 0.09102712438996224, 0.27308137316988673, 0.09102712438996224, 0.09102712438996224, 0.1820542487799245, 0.09102712438996224, 0.4166394052276465, 0.4166394052276465, 0.4224703586124276, 0.4224703586124276, 0.10800996495837398, 0.05400498247918699, 0.16201494743756095, 0.05400498247918699, 0.16201494743756095, 0.16201494743756095, 0.10800996495837398, 0.05400498247918699, 0.05400498247918699, 0.05400498247918699, 0.05400498247918699, 0.05400498247918699, 0.05400498247918699, 0.4039067854941092, 0.4039067854941092], \"Term\": [\"add\", \"add\", \"admire\", \"admire\", \"advice\", \"advice\", \"affluent\", \"ah\", \"ah\", \"ah\", \"ah\", \"amorous\", \"amorous\", \"ancient\", \"ancient\", \"ancient\", \"answer\", \"answer\", \"apart\", \"apart\", \"apart\", \"april\", \"april\", \"april\", \"april\", \"arm\", \"arm\", \"arm\", \"arm\", \"art\", \"art\", \"art\", \"ask\", \"ask\", \"ask\", \"await\", \"await\", \"awake\", \"awake\", \"away\", \"away\", \"away\", \"away\", \"away\", \"away\", \"away\", \"away\", \"away\", \"away\", \"away\", \"away\", \"away\", \"away\", \"bad\", \"bad\", \"bad\", \"bad\", \"bad\", \"badly\", \"bang\", \"bang\", \"bar\", \"bar\", \"bar\", \"bar\", \"bare\", \"bare\", \"battle\", \"bear\", \"bear\", \"bear\", \"bear\", \"bear\", \"beauty\", \"beauty\", \"bed\", \"bed\", \"bed\", \"bed\", \"bed\", \"bed\", \"bed\", \"bed\", \"beggar\", \"beggar\", \"believe\", \"believe\", \"bind\", \"bind\", \"bind\", \"bind\", \"bird\", \"bird\", \"bite\", \"bite\", \"bitter\", \"bitter\", \"black\", \"black\", \"black\", \"blest\", \"blest\", \"bloom\", \"bloom\", \"blossom\", \"blossom\", \"blossom\", \"bold\", \"bold\", \"bold\", \"bold\", \"bold\", \"bone\", \"bone\", \"bone\", \"bone\", \"book\", \"book\", \"book\", \"bore\", \"bow\", \"bow\", \"bow\", \"bow\", \"bowl\", \"bowl\", \"boy\", \"boy\", \"boy\", \"boy\", \"bradstreet\", \"break\", \"break\", \"break\", \"break\", \"break\", \"break\", \"break\", \"break\", \"breast\", \"breast\", \"breast\", \"breast\", \"breast\", \"breast\", \"breast\", \"breast\", \"bridal\", \"bridal\", \"bright\", \"bright\", \"bright\", \"bright\", \"bright\", \"brow\", \"brow\", \"brow\", \"brown\", \"brown\", \"burn\", \"burn\", \"burn\", \"burn\", \"busy\", \"busy\", \"buy\", \"candle\", \"candle\", \"care\", \"care\", \"care\", \"care\", \"care\", \"care\", \"care\", \"chatter\", \"chatter\", \"cheek\", \"cheek\", \"cheek\", \"child\", \"child\", \"chime\", \"chime\", \"chore\", \"chore\", \"chorus\", \"chorus\", \"circle\", \"circle\", \"clean\", \"clean\", \"clear\", \"clear\", \"clear\", \"cling\", \"cling\", \"cold\", \"cold\", \"cold\", \"come\", \"come\", \"come\", \"come\", \"come\", \"come\", \"come\", \"come\", \"come\", \"come\", \"come\", \"come\", \"come\", \"come\", \"cook\", \"cool\", \"cool\", \"cool\", \"cool\", \"count\", \"count\", \"count\", \"cover\", \"cover\", \"crack\", \"crack\", \"crazy\", \"crazy\", \"crown\", \"crown\", \"cruel\", \"cruel\", \"cry\", \"cry\", \"cry\", \"cry\", \"cry\", \"cup\", \"cup\", \"curl\", \"curl\", \"curse\", \"curse\", \"curse\", \"curse\", \"cut\", \"cut\", \"cut\", \"cut\", \"damn\", \"damn\", \"damp\", \"damp\", \"dance\", \"dance\", \"dare\", \"dare\", \"dare\", \"dare\", \"dark\", \"dark\", \"darkness\", \"darkness\", \"dawn\", \"dawn\", \"dawn\", \"dawn\", \"dawn\", \"day\", \"day\", \"day\", \"day\", \"day\", \"day\", \"day\", \"day\", \"day\", \"day\", \"day\", \"day\", \"day\", \"day\", \"dead\", \"dead\", \"dead\", \"dead\", \"dead\", \"dead\", \"dear\", \"dear\", \"dear\", \"dear\", \"dear\", \"dear\", \"dear\", \"dear\", \"dear\", \"dear\", \"death\", \"death\", \"death\", \"death\", \"deck\", \"deck\", \"delight\", \"delight\", \"deny\", \"deny\", \"despite\", \"despite\", \"devil\", \"devil\", \"die\", \"die\", \"die\", \"die\", \"die\", \"die\", \"die\", \"die\", \"die\", \"dig\", \"dig\", \"dirty\", \"dirty\", \"dog\", \"dog\", \"door\", \"door\", \"door\", \"door\", \"double\", \"double\", \"dream\", \"dream\", \"dream\", \"dream\", \"dream\", \"dream\", \"dreary\", \"dress\", \"dress\", \"dress\", \"dress\", \"dress\", \"dress\", \"drink\", \"drink\", \"drink\", \"dripping\", \"dripping\", \"drive\", \"drive\", \"drive\", \"drop\", \"drop\", \"drop\", \"dry\", \"dry\", \"dry\", \"dry\", \"dry\", \"dry\", \"dust\", \"dust\", \"dust\", \"ease\", \"ease\", \"easy\", \"easy\", \"easy\", \"eat\", \"eat\", \"eat\", \"elegant\", \"end\", \"end\", \"end\", \"end\", \"envy\", \"envy\", \"eye\", \"eye\", \"eye\", \"eye\", \"eye\", \"eye\", \"eye\", \"eye\", \"eye\", \"eye\", \"eye\", \"eye\", \"eye\", \"eye\", \"eye\", \"eyed\", \"eyed\", \"fair\", \"fair\", \"fair\", \"fair\", \"fair\", \"fair\", \"fair\", \"fair\", \"fair\", \"fall\", \"fall\", \"fall\", \"fall\", \"fall\", \"fall\", \"fall\", \"far\", \"far\", \"far\", \"fill\", \"fill\", \"find\", \"find\", \"find\", \"find\", \"find\", \"find\", \"find\", \"find\", \"flag\", \"flag\", \"fle\", \"fle\", \"fle\", \"fling\", \"fling\", \"floor\", \"floor\", \"floor\", \"flower\", \"flower\", \"flower\", \"fly\", \"foe\", \"foe\", \"foe\", \"foe\", \"folk\", \"folk\", \"folk\", \"follow\", \"follow\", \"follow\", \"follow\", \"follow\", \"fool\", \"fool\", \"foot\", \"foot\", \"foot\", \"forever\", \"forever\", \"forget\", \"forget\", \"forgive\", \"forgive\", \"frail\", \"frail\", \"friend\", \"friend\", \"friend\", \"friend\", \"friend\", \"frock\", \"frock\", \"fun\", \"fun\", \"fun\", \"gaily\", \"gaily\", \"gaily\", \"gallant\", \"gallant\", \"gallop\", \"gallop\", \"game\", \"game\", \"game\", \"gate\", \"gate\", \"gather\", \"gather\", \"gather\", \"gay\", \"gay\", \"gay\", \"gay\", \"gay\", \"gay\", \"gently\", \"get\", \"get\", \"ghost\", \"gift\", \"gift\", \"girl\", \"girl\", \"girl\", \"girl\", \"girl\", \"girl\", \"give\", \"give\", \"give\", \"give\", \"give\", \"give\", \"gladly\", \"gladly\", \"gleam\", \"gleam\", \"glitter\", \"glitter\", \"go\", \"go\", \"go\", \"go\", \"go\", \"go\", \"go\", \"go\", \"go\", \"god\", \"god\", \"god\", \"god\", \"golden\", \"golden\", \"golden\", \"good\", \"good\", \"good\", \"good\", \"good\", \"good\", \"good\", \"good\", \"good\", \"good\", \"gown\", \"gown\", \"graveyard\", \"greet\", \"greet\", \"grieve\", \"grieve\", \"grumble\", \"grumble\", \"hail\", \"hail\", \"hail\", \"hair\", \"hair\", \"hair\", \"hair\", \"hair\", \"half\", \"half\", \"half\", \"half\", \"hand\", \"hand\", \"hand\", \"hand\", \"hand\", \"hand\", \"hand\", \"hand\", \"hand\", \"handsome\", \"hang\", \"hang\", \"hang\", \"happily\", \"happiness\", \"happiness\", \"happiness\", \"happy\", \"happy\", \"happy\", \"happy\", \"hat\", \"hat\", \"hate\", \"head\", \"head\", \"head\", \"head\", \"head\", \"head\", \"head\", \"head\", \"head\", \"head\", \"heal\", \"heal\", \"hear\", \"hear\", \"hear\", \"hear\", \"hear\", \"hear\", \"heart\", \"heart\", \"heart\", \"heart\", \"heart\", \"heart\", \"heart\", \"heart\", \"heart\", \"heart\", \"heart\", \"heart\", \"heart\", \"heart\", \"heart\", \"heart\", \"hearted\", \"hearted\", \"heavy\", \"heavy\", \"helen\", \"helen\", \"hell\", \"hell\", \"hell\", \"help\", \"help\", \"help\", \"high\", \"high\", \"high\", \"high\", \"high\", \"high\", \"high\", \"hill\", \"hill\", \"hold\", \"hold\", \"hold\", \"hold\", \"hold\", \"hold\", \"hold\", \"hold\", \"home\", \"home\", \"home\", \"hope\", \"hope\", \"hope\", \"hour\", \"hour\", \"hurt\", \"hurt\", \"insistent\", \"insistent\", \"jones\", \"joy\", \"joy\", \"joyous\", \"june\", \"june\", \"kindlier\", \"kindlier\", \"kiss\", \"kiss\", \"kiss\", \"kiss\", \"kiss\", \"kiss\", \"kiss\", \"knee\", \"knee\", \"knee\", \"know\", \"know\", \"know\", \"know\", \"know\", \"know\", \"know\", \"know\", \"know\", \"know\", \"know\", \"know\", \"know\", \"lace\", \"lace\", \"lad\", \"lad\", \"lad\", \"lad\", \"lad\", \"lad\", \"lad\", \"lady\", \"lady\", \"lady\", \"lady\", \"lady\", \"lady\", \"lady\", \"lady\", \"lady\", \"later\", \"laugh\", \"laugh\", \"laugh\", \"laugh\", \"laugh\", \"laughter\", \"laughter\", \"laughter\", \"lawn\", \"lawn\", \"lead\", \"lead\", \"lead\", \"lead\", \"learn\", \"learn\", \"learn\", \"leave\", \"leave\", \"leave\", \"leave\", \"leave\", \"leave\", \"leave\", \"leave\", \"leave\", \"leave\", \"leave\", \"length\", \"length\", \"let\", \"let\", \"let\", \"let\", \"let\", \"let\", \"let\", \"let\", \"let\", \"let\", \"let\", \"lie\", \"lie\", \"lie\", \"lie\", \"lie\", \"lie\", \"lie\", \"lie\", \"lie\", \"lie\", \"lie\", \"life\", \"life\", \"life\", \"life\", \"life\", \"light\", \"light\", \"light\", \"light\", \"light\", \"light\", \"light\", \"lightly\", \"lightly\", \"like\", \"like\", \"like\", \"like\", \"like\", \"like\", \"like\", \"like\", \"like\", \"like\", \"lilac\", \"lilac\", \"lilacs\", \"lilacs\", \"lip\", \"lip\", \"lip\", \"lip\", \"lip\", \"list\", \"list\", \"list\", \"little\", \"little\", \"little\", \"little\", \"little\", \"little\", \"little\", \"little\", \"little\", \"little\", \"little\", \"little\", \"little\", \"little\", \"little\", \"live\", \"live\", \"live\", \"live\", \"live\", \"live\", \"live\", \"live\", \"live\", \"lock\", \"lock\", \"lock\", \"long\", \"long\", \"long\", \"long\", \"long\", \"long\", \"look\", \"look\", \"look\", \"look\", \"look\", \"look\", \"look\", \"look\", \"look\", \"lord\", \"lord\", \"lose\", \"lose\", \"lose\", \"lot\", \"lot\", \"love\", \"love\", \"love\", \"love\", \"love\", \"love\", \"love\", \"love\", \"love\", \"love\", \"love\", \"love\", \"love\", \"love\", \"love\", \"love\", \"lovelier\", \"lovelier\", \"lovely\", \"lover\", \"lover\", \"lover\", \"lover\", \"lover\", \"lover\", \"lucy\", \"mad\", \"mad\", \"maid\", \"maid\", \"maid\", \"maid\", \"maiden\", \"maiden\", \"make\", \"make\", \"man\", \"man\", \"man\", \"man\", \"man\", \"man\", \"man\", \"man\", \"manner\", \"manner\", \"marble\", \"marble\", \"marigold\", \"market\", \"market\", \"marry\", \"marvel\", \"matter\", \"matter\", \"meet\", \"meet\", \"meet\", \"meet\", \"meet\", \"meet\", \"melancholy\", \"mend\", \"mend\", \"mention\", \"mention\", \"midnight\", \"midnight\", \"mild\", \"mild\", \"millionaire\", \"mind\", \"mind\", \"mind\", \"miss\", \"miss\", \"model\", \"model\", \"moon\", \"moon\", \"moon\", \"moon\", \"moon\", \"moon\", \"morn\", \"morning\", \"morning\", \"morning\", \"morning\", \"morning\", \"morning\", \"morrow\", \"morrow\", \"murmur\", \"narrow\", \"naught\", \"naught\", \"neck\", \"neck\", \"need\", \"need\", \"need\", \"need\", \"needle\", \"new\", \"new\", \"new\", \"new\", \"night\", \"night\", \"night\", \"night\", \"night\", \"night\", \"night\", \"night\", \"night\", \"night\", \"night\", \"note\", \"note\", \"novelty\", \"novelty\", \"oath\", \"oath\", \"observe\", \"oh\", \"oh\", \"oh\", \"oh\", \"oh\", \"oh\", \"oh\", \"oh\", \"oh\", \"oh\", \"oh\", \"old\", \"old\", \"old\", \"old\", \"old\", \"page\", \"page\", \"pain\", \"pain\", \"pain\", \"pain\", \"paint\", \"paint\", \"paint\", \"pane\", \"park\", \"park\", \"pass\", \"pass\", \"pass\", \"pass\", \"pass\", \"pass\", \"pass\", \"pass\", \"pass\", \"pass\", \"passion\", \"passion\", \"past\", \"past\", \"past\", \"past\", \"pay\", \"pay\", \"people\", \"people\", \"perfect\", \"perfectly\", \"petal\", \"petal\", \"place\", \"place\", \"place\", \"place\", \"plan\", \"plan\", \"play\", \"play\", \"play\", \"play\", \"plead\", \"plead\", \"plead\", \"plight\", \"pluck\", \"pluck\", \"ponder\", \"ponder\", \"powder\", \"powder\", \"pray\", \"prediction\", \"pretty\", \"pretty\", \"pretty\", \"pretty\", \"pretty\", \"pretty\", \"pretty\", \"pretty\", \"pride\", \"pride\", \"pride\", \"pride\", \"proud\", \"proud\", \"push\", \"push\", \"quick\", \"quick\", \"rain\", \"rain\", \"rain\", \"rain\", \"rain\", \"rapture\", \"rapture\", \"rare\", \"rare\", \"rate\", \"read\", \"read\", \"remark\", \"rest\", \"rest\", \"rest\", \"return\", \"return\", \"return\", \"return\", \"return\", \"rhyme\", \"ribbon\", \"ribbon\", \"ride\", \"ride\", \"ride\", \"ride\", \"right\", \"right\", \"rise\", \"rise\", \"rise\", \"roam\", \"roam\", \"roam\", \"roam\", \"rose\", \"rose\", \"rose\", \"rose\", \"rosy\", \"rosy\", \"round\", \"round\", \"run\", \"run\", \"run\", \"run\", \"sad\", \"sad\", \"sad\", \"sad\", \"sad\", \"sail\", \"sail\", \"sake\", \"sake\", \"sappho\", \"sappho\", \"sappho\", \"satin\", \"save\", \"save\", \"scan\", \"scan\", \"scented\", \"scented\", \"scratch\", \"scream\", \"secret\", \"secret\", \"secret\", \"secret\", \"see\", \"see\", \"see\", \"seek\", \"seek\", \"seek\", \"seek\", \"seek\", \"seek\", \"send\", \"send\", \"send\", \"send\", \"set\", \"set\", \"sew\", \"sew\", \"shade\", \"shade\", \"shall\", \"shall\", \"shall\", \"shall\", \"shall\", \"shall\", \"shall\", \"shall\", \"shall\", \"shall\", \"shall\", \"shall\", \"shatter\", \"shatter\", \"shine\", \"shine\", \"shine\", \"shine\", \"shiny\", \"shiny\", \"shiny\", \"ship\", \"ship\", \"shoe\", \"shoe\", \"shoot\", \"shoot\", \"shrug\", \"shrug\", \"shudder\", \"shudder\", \"shudder\", \"sick\", \"sick\", \"sigh\", \"sigh\", \"sigh\", \"sigh\", \"sighing\", \"sighing\", \"silent\", \"silent\", \"silver\", \"silver\", \"simple\", \"simple\", \"simple\", \"sin\", \"sin\", \"singing\", \"singing\", \"singing\", \"single\", \"single\", \"sit\", \"sit\", \"sit\", \"sit\", \"sit\", \"sit\", \"sky\", \"sky\", \"sky\", \"sky\", \"sky\", \"sky\", \"sky\", \"sleep\", \"sleep\", \"sleep\", \"sleep\", \"sleep\", \"sleeve\", \"sleeve\", \"slip\", \"slip\", \"slip\", \"slip\", \"slip\", \"slip\", \"slow\", \"slow\", \"slow\", \"slow\", \"slow\", \"slow\", \"slumber\", \"slumber\", \"slumber\", \"small\", \"small\", \"small\", \"smile\", \"smile\", \"smile\", \"snow\", \"snow\", \"sod\", \"softly\", \"softly\", \"sombre\", \"somebody\", \"somebody\", \"song\", \"song\", \"song\", \"song\", \"song\", \"song\", \"song\", \"song\", \"soon\", \"soon\", \"sooner\", \"sore\", \"sore\", \"sorrow\", \"sorrow\", \"sorrow\", \"sorrow\", \"sorrow\", \"soul\", \"soul\", \"soul\", \"soul\", \"sound\", \"sound\", \"sound\", \"speak\", \"speak\", \"speak\", \"spend\", \"spend\", \"spin\", \"spin\", \"spirit\", \"spirit\", \"spirit\", \"spirit\", \"spirit\", \"spirit\", \"splash\", \"spotless\", \"spotless\", \"spring\", \"spring\", \"spring\", \"spring\", \"stain\", \"stain\", \"stand\", \"stand\", \"stand\", \"star\", \"star\", \"star\", \"star\", \"star\", \"star\", \"start\", \"start\", \"start\", \"state\", \"state\", \"stay\", \"stay\", \"stay\", \"stay\", \"stay\", \"stone\", \"stone\", \"stone\", \"stone\", \"stone\", \"story\", \"story\", \"street\", \"street\", \"strength\", \"strength\", \"strength\", \"string\", \"string\", \"string\", \"string\", \"strive\", \"strive\", \"stroll\", \"stroll\", \"strong\", \"strong\", \"strong\", \"strong\", \"strut\", \"strut\", \"stuff\", \"stuff\", \"sudden\", \"sudden\", \"sum\", \"sum\", \"sum\", \"summer\", \"summer\", \"summer\", \"sun\", \"sun\", \"sun\", \"suppose\", \"sure\", \"sure\", \"swallow\", \"swallow\", \"sway\", \"sway\", \"swear\", \"swear\", \"swear\", \"swear\", \"swear\", \"swear\", \"sweep\", \"sweep\", \"sweet\", \"sweet\", \"sweet\", \"sweet\", \"sweet\", \"sweet\", \"sweet\", \"sweet\", \"sweet\", \"sweet\", \"swift\", \"swift\", \"swift\", \"take\", \"take\", \"take\", \"take\", \"take\", \"tale\", \"tale\", \"tale\", \"talk\", \"talk\", \"tear\", \"tear\", \"tear\", \"tear\", \"tear\", \"tear\", \"tear\", \"tear\", \"tell\", \"tell\", \"tell\", \"tell\", \"tell\", \"tell\", \"tender\", \"tender\", \"tender\", \"tender\", \"tender\", \"thin\", \"thin\", \"thing\", \"thing\", \"thing\", \"thing\", \"thing\", \"thing\", \"thing\", \"thing\", \"thing\", \"think\", \"think\", \"think\", \"think\", \"think\", \"think\", \"think\", \"think\", \"thorn\", \"thread\", \"thread\", \"throw\", \"throw\", \"throw\", \"till\", \"till\", \"till\", \"till\", \"till\", \"time\", \"time\", \"time\", \"time\", \"tinkle\", \"tinkle\", \"tip\", \"tip\", \"tip\", \"toss\", \"toss\", \"toss\", \"touch\", \"touch\", \"town\", \"town\", \"town\", \"town\", \"transgression\", \"transgression\", \"travel\", \"travel\", \"travel\", \"travel\", \"travel\", \"tread\", \"tread\", \"tread\", \"trod\", \"trod\", \"trouble\", \"trouble\", \"trouble\", \"true\", \"true\", \"true\", \"true\", \"true\", \"true\", \"try\", \"try\", \"turn\", \"turn\", \"turn\", \"turn\", \"turn\", \"unfold\", \"unfold\", \"upward\", \"velvet\", \"verse\", \"verse\", \"verse\", \"virtue\", \"vision\", \"vision\", \"vow\", \"vow\", \"vow\", \"vow\", \"vow\", \"vow\", \"wait\", \"wait\", \"wait\", \"wait\", \"wait\", \"wait\", \"wait\", \"walk\", \"walk\", \"walk\", \"walk\", \"walk\", \"walk\", \"walk\", \"walk\", \"wander\", \"wander\", \"want\", \"want\", \"want\", \"warm\", \"watch\", \"watch\", \"watch\", \"watch\", \"watch\", \"watch\", \"watch\", \"watch\", \"watch\", \"watch\", \"watch\", \"way\", \"way\", \"way\", \"way\", \"way\", \"way\", \"way\", \"way\", \"way\", \"way\", \"way\", \"way\", \"way\", \"way\", \"wear\", \"wear\", \"wear\", \"wear\", \"wear\", \"wear\", \"weather\", \"weather\", \"weave\", \"weave\", \"weep\", \"weep\", \"weep\", \"well\", \"well\", \"well\", \"well\", \"well\", \"well\", \"whisper\", \"whisper\", \"whistle\", \"whistle\", \"whistle\", \"whistle\", \"whistle\", \"whistle\", \"white\", \"white\", \"white\", \"white\", \"white\", \"white\", \"wife\", \"wife\", \"wild\", \"wild\", \"willow\", \"willow\", \"willow\", \"wind\", \"wind\", \"wind\", \"wind\", \"wind\", \"wing\", \"wing\", \"winter\", \"winter\", \"wise\", \"wise\", \"wise\", \"wise\", \"wise\", \"wise\", \"wise\", \"wish\", \"wish\", \"woe\", \"woe\", \"woe\", \"woe\", \"woman\", \"woman\", \"woman\", \"wonder\", \"wonder\", \"wonder\", \"wonder\", \"wood\", \"word\", \"word\", \"word\", \"word\", \"word\", \"word\", \"word\", \"word\", \"word\", \"world\", \"world\", \"world\", \"world\", \"world\", \"world\", \"world\", \"world\", \"wrap\", \"wrap\", \"wrap\", \"wreathe\", \"wreathe\", \"write\", \"write\", \"wrong\", \"wrong\", \"year\", \"year\", \"year\", \"year\", \"year\", \"year\", \"year\", \"year\", \"yearn\", \"yearn\", \"yellow\", \"yellow\", \"young\", \"young\", \"young\", \"young\", \"young\", \"young\", \"young\", \"young\", \"young\", \"young\", \"young\", \"young\", \"young\", \"youth\", \"youth\"]}, \"R\": 30, \"lambda.step\": 0.01, \"plot.opts\": {\"xlab\": \"PC1\", \"ylab\": \"PC2\"}, \"topic.order\": [14, 6, 2, 17, 4, 3, 10, 5, 20, 15, 13, 8, 11, 12, 1, 18, 16, 9, 19, 7]};\n",
       "\n",
       "function LDAvis_load_lib(url, callback){\n",
       "  var s = document.createElement('script');\n",
       "  s.src = url;\n",
       "  s.async = true;\n",
       "  s.onreadystatechange = s.onload = callback;\n",
       "  s.onerror = function(){console.warn(\"failed to load library \" + url);};\n",
       "  document.getElementsByTagName(\"head\")[0].appendChild(s);\n",
       "}\n",
       "\n",
       "if(typeof(LDAvis) !== \"undefined\"){\n",
       "   // already loaded: just create the visualization\n",
       "   !function(LDAvis){\n",
       "       new LDAvis(\"#\" + \"ldavis_el6272108326665607176883891\", ldavis_el6272108326665607176883891_data);\n",
       "   }(LDAvis);\n",
       "}else if(typeof define === \"function\" && define.amd){\n",
       "   // require.js is available: use it to load d3/LDAvis\n",
       "   require.config({paths: {d3: \"https://d3js.org/d3.v5\"}});\n",
       "   require([\"d3\"], function(d3){\n",
       "      window.d3 = d3;\n",
       "      LDAvis_load_lib(\"https://cdn.jsdelivr.net/gh/bmabey/pyLDAvis@3.4.0/pyLDAvis/js/ldavis.v3.0.0.js\", function(){\n",
       "        new LDAvis(\"#\" + \"ldavis_el6272108326665607176883891\", ldavis_el6272108326665607176883891_data);\n",
       "      });\n",
       "    });\n",
       "}else{\n",
       "    // require.js not available: dynamically load d3 & LDAvis\n",
       "    LDAvis_load_lib(\"https://d3js.org/d3.v5.js\", function(){\n",
       "         LDAvis_load_lib(\"https://cdn.jsdelivr.net/gh/bmabey/pyLDAvis@3.4.0/pyLDAvis/js/ldavis.v3.0.0.js\", function(){\n",
       "                 new LDAvis(\"#\" + \"ldavis_el6272108326665607176883891\", ldavis_el6272108326665607176883891_data);\n",
       "            })\n",
       "         });\n",
       "}\n",
       "</script>"
      ],
      "text/plain": [
       "PreparedData(topic_coordinates=              x         y  topics  cluster       Freq\n",
       "topic                                                \n",
       "13     0.099762  0.034120       1        1  14.094815\n",
       "5      0.087068  0.020661       2        1   8.383528\n",
       "1      0.037654  0.011224       3        1   7.523103\n",
       "16     0.057214 -0.077017       4        1   7.144575\n",
       "3      0.091727 -0.032845       5        1   7.053141\n",
       "2     -0.208194  0.091482       6        1   6.287676\n",
       "9     -0.084879 -0.027774       7        1   6.078608\n",
       "4     -0.005127 -0.139279       8        1   5.181281\n",
       "19     0.040273  0.136259       9        1   4.834056\n",
       "14     0.006293  0.001620      10        1   4.611208\n",
       "12    -0.033897  0.144079      11        1   3.930472\n",
       "7     -0.041751 -0.103830      12        1   3.724222\n",
       "10     0.123277  0.020815      13        1   3.495173\n",
       "11    -0.013623  0.007030      14        1   3.328694\n",
       "0     -0.059093 -0.041522      15        1   3.317028\n",
       "17    -0.049091 -0.099818      16        1   2.830953\n",
       "15    -0.036241 -0.030120      17        1   2.789727\n",
       "8      0.003345  0.036941      18        1   2.693573\n",
       "18     0.021821  0.060541      19        1   2.549875\n",
       "6     -0.036537 -0.012567      20        1   0.148292, topic_info=        Term       Freq      Total Category  logprob  loglift\n",
       "121     love  84.000000  84.000000  Default   30.000  30.0000\n",
       "228      man  27.000000  27.000000  Default   29.000  29.0000\n",
       "217    thing  21.000000  21.000000  Default   28.000  28.0000\n",
       "26    little  45.000000  45.000000  Default   27.000  27.0000\n",
       "224     lady  24.000000  24.000000  Default   26.000  26.0000\n",
       "..       ...        ...        ...      ...      ...      ...\n",
       "24    lilacs   0.007369   2.429865  Topic20   -6.375   0.7155\n",
       "25       lip   0.007369   4.878401  Topic20   -6.375   0.0185\n",
       "26    little   0.007369  45.847896  Topic20   -6.375  -2.2220\n",
       "28      miss   0.007369   2.428556  Topic20   -6.375   0.7160\n",
       "29   morning   0.007369   7.422311  Topic20   -6.375  -0.4012\n",
       "\n",
       "[1050 rows x 6 columns], token_table=      Topic      Freq    Term\n",
       "term                         \n",
       "171       5  0.403693     add\n",
       "171       9  0.403693     add\n",
       "536      11  0.431383  admire\n",
       "536      16  0.431383  admire\n",
       "566       6  0.409089  advice\n",
       "...     ...       ...     ...\n",
       "115      15  0.054005   young\n",
       "115      17  0.054005   young\n",
       "115      18  0.054005   young\n",
       "529       6  0.403907   youth\n",
       "529       9  0.403907   youth\n",
       "\n",
       "[1691 rows x 3 columns], R=30, lambda_step=0.01, plot_opts={'xlab': 'PC1', 'ylab': 'PC2'}, topic_order=[14, 6, 2, 17, 4, 3, 10, 5, 20, 15, 13, 8, 11, 12, 1, 18, 16, 9, 19, 7])"
      ]
     },
     "execution_count": 410,
     "metadata": {},
     "output_type": "execute_result"
    }
   ],
   "source": [
    "# visualize\n",
    "pyLDAvis.enable_notebook()\n",
    "vis = pyLDAvis.gensim.prepare(lda_model, corpus, dictionary)\n",
    "vis"
   ]
  },
  {
   "cell_type": "code",
   "execution_count": null,
   "metadata": {},
   "outputs": [],
   "source": []
  }
 ],
 "metadata": {
  "colab": {
   "provenance": []
  },
  "kernelspec": {
   "display_name": "Python 3 (ipykernel)",
   "language": "python",
   "name": "python3"
  },
  "language_info": {
   "codemirror_mode": {
    "name": "ipython",
    "version": 3
   },
   "file_extension": ".py",
   "mimetype": "text/x-python",
   "name": "python",
   "nbconvert_exporter": "python",
   "pygments_lexer": "ipython3",
   "version": "3.11.4"
  }
 },
 "nbformat": 4,
 "nbformat_minor": 1
}
